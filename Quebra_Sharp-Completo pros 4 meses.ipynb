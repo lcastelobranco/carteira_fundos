{
 "cells": [
  {
   "cell_type": "code",
   "execution_count": 18,
   "metadata": {},
   "outputs": [],
   "source": [
    "import itertools\n",
    "import pdb\n",
    "import os\n",
    "from helper import *"
   ]
  },
  {
   "cell_type": "code",
   "execution_count": 19,
   "metadata": {
    "tags": []
   },
   "outputs": [
    {
     "output_type": "stream",
     "name": "stdout",
     "text": "[{1, 2}, {1, 3}, {2, 3}]\n"
    }
   ],
   "source": [
    "def findsubsets(s, n): \n",
    "    #return list(itertools.combinations(s, n)) \n",
    "    return list(map(set, itertools.combinations(s, n))) \n",
    "s = {1, 2, 3} \n",
    "n = 2\n",
    "  \n",
    "print(findsubsets(s, n))"
   ]
  },
  {
   "cell_type": "code",
   "execution_count": 20,
   "metadata": {},
   "outputs": [],
   "source": [
    "def mes(apelido_fundo,anomes,tipo):\n",
    "    if tipo == 'acoes':\n",
    "        aux = pd.read_csv('excel_fundos\\\\'+apelido_fundo+'\\\\'+str(anomes)+'.xls',index_col = 0,sep='\\t',decimal= '.')\n",
    "        lista_acoes = ['Obrigações por ações e outros TVM recebidos em empréstimo',\n",
    "                         'Ações e outros TVM cedidos em empréstimo',\n",
    "                         'Ações',\n",
    "                         'Valores a pagar']\n",
    "        \n",
    "        aux.pf_quant = aux.pf_quant.apply(abs)*aux.ativo1.apply(lambda x: -1 if 'VALORES A PAGAR' in x.upper() or 'OBRIGAÇÕES' in x.upper() else 1)\n",
    "        aux.pf_valor_mercado = aux.pf_valor_mercado.apply(abs)*aux.ativo1.apply(lambda x: -1 if 'VALORES A PAGAR' in x.upper() or 'OBRIGAÇÕES' in x.upper() else 1)\n",
    "        #aux.pf_quant = aux.pf_quant*abs(aux.porcent_partrimonio_liquido)/aux.porcent_partrimonio_liquido\n",
    "        #aux.pf_valor_mercado = aux.pf_valor_mercado*abs(aux.porcent_partrimonio_liquido)/aux.porcent_partrimonio_liquido\n",
    "        return aux[aux.ativo1.isin(lista_acoes)]"
   ]
  },
  {
   "cell_type": "code",
   "execution_count": 21,
   "metadata": {},
   "outputs": [],
   "source": [
    "def precos(anomes,ativo):\n",
    "    precos = pd.read_csv(str(anomes)[:-2]+'.txt',index_col=False,sep=';',header=0,chunksize=10000).read()\n",
    "    precos = precos[(precos.CODNEG == ativo)&(precos.TPMERC == 10.0)&(precos.DATA > 100*int(anomes))&(precos.DATA < 100+100*int(anomes))]\n",
    "    return precos"
   ]
  },
  {
   "cell_type": "code",
   "execution_count": 22,
   "metadata": {},
   "outputs": [],
   "source": [
    "def teste(carteira_0,carteira_1,ativo,anomes):\n",
    "    if anomes[4:6] == '01':\n",
    "        fechamento_0 = precos(str(int(anomes)-101+12),ativo).sort_values(by='DATA',ascending=False).iloc[0,10]\n",
    "    else:\n",
    "        fechamento_0 = precos(str(int(anomes)-1),ativo).sort_values(by='DATA',ascending=False).iloc[0,10]\n",
    "    quantidade_referencia =100*( carteira_0[carteira_0.ativo3 == ativo].pf_quant.sum() - carteira_1[~carteira_1.fechado][carteira_1.ativo3 == ativo].pf_quant.sum() )\n",
    "    auxiliar = carteira_1[carteira_1.fechado][carteira_1.candidatos.str.contains(ativo)][['ativo1','aserestudado','vendas_montante','aquis_montante','pf_valor_mercado','cand_pf_quant']].fillna(0).copy()\n",
    "    \n",
    "    preco = precos(anomes,ativo)\n",
    "    maximo = max(preco.PREMAX)\n",
    "    minimo = min(preco.PREMIN)\n",
    "    fechamento_1 = preco.sort_values(by='DATA',ascending=False).iloc[0,10]\n",
    "    \n",
    "    #auxiliar['MAX'] = 100*auxiliar.cand_pf_quant +(auxiliar.vendas_montante+99)/minimo- auxiliar.aquis_montante/maximo\n",
    "    auxiliar['MAX'] = (auxiliar.pf_valor_mercado+99)/fechamento_1 +(auxiliar.vendas_montante+99)/minimo - auxiliar.aquis_montante/maximo\n",
    "    #auxiliar['MIN'] = 100*auxiliar.cand_pf_quant  +auxiliar.vendas_montante/maximo - (auxiliar.aquis_montante+99)/minimo \n",
    "    auxiliar['MIN'] = auxiliar.pf_valor_mercado/fechamento_1 +auxiliar.vendas_montante/maximo - (auxiliar.aquis_montante+99)/minimo \n",
    "    lista = []\n",
    "    #print(fechamento_0,minimo,maximo,fechamento_1,quantidade_referencia,\"\\n\",auxiliar)\n",
    "    #pdb.set_trace()\n",
    "    for k in range(1,len(auxiliar.index)+1):\n",
    "        for j in findsubsets(auxiliar.index, k):\n",
    "            if round(auxiliar[auxiliar.index.isin(j)].MAX.sum()) >= quantidade_referencia >= round(auxiliar[auxiliar.index.isin(j)].MIN.sum()):\n",
    "                if len(auxiliar[auxiliar.index.isin(j)].ativo1) == len(set(auxiliar[auxiliar.index.isin(j)].ativo1)):\n",
    "                    lista.append(j)\n",
    "    \n",
    "    if len(lista) == 1:\n",
    "        print('-------------------'+ativo+'-------------------')\n",
    "        \n",
    "    else:\n",
    "        print(ativo,quantidade_referencia,\"\\n\",auxiliar,\"\\n\",lista)\n",
    "    carteira_1 = completa(ativo,lista[0],carteira_1)\n",
    "    return carteira_1"
   ]
  },
  {
   "cell_type": "code",
   "execution_count": 23,
   "metadata": {},
   "outputs": [],
   "source": [
    "def teste_fraco(carteira_0,carteira_1,ativo,anomes):\n",
    "    if anomes[4:6] == '01':\n",
    "        fechamento_0 = precos(str(int(anomes)-101+12),ativo).sort_values(by='DATA',ascending=False).iloc[0,10]\n",
    "    else:\n",
    "        fechamento_0 = precos(str(int(anomes)-1),ativo).sort_values(by='DATA',ascending=False).iloc[0,10]\n",
    "    quantidade_referencia =100*( carteira_0[carteira_0.ativo3 == ativo].pf_quant.sum() - carteira_1[~carteira_1.fechado][carteira_1.ativo3 == ativo].pf_quant.sum() )\n",
    "    auxiliar = carteira_1[carteira_1.fechado][carteira_1.candidatos.str.contains(ativo)][['ativo1','aserestudado','vendas_montante','aquis_montante','pf_valor_mercado','cand_pf_quant']].fillna(0).copy()\n",
    "    \n",
    "    preco = precos(anomes,ativo)\n",
    "    maximo = max(preco.PREMAX)\n",
    "    minimo = min(preco.PREMIN)\n",
    "    fechamento_1 = preco.sort_values(by='DATA',ascending=False).iloc[0,10]\n",
    "    \n",
    "    #auxiliar['MAX'] = 100*auxiliar.cand_pf_quant +(auxiliar.vendas_montante+99)/minimo- auxiliar.aquis_montante/maximo\n",
    "    auxiliar['MAX'] = (auxiliar.pf_valor_mercado+99)/fechamento_1 +(auxiliar.vendas_montante+99)/minimo - auxiliar.aquis_montante/maximo\n",
    "    #auxiliar['MIN'] = 100*auxiliar.cand_pf_quant  +auxiliar.vendas_montante/maximo - (auxiliar.aquis_montante+99)/minimo \n",
    "    auxiliar['MIN'] = auxiliar.pf_valor_mercado/fechamento_1 +auxiliar.vendas_montante/maximo - (auxiliar.aquis_montante+99)/minimo \n",
    "    lista = []\n",
    "    #print(fechamento_0,minimo,maximo,fechamento_1,quantidade_referencia,\"\\n\",auxiliar)\n",
    "    #pdb.set_trace()\n",
    "    for k in range(1,len(auxiliar.index)+1):\n",
    "        for j in findsubsets(auxiliar.index, k):\n",
    "            if round(auxiliar[auxiliar.index.isin(j)].MAX.sum()) >= quantidade_referencia >= round(auxiliar[auxiliar.index.isin(j)].MIN.sum()):\n",
    "                if len(auxiliar[auxiliar.index.isin(j)].ativo1) == len(set(auxiliar[auxiliar.index.isin(j)].ativo1)):\n",
    "                    lista.append(j)\n",
    "    \n",
    "    if len(lista) == 1:\n",
    "        print('-------------------'+ativo+'-------------------')\n",
    "        carteira_1 = completa(ativo,lista[0],carteira_1)\n",
    "    else:\n",
    "        print(ativo,quantidade_referencia,\"\\n\",auxiliar,\"\\n\",lista)\n",
    "    return carteira_1"
   ]
  },
  {
   "cell_type": "code",
   "execution_count": null,
   "metadata": {},
   "outputs": [],
   "source": []
  },
  {
   "cell_type": "code",
   "execution_count": 24,
   "metadata": {},
   "outputs": [],
   "source": [
    "def filtro_alfabetico(carteira,alfabetico,aserestudado_com_varios_ativo3=[]):\n",
    "    if type(aserestudado_com_varios_ativo3) != list:\n",
    "        aserestudado_com_varios_ativo3 = [aserestudado_com_varios_ativo3]\n",
    "    teste = carteira.copy()\n",
    "    for aserestudado,ativo3,grupo in teste[~teste.ativo3.isnull()][~teste.aserestudado.isin(aserestudado_com_varios_ativo3)][['aserestudado','ativo3','grupo']].values:\n",
    "    #for aserestudado,ativo3,grupo in teste[['aserestudado','ativo3','grupo']].values:\n",
    "        if alfabetico:\n",
    "            dropar = teste[(teste.grupo==grupo)&(teste.aserestudado>aserestudado)&(teste.candidatos<=ativo3)].index\n",
    "            teste.drop(list(dropar), inplace=True)\n",
    "            dropar = teste[(teste.grupo==grupo)&(teste.aserestudado<aserestudado)&(teste.candidatos>=ativo3)].index\n",
    "            teste.drop(list(dropar), inplace=True)\n",
    "        else:\n",
    "            dropar = teste[(teste.grupo==grupo)&(teste.aserestudado>aserestudado)&(teste.candidatos>=ativo3)].index\n",
    "            teste.drop(list(dropar), inplace=True)\n",
    "            dropar = teste[(teste.grupo==grupo)&(teste.aserestudado<aserestudado)&(teste.candidatos<=ativo3)].index\n",
    "            teste.drop(list(dropar), inplace=True)\n",
    "    return teste\n",
    "    "
   ]
  },
  {
   "cell_type": "code",
   "execution_count": 25,
   "metadata": {},
   "outputs": [],
   "source": [
    "def filtro_unico_index(carteira,aserestudado_sem_nenhum_ativo3=[]):\n",
    "    carteira = carteira.copy()\n",
    "    if type(aserestudado_sem_nenhum_ativo3) != list:\n",
    "        aserestudado_sem_nenhum_ativo3 = [aserestudado_sem_nenhum_ativo3]\n",
    "    CONFUSAO = carteira[~carteira.aserestudado.isin(aserestudado_sem_nenhum_ativo3)].groupby(by='aserestudado').count()[['ativo3']]\n",
    "    if (CONFUSAO.ativo3==1).all():\n",
    "        print('trabalho concluido'.upper())\n",
    "        return carteira[(carteira.ativo3.notnull())|(carteira.aserestudado.isin(aserestudado_sem_nenhum_ativo3))].sort_values(['aserestudado','candidatos'])\n",
    "    else:\n",
    "        \n",
    "        print(CONFUSAO[CONFUSAO.ativo3>1])\n",
    "        print(CONFUSAO[CONFUSAO.ativo3==0])\n",
    "        return carteira.sort_values(['aserestudado','candidatos'])"
   ]
  },
  {
   "cell_type": "code",
   "execution_count": 26,
   "metadata": {},
   "outputs": [],
   "source": [
    "def separa_blocos(carteira_pandas):\n",
    "    \n",
    "    \n",
    "    \n",
    "    teste = carteira_pandas.sort_values(by='aserestudado').copy()\n",
    "\n",
    "\n",
    "    assert len(teste[teste.ativo1.str.upper() == 'disponibilidades'.upper()].index )==1\n",
    "    assert len(teste[teste.ativo1.str.upper() == 'Valores a receber'.upper()].index )==1\n",
    "\n",
    "\n",
    "\n",
    "    alfabetico = teste[teste.ativo1.str.upper() == 'disponibilidades'.upper()].aserestudado.values[0] < teste[teste.ativo1.str.upper() == 'Valores a receber'.upper()].aserestudado.values[0] \n",
    "\n",
    "    if not alfabetico:\n",
    "        teste =teste.sort_values(by=['candidatos'],ascending=False).sort_values(by=['aserestudado'])\n",
    "    \n",
    "    \n",
    "    assert len(teste[teste.ativo1.str.upper() == 'Obrigações por ações e outros TVM recebidos em empréstimo'.upper()].index )==0\n",
    "    assert len(teste[teste.ativo1.str.upper() == 'Outros valores mobiliÃ¡rios registrados na CVM objeto de oferta pública'.upper()].index )==0\n",
    "    assert len(teste[teste.ativo1.str.upper() == 'Valores a pagar'.upper()].index )<=1\n",
    "\n",
    "    disponibilidade = teste[teste.ativo1.str.upper() == 'disponibilidades'.upper()].aserestudado.values[0]\n",
    "    valor_receber =teste[teste.ativo1.str.upper() == 'Valores a receber'.upper()].aserestudado.values[0]\n",
    "\n",
    "\n",
    "    teste['grupo'] = 0\n",
    "    \n",
    "    if not alfabetico:\n",
    "        print('ISSO ESTA ERRADO, QUANDO É NÃO ALFABETICO (olhar squadra 202004 o aserestudado 58331405 q vc vai entender)')\n",
    "        print('Tento by passar usando a localização de algum Investimento no Exterior')\n",
    "        #return\n",
    "\n",
    "        investimento_exterior_aserestudado =teste[teste.ativo1.str.upper() == 'Investimento no Exterior'.upper()].aserestudado.values[0]\n",
    "\n",
    "\n",
    "\n",
    "        #Aqui considero que se houver mais de um valor a pagar, ele vaão estar separados\n",
    "        lista = ['Obrigações por ações e outros TVM recebidos em empréstimo',\n",
    "                            'Ações',\n",
    "                            'Certificado ou recibo de depósito de valores mobiliários',\n",
    "                            'Valores a pagar']\n",
    "        grupo_1 = teste[teste.aserestudado<valor_receber][teste.ativo1.isin(lista)].index\n",
    "        teste.loc[grupo_1,'grupo']= 1\n",
    "\n",
    "        lista = ['Ações e outros TVM cedidos em empréstimo']\n",
    "        grupo_1 = teste[teste.aserestudado<valor_receber][teste.ativo1.isin(lista)].index\n",
    "        teste.loc[grupo_1,'grupo']= 2\n",
    "\n",
    "\n",
    "\n",
    "\n",
    "\n",
    "        #Aqui considero que se houver mais de um valor a pagar, ele vaão estar separados\n",
    "        lista = ['Obrigações por ações e outros TVM recebidos em empréstimo',\n",
    "                            'Outros valores mobiliÃ¡rios registrados na CVM objeto de oferta pública',\n",
    "                            'Ações',\n",
    "                            'Certificado ou recibo de depósito de valores mobiliários',\n",
    "                            'Valores a pagar',\n",
    "                            'Brazilian Depository Receipt - BDR']\n",
    "        grupo_1 = teste[teste.aserestudado>investimento_exterior_aserestudado][teste.aserestudado<valor_receber][teste.ativo1.isin(lista)].index\n",
    "        teste.loc[grupo_1,'grupo']= 3\n",
    "\n",
    "        lista = ['Ações e outros TVM cedidos em empréstimo']\n",
    "        grupo_1 = teste[teste.aserestudado>investimento_exterior_aserestudado][teste.aserestudado<valor_receber][teste.ativo1.isin(lista)].index\n",
    "        teste.loc[grupo_1,'grupo']= 4\n",
    "\n",
    "    else:\n",
    "        #Aqui considero que se houver mais de um valor a pagar, ele vaão estar separados\n",
    "        lista = ['Obrigações por ações e outros TVM recebidos em empréstimo',\n",
    "                            'Ações',\n",
    "                            'Certificado ou recibo de depósito de valores mobiliários',\n",
    "                            'Valores a pagar']\n",
    "        grupo_1 = teste[teste.aserestudado<disponibilidade][teste.ativo1.isin(lista)].index\n",
    "        teste.loc[grupo_1,'grupo']= 1\n",
    "\n",
    "        lista = ['Ações e outros TVM cedidos em empréstimo']\n",
    "        grupo_1 = teste[teste.aserestudado<disponibilidade][teste.ativo1.isin(lista)].index\n",
    "        teste.loc[grupo_1,'grupo']= 2\n",
    "\n",
    "\n",
    "\n",
    "\n",
    "\n",
    "        #Aqui considero que se houver mais de um valor a pagar, ele vaão estar separados\n",
    "        lista = ['Obrigações por ações e outros TVM recebidos em empréstimo',\n",
    "                            'Outros valores mobiliÃ¡rios registrados na CVM objeto de oferta pública',\n",
    "                            'Ações',\n",
    "                            'Certificado ou recibo de depósito de valores mobiliários',\n",
    "                            'Valores a pagar',\n",
    "                            'Brazilian Depository Receipt - BDR']\n",
    "        grupo_1 = teste[teste.aserestudado>valor_receber][teste.ativo1.isin(lista)].index\n",
    "        teste.loc[grupo_1,'grupo']= 3\n",
    "\n",
    "        lista = ['Ações e outros TVM cedidos em empréstimo']\n",
    "        grupo_1 = teste[teste.aserestudado>valor_receber][teste.ativo1.isin(lista)].index\n",
    "        teste.loc[grupo_1,'grupo']= 4\n",
    "\n",
    "\n",
    "\n",
    "\n",
    "\n",
    "    for t in set(teste.grupo) :\n",
    "        if t != 0 and teste[teste.grupo==t].ativo3.apply(pd.isna).all() :\n",
    "            print('grupo',t,'todos os ativos1 são nulos')\n",
    "\n",
    "    return teste,alfabetico"
   ]
  },
  {
   "cell_type": "code",
   "execution_count": null,
   "metadata": {},
   "outputs": [],
   "source": []
  },
  {
   "cell_type": "code",
   "execution_count": 30,
   "metadata": {
    "tags": []
   },
   "outputs": [
    {
     "output_type": "stream",
     "name": "stdout",
     "text": "Wall time: 1.3 s\n"
    }
   ],
   "source": [
    "anomes = 202004\n",
    "apelido_fundo = 'velt'.upper()\n",
    "\n",
    "\n",
    "%time carteira_pandas,fundo,fundo_cnpj,adm,adm_cnpj,pl,hora_recebimento = parse_html_tudo_int(apelido_fundo,anomes,candidatos=True)"
   ]
  },
  {
   "cell_type": "code",
   "execution_count": 31,
   "metadata": {
    "tags": []
   },
   "outputs": [],
   "source": [
    "carteira_pandas,alfabetico = separa_blocos(carteira_pandas)\n",
    "carteira_pandas[carteira_pandas.grupo == 1]\n",
    "aux = carteira_pandas.copy()"
   ]
  },
  {
   "cell_type": "code",
   "execution_count": 32,
   "metadata": {},
   "outputs": [
    {
     "output_type": "execute_result",
     "data": {
      "text/plain": "True"
     },
     "metadata": {},
     "execution_count": 32
    }
   ],
   "source": []
  },
  {
   "cell_type": "code",
   "execution_count": 33,
   "metadata": {
    "tags": []
   },
   "outputs": [
    {
     "output_type": "stream",
     "name": "stdout",
     "text": "Wall time: 1.12 s\n"
    }
   ],
   "source": [
    "anomes = 202005\n",
    "apelido_fundo = 'velt'.upper()\n",
    "\n",
    "\n",
    "%time carteira_pandas,fundo,fundo_cnpj,adm,adm_cnpj,pl,hora_recebimento = parse_html_tudo_int(apelido_fundo,anomes,candidatos=True)"
   ]
  },
  {
   "cell_type": "code",
   "execution_count": 34,
   "metadata": {
    "tags": []
   },
   "outputs": [
    {
     "output_type": "stream",
     "name": "stdout",
     "text": "ISSO ESTA ERRADO, QUANDO É NÃO ALFABETICO (olhar squadra 202004 o aserestudado 58331405 q vc vai entender)\nTento by passar usando a localização de algum Investimento no Exterior\ngrupo 2 todos os ativos1 são nulos\n"
    }
   ],
   "source": [
    "carteira_pandas,alfabetico = separa_blocos(carteira_pandas)"
   ]
  },
  {
   "cell_type": "code",
   "execution_count": null,
   "metadata": {},
   "outputs": [],
   "source": []
  },
  {
   "cell_type": "code",
   "execution_count": 36,
   "metadata": {},
   "outputs": [
    {
     "output_type": "execute_result",
     "data": {
      "text/plain": "{'Cotas de Fundos',\n 'Disponibilidades',\n 'Investimento no Exterior',\n 'Mercado Futuro - Posições vendidas',\n 'Outras aplicações',\n 'Valores a pagar',\n 'Valores a receber'}"
     },
     "metadata": {},
     "execution_count": 36
    }
   ],
   "source": [
    "set(carteira_pandas[carteira_pandas.grupo == 0].ativo1)"
   ]
  },
  {
   "cell_type": "code",
   "execution_count": 205,
   "metadata": {},
   "outputs": [],
   "source": []
  },
  {
   "cell_type": "code",
   "execution_count": 204,
   "metadata": {},
   "outputs": [],
   "source": [
    "def explodir(carteira_pandas,alfabetico):\n",
    "    teste = carteira_pandas[carteira_pandas.grupo!=0]\n",
    "    assert len(teste[teste.candidatos.isnull()]) ==0\n",
    "    teste = pd.DataFrame(columns=['index','aserestudado','ativo1','ativo2','ativo3','ativo4','classificacao','emp_ligada','vendas_quant','vendas_montante','aquis_quant','aquis_montante','pf_quant','pf_valor_custo','pf_valor_mercado','porcent_partrimonio_liquido','fechado','candidatos','cand_pf_quant', 'grupo'],data=[(index,aserestudado,ativo1,ativo2,ativo3,ativo4,classificacao,emp_ligada,vendas_quant,vendas_montante,aquis_quant,aquis_montante,pf_quant,pf_valor_custo,pf_valor_mercado,porcent_partrimonio_liquido,fechado,c,q,grupo) if pd.isnull(ativo3) else (index,aserestudado,ativo1,ativo2,ativo3,ativo4,classificacao,emp_ligada,vendas_quant,vendas_montante,aquis_quant,aquis_montante,pf_quant,pf_valor_custo,pf_valor_mercado,porcent_partrimonio_liquido,fechado,ativo3,pf_quant,grupo) for (index,aserestudado,ativo1,ativo2,ativo3,ativo4,classificacao,emp_ligada,vendas_quant,vendas_montante,aquis_quant,aquis_montante,pf_quant,pf_valor_custo,pf_valor_mercado,porcent_partrimonio_liquido,fechado,candidatos,cand_pf_quant,grupo) in teste.reset_index().values  for (c,q) in zip(candidatos,cand_pf_quant) ]).set_index('index')\n",
    "    teste = teste.drop_duplicates().sort_values(by='aserestudado').reset_index().rename(columns={'index':'position'})\n",
    "    \n",
    "\n",
    "    teste = filtro_alfabetico(teste,alfabetico)\n",
    "    teste.pf_quant = teste.cand_pf_quant\n",
    "    \n",
    "    \n",
    "    teste.pf_quant = teste.pf_quant.apply(abs)*teste.ativo1.apply(lambda x: -1 if 'VALORES A PAGAR' in x.upper() or 'OBRIGAÇÕES' in x.upper() else 1)\n",
    "    teste.pf_valor_mercado = teste.pf_valor_mercado.apply(abs)*teste.ativo1.apply(lambda x: -1 if 'VALORES A PAGAR' in x.upper() or 'OBRIGAÇÕES' in x.upper() else 1)\n",
    "    \n",
    "    \n",
    "    \n",
    "    return teste"
   ]
  },
  {
   "cell_type": "code",
   "execution_count": 38,
   "metadata": {
    "tags": []
   },
   "outputs": [],
   "source": [
    "explodido = explodir(carteira_pandas,alfabetico)"
   ]
  },
  {
   "cell_type": "code",
   "execution_count": null,
   "metadata": {},
   "outputs": [],
   "source": []
  },
  {
   "cell_type": "code",
   "execution_count": 39,
   "metadata": {},
   "outputs": [],
   "source": [
    "def completa(ativo,linhas,teste):\n",
    "    for i in linhas:\n",
    "        teste.loc[int(i),'ativo3'] = ativo\n",
    "    return teste"
   ]
  },
  {
   "cell_type": "code",
   "execution_count": null,
   "metadata": {},
   "outputs": [],
   "source": []
  },
  {
   "cell_type": "code",
   "execution_count": null,
   "metadata": {},
   "outputs": [],
   "source": []
  },
  {
   "cell_type": "code",
   "execution_count": 40,
   "metadata": {},
   "outputs": [],
   "source": [
    "lista_acoes = ['Obrigações por ações e outros TVM recebidos em empréstimo',\n",
    "                 'Ações e outros TVM cedidos em empréstimo',\n",
    "                 'Ações',\n",
    "                 'Certificado ou recibo de depósito de valores mobiliários', \n",
    "                 'Valores a pagar']\n",
    "\n",
    "aux.pf_quant = aux.pf_quant.apply(abs)*aux.ativo1.apply(lambda x: -1 if 'VALORES A PAGAR' in x.upper() or 'OBRIGAÇÕES' in x.upper() else 1)\n",
    "aux.pf_valor_mercado = aux.pf_valor_mercado.apply(abs)*aux.ativo1.apply(lambda x: -1 if 'VALORES A PAGAR' in x.upper() or 'OBRIGAÇÕES' in x.upper() else 1)\n",
    "aux =  aux[aux.ativo1.isin(lista_acoes)]\n"
   ]
  },
  {
   "cell_type": "code",
   "execution_count": 45,
   "metadata": {},
   "outputs": [
    {
     "output_type": "execute_result",
     "data": {
      "text/plain": "array(['HGTX3', 'MGLU3', 'ANIM3', 'AZUL4', 'B3SA3', 'BIDI11', 'BRML3',\n       'CSAN3', 'CVCB3', 'ENEV3', 'ENGI11', 'EQTL3', 'GNDI3', 'HAPV3',\n       'IGTA3', 'ITSA4', 'ITUB4', 'MILS3', 'MRVE3', 'NTCO3', 'PCAR3',\n       'PETR4', 'RAIL3', 'RENT3', 'SEER3', 'SHOW3', 'SULA11', 'TEND3',\n       'VALE3', 'Valores a Pagar', 'BPAC11'], dtype=object)"
     },
     "metadata": {},
     "execution_count": 45
    }
   ],
   "source": [
    "aux.ativo3.unique()"
   ]
  },
  {
   "cell_type": "code",
   "execution_count": 43,
   "metadata": {},
   "outputs": [],
   "source": [
    "aux.loc[22,'ativo3'] = 'BPAC11'"
   ]
  },
  {
   "cell_type": "code",
   "execution_count": null,
   "metadata": {},
   "outputs": [],
   "source": []
  },
  {
   "cell_type": "code",
   "execution_count": 47,
   "metadata": {
    "tags": []
   },
   "outputs": [
    {
     "output_type": "stream",
     "name": "stdout",
     "text": "-------------------ANIM3-------------------\nAZUL4 118106500.0 \n Empty DataFrame\nColumns: [ativo1, aserestudado, vendas_montante, aquis_montante, pf_valor_mercado, cand_pf_quant, MAX, MIN]\nIndex: [] \n []\nB3SA3 -20770000.0 \n Empty DataFrame\nColumns: [ativo1, aserestudado, vendas_montante, aquis_montante, pf_valor_mercado, cand_pf_quant, MAX, MIN]\nIndex: [] \n []\nBIDI11 128118800.0 \n                                                  ativo1  aserestudado  \\\n1375  Certificado ou recibo de depósito de valores m...      58881820   \n\n      vendas_montante  aquis_montante  pf_valor_mercado  cand_pf_quant  \\\n1375              0.0             0.0        4719079600      1404488.0   \n\n               MAX           MIN  \n1375  1.404488e+08  1.404488e+08   \n []\nBPAC11 45510000.0 \n Empty DataFrame\nColumns: [ativo1, aserestudado, vendas_montante, aquis_montante, pf_valor_mercado, cand_pf_quant, MAX, MIN]\nIndex: [] \n []\n-------------------BRML3-------------------\nCSAN3 24387000.0 \n Empty DataFrame\nColumns: [ativo1, aserestudado, vendas_montante, aquis_montante, pf_valor_mercado, cand_pf_quant, MAX, MIN]\nIndex: [] \n []\n-------------------CVCB3-------------------\n-------------------ENEV3-------------------\nENGI11 98022700.0 \n                                                  ativo1  aserestudado  \\\n1097  Certificado ou recibo de depósito de valores m...      58881816   \n\n      vendas_montante  aquis_montante  pf_valor_mercado  cand_pf_quant  \\\n1097              0.0             0.0        5104003200      1074527.0   \n\n               MAX           MIN  \n1097  1.074527e+08  1.074527e+08   \n []\n-------------------EQTL3-------------------\nGNDI3 36880500.0 \n Empty DataFrame\nColumns: [ativo1, aserestudado, vendas_montante, aquis_montante, pf_valor_mercado, cand_pf_quant, MAX, MIN]\nIndex: [] \n []\n-------------------HAPV3-------------------\n-------------------HGTX3-------------------\n-------------------IGTA3-------------------\n-------------------ITSA4-------------------\nITUB4 -26560000.0 \n Empty DataFrame\nColumns: [ativo1, aserestudado, vendas_montante, aquis_montante, pf_valor_mercado, cand_pf_quant, MAX, MIN]\nIndex: [] \n []\nMGLU3 5711000.0 \n Empty DataFrame\nColumns: [ativo1, aserestudado, vendas_montante, aquis_montante, pf_valor_mercado, cand_pf_quant, MAX, MIN]\nIndex: [] \n []\n-------------------MILS3-------------------\n-------------------MRVE3-------------------\n-------------------NTCO3-------------------\n-------------------PCAR3-------------------\nPETR4 184830000.0 \n Empty DataFrame\nColumns: [ativo1, aserestudado, vendas_montante, aquis_montante, pf_valor_mercado, cand_pf_quant, MAX, MIN]\nIndex: [] \n []\n-------------------RAIL3-------------------\n-------------------RENT3-------------------\n-------------------SEER3-------------------\n-------------------SHOW3-------------------\nSULA11 123970000.0 \n                                                ativo1  aserestudado  \\\n89  Certificado ou recibo de depósito de valores m...      58881799   \n\n    vendas_montante  aquis_montante  pf_valor_mercado  cand_pf_quant  \\\n89              0.0             0.0        6095115000      1359000.0   \n\n             MAX           MIN  \n89  1.359000e+08  1.359000e+08   \n []\n-------------------TEND3-------------------\nVALE3 49310000.0 \n Empty DataFrame\nColumns: [ativo1, aserestudado, vendas_montante, aquis_montante, pf_valor_mercado, cand_pf_quant, MAX, MIN]\nIndex: [] \n []\n"
    }
   ],
   "source": [
    "MES0 = aux.copy()\n",
    "MES1 = explodido.copy()\n",
    "for ativo in sorted(list({x for x in aux.ativo3 if pd.notna(x)})):\n",
    "    if ativo.upper() not in ('MRSA5B','MRSA3B','MOAR3','EUCA4','USIM6','TIET12','Valores a Pagar'.upper()):\n",
    "        MES1 = teste_fraco(MES0,MES1,ativo,'202005')"
   ]
  },
  {
   "cell_type": "code",
   "execution_count": null,
   "metadata": {},
   "outputs": [],
   "source": []
  },
  {
   "cell_type": "code",
   "execution_count": null,
   "metadata": {},
   "outputs": [],
   "source": []
  },
  {
   "cell_type": "code",
   "execution_count": 53,
   "metadata": {},
   "outputs": [
    {
     "output_type": "execute_result",
     "data": {
      "text/plain": "Empty DataFrame\nColumns: [ativo3]\nIndex: []",
      "text/html": "<div>\n<style scoped>\n    .dataframe tbody tr th:only-of-type {\n        vertical-align: middle;\n    }\n\n    .dataframe tbody tr th {\n        vertical-align: top;\n    }\n\n    .dataframe thead th {\n        text-align: right;\n    }\n</style>\n<table border=\"1\" class=\"dataframe\">\n  <thead>\n    <tr style=\"text-align: right;\">\n      <th></th>\n      <th>ativo3</th>\n    </tr>\n    <tr>\n      <th>aserestudado</th>\n      <th></th>\n    </tr>\n  </thead>\n  <tbody>\n  </tbody>\n</table>\n</div>"
     },
     "metadata": {},
     "execution_count": 53
    }
   ],
   "source": [
    "CONFUSAO = MES1.groupby(by='aserestudado').count()[['ativo3']]\n",
    "CONFUSAO[CONFUSAO.ativo3>1]"
   ]
  },
  {
   "cell_type": "code",
   "execution_count": 54,
   "metadata": {},
   "outputs": [
    {
     "output_type": "execute_result",
     "data": {
      "text/plain": "              ativo3\naserestudado        \n58881799           0\n58881816           0\n58881820           0",
      "text/html": "<div>\n<style scoped>\n    .dataframe tbody tr th:only-of-type {\n        vertical-align: middle;\n    }\n\n    .dataframe tbody tr th {\n        vertical-align: top;\n    }\n\n    .dataframe thead th {\n        text-align: right;\n    }\n</style>\n<table border=\"1\" class=\"dataframe\">\n  <thead>\n    <tr style=\"text-align: right;\">\n      <th></th>\n      <th>ativo3</th>\n    </tr>\n    <tr>\n      <th>aserestudado</th>\n      <th></th>\n    </tr>\n  </thead>\n  <tbody>\n    <tr>\n      <th>58881799</th>\n      <td>0</td>\n    </tr>\n    <tr>\n      <th>58881816</th>\n      <td>0</td>\n    </tr>\n    <tr>\n      <th>58881820</th>\n      <td>0</td>\n    </tr>\n  </tbody>\n</table>\n</div>"
     },
     "metadata": {},
     "execution_count": 54
    }
   ],
   "source": [
    "#papeis que ele Não achou\n",
    "CONFUSAO = MES1.groupby(by='aserestudado').count()[['ativo3']]\n",
    "CONFUSAO[CONFUSAO.ativo3<1]"
   ]
  },
  {
   "cell_type": "code",
   "execution_count": 22,
   "metadata": {},
   "outputs": [],
   "source": [
    "\n"
   ]
  },
  {
   "cell_type": "code",
   "execution_count": 22,
   "metadata": {},
   "outputs": [],
   "source": [
    " "
   ]
  },
  {
   "cell_type": "code",
   "execution_count": 50,
   "metadata": {},
   "outputs": [],
   "source": [
    "#Antes de rodar o filtro_alfabetico preciso me certicicar que não há nenhuma linha com mais de um valor na coluna ativo3, ou seja nenhum aserestudado_com_varios_ativo3, ou seja, que  len(CONFUSAO[CONFUSAO.ativo3>1]) == 0\n",
    "assert len(CONFUSAO[CONFUSAO.ativo3>1]) == 0\n",
    "MES1 = filtro_alfabetico(MES1,alfabetico)"
   ]
  },
  {
   "cell_type": "code",
   "execution_count": 52,
   "metadata": {},
   "outputs": [],
   "source": [
    "\n",
    "assert len(CONFUSAO[CONFUSAO.ativo3>1]) != 0\n",
    "MES1 = filtro_alfabetico(MES1,alfabetico,aserestudado_com_varios_ativo3=[58881799,58881816,58881820])"
   ]
  },
  {
   "cell_type": "code",
   "execution_count": null,
   "metadata": {},
   "outputs": [],
   "source": []
  },
  {
   "cell_type": "code",
   "execution_count": 57,
   "metadata": {},
   "outputs": [],
   "source": [
    "#Não achou\n",
    "nao_achou = MES1[MES1.aserestudado.isin(CONFUSAO[CONFUSAO.ativo3<1].index)]"
   ]
  },
  {
   "cell_type": "code",
   "execution_count": null,
   "metadata": {},
   "outputs": [],
   "source": []
  },
  {
   "cell_type": "code",
   "execution_count": 58,
   "metadata": {},
   "outputs": [
    {
     "output_type": "execute_result",
     "data": {
      "text/plain": "    aserestudado                                             ativo1  \\\n31      58385988  Certificado ou recibo de depósito de valores m...   \n30      58385993  Certificado ou recibo de depósito de valores m...   \n29      58386011  Certificado ou recibo de depósito de valores m...   \n\n         ativo2  ativo3                      ativo4    classificacao  \\\n31  Cod. Ativo:  BIDI11  Dt. Ini. Vigen.:18/07/2019  Para negociacao   \n30  Cod. Ativo:  ENGI11  Dt. Ini. Vigen.:03/11/2009  Para negociacao   \n29  Cod. Ativo:  SULA11  Dt. Ini. Vigen.:05/10/2007  Para negociacao   \n\n   emp_ligada  vendas_quant  vendas_montante  aquis_quant  aquis_montante  \\\n31        Nao           NaN              NaN          NaN             NaN   \n30        Nao           NaN              NaN          NaN             NaN   \n29        Nao           NaN              NaN          NaN             NaN   \n\n     pf_quant pf_valor_custo  pf_valor_mercado  porcent_partrimonio_liquido  \\\n31  1281188.0            NaN        3525829376                        1.562   \n30   980227.0            NaN        4283591990                        1.898   \n29  1239700.0            NaN        5547657500                        2.458   \n\n    fechado                                         candidatos  \\\n31    False  [A1GI34, ABEV3, ADHM3, ALUP4, ATOM3, AZEV3, AZ...   \n30    False  [ABEV3, AMAR3, APTV34, ARZZ3, ATMP3, ATOM3, AZ...   \n29    False  [A1LK34, ADHM3, AHEB3, AZEV4, BALM3, BEES3, BM...   \n\n                                        cand_pf_quant  grupo  \n31  [164451, 3109197, 14217054, 5535054, 26312160,...      1  \n30  [3777418, 6519927, 265748, 1007904, 7187235, 3...      1  \n29  [344575, 22369587, 2412025, 20173300, 4824050,...      1  ",
      "text/html": "<div>\n<style scoped>\n    .dataframe tbody tr th:only-of-type {\n        vertical-align: middle;\n    }\n\n    .dataframe tbody tr th {\n        vertical-align: top;\n    }\n\n    .dataframe thead th {\n        text-align: right;\n    }\n</style>\n<table border=\"1\" class=\"dataframe\">\n  <thead>\n    <tr style=\"text-align: right;\">\n      <th></th>\n      <th>aserestudado</th>\n      <th>ativo1</th>\n      <th>ativo2</th>\n      <th>ativo3</th>\n      <th>ativo4</th>\n      <th>classificacao</th>\n      <th>emp_ligada</th>\n      <th>vendas_quant</th>\n      <th>vendas_montante</th>\n      <th>aquis_quant</th>\n      <th>aquis_montante</th>\n      <th>pf_quant</th>\n      <th>pf_valor_custo</th>\n      <th>pf_valor_mercado</th>\n      <th>porcent_partrimonio_liquido</th>\n      <th>fechado</th>\n      <th>candidatos</th>\n      <th>cand_pf_quant</th>\n      <th>grupo</th>\n    </tr>\n  </thead>\n  <tbody>\n    <tr>\n      <th>31</th>\n      <td>58385988</td>\n      <td>Certificado ou recibo de depósito de valores m...</td>\n      <td>Cod. Ativo:</td>\n      <td>BIDI11</td>\n      <td>Dt. Ini. Vigen.:18/07/2019</td>\n      <td>Para negociacao</td>\n      <td>Nao</td>\n      <td>NaN</td>\n      <td>NaN</td>\n      <td>NaN</td>\n      <td>NaN</td>\n      <td>1281188.0</td>\n      <td>NaN</td>\n      <td>3525829376</td>\n      <td>1.562</td>\n      <td>False</td>\n      <td>[A1GI34, ABEV3, ADHM3, ALUP4, ATOM3, AZEV3, AZ...</td>\n      <td>[164451, 3109197, 14217054, 5535054, 26312160,...</td>\n      <td>1</td>\n    </tr>\n    <tr>\n      <th>30</th>\n      <td>58385993</td>\n      <td>Certificado ou recibo de depósito de valores m...</td>\n      <td>Cod. Ativo:</td>\n      <td>ENGI11</td>\n      <td>Dt. Ini. Vigen.:03/11/2009</td>\n      <td>Para negociacao</td>\n      <td>Nao</td>\n      <td>NaN</td>\n      <td>NaN</td>\n      <td>NaN</td>\n      <td>NaN</td>\n      <td>980227.0</td>\n      <td>NaN</td>\n      <td>4283591990</td>\n      <td>1.898</td>\n      <td>False</td>\n      <td>[ABEV3, AMAR3, APTV34, ARZZ3, ATMP3, ATOM3, AZ...</td>\n      <td>[3777418, 6519927, 265748, 1007904, 7187235, 3...</td>\n      <td>1</td>\n    </tr>\n    <tr>\n      <th>29</th>\n      <td>58386011</td>\n      <td>Certificado ou recibo de depósito de valores m...</td>\n      <td>Cod. Ativo:</td>\n      <td>SULA11</td>\n      <td>Dt. Ini. Vigen.:05/10/2007</td>\n      <td>Para negociacao</td>\n      <td>Nao</td>\n      <td>NaN</td>\n      <td>NaN</td>\n      <td>NaN</td>\n      <td>NaN</td>\n      <td>1239700.0</td>\n      <td>NaN</td>\n      <td>5547657500</td>\n      <td>2.458</td>\n      <td>False</td>\n      <td>[A1LK34, ADHM3, AHEB3, AZEV4, BALM3, BEES3, BM...</td>\n      <td>[344575, 22369587, 2412025, 20173300, 4824050,...</td>\n      <td>1</td>\n    </tr>\n  </tbody>\n</table>\n</div>"
     },
     "metadata": {},
     "execution_count": 58
    }
   ],
   "source": [
    "MES0[MES0.ativo1.str.contains('Certificado')]"
   ]
  },
  {
   "cell_type": "code",
   "execution_count": null,
   "metadata": {},
   "outputs": [],
   "source": [
    "[58881799,58881816,58881820]"
   ]
  },
  {
   "cell_type": "code",
   "execution_count": 62,
   "metadata": {},
   "outputs": [
    {
     "output_type": "execute_result",
     "data": {
      "text/plain": "      index  aserestudado                                             ativo1  \\\n1097     34      58881816  Certificado ou recibo de depósito de valores m...   \n\n     ativo2 ativo3 ativo4    classificacao emp_ligada  vendas_quant  \\\n1097    NaN    NaN    NaN  Para negociacao        Nao           NaN   \n\n      vendas_montante  aquis_quant  aquis_montante   pf_quant  pf_valor_custo  \\\n1097              NaN          NaN             NaN  1074527.0             NaN   \n\n      pf_valor_mercado  porcent_partrimonio_liquido  fechado candidatos  \\\n1097        5104003200                          1.0     True     ENGI11   \n\n      cand_pf_quant  grupo  \n1097      1074527.0      1  ",
      "text/html": "<div>\n<style scoped>\n    .dataframe tbody tr th:only-of-type {\n        vertical-align: middle;\n    }\n\n    .dataframe tbody tr th {\n        vertical-align: top;\n    }\n\n    .dataframe thead th {\n        text-align: right;\n    }\n</style>\n<table border=\"1\" class=\"dataframe\">\n  <thead>\n    <tr style=\"text-align: right;\">\n      <th></th>\n      <th>index</th>\n      <th>aserestudado</th>\n      <th>ativo1</th>\n      <th>ativo2</th>\n      <th>ativo3</th>\n      <th>ativo4</th>\n      <th>classificacao</th>\n      <th>emp_ligada</th>\n      <th>vendas_quant</th>\n      <th>vendas_montante</th>\n      <th>aquis_quant</th>\n      <th>aquis_montante</th>\n      <th>pf_quant</th>\n      <th>pf_valor_custo</th>\n      <th>pf_valor_mercado</th>\n      <th>porcent_partrimonio_liquido</th>\n      <th>fechado</th>\n      <th>candidatos</th>\n      <th>cand_pf_quant</th>\n      <th>grupo</th>\n    </tr>\n  </thead>\n  <tbody>\n    <tr>\n      <th>1097</th>\n      <td>34</td>\n      <td>58881816</td>\n      <td>Certificado ou recibo de depósito de valores m...</td>\n      <td>NaN</td>\n      <td>NaN</td>\n      <td>NaN</td>\n      <td>Para negociacao</td>\n      <td>Nao</td>\n      <td>NaN</td>\n      <td>NaN</td>\n      <td>NaN</td>\n      <td>NaN</td>\n      <td>1074527.0</td>\n      <td>NaN</td>\n      <td>5104003200</td>\n      <td>1.0</td>\n      <td>True</td>\n      <td>ENGI11</td>\n      <td>1074527.0</td>\n      <td>1</td>\n    </tr>\n  </tbody>\n</table>\n</div>"
     },
     "metadata": {},
     "execution_count": 62
    }
   ],
   "source": [
    "MES1[MES1.candidatos=='ENGI11']"
   ]
  },
  {
   "cell_type": "code",
   "execution_count": 63,
   "metadata": {
    "tags": []
   },
   "outputs": [
    {
     "output_type": "stream",
     "name": "stdout",
     "text": "TRABALHO CONCLUIDO\n"
    },
    {
     "output_type": "execute_result",
     "data": {
      "text/plain": "      index  aserestudado                                             ativo1  \\\n18       28      58881798                                              Ações   \n89       33      58881799  Certificado ou recibo de depósito de valores m...   \n163      31      58881800                                              Ações   \n238      29      58881801                                              Ações   \n277      26      58881802                                              Ações   \n346      20      58881803                                              Ações   \n432       3      58881804                                              Ações   \n440      23      58881805                                              Ações   \n501      14      58881806                                              Ações   \n587      19      58881807                                              Ações   \n651      30      58881808                                              Ações   \n714       0      58881809                                              Ações   \n715       2      58881810                                              Ações   \n772      22      58881811                                              Ações   \n834      24      58881812                                              Ações   \n897      21      58881813                                              Ações   \n979      16      58881814                                              Ações   \n1027     17      58881815                                              Ações   \n1097     34      58881816  Certificado ou recibo de depósito de valores m...   \n1180     15      58881817                                              Ações   \n1242     27      58881818                                              Ações   \n1314     18      58881819                                              Ações   \n1375     35      58881820  Certificado ou recibo de depósito de valores m...   \n1398      1      58881821                                              Ações   \n1427     25      58881822                                              Ações   \n1458     32      58881823           Ações e outros TVM cedidos em empréstimo   \n\n           ativo2  ativo3                      ativo4    classificacao  \\\n18            NaN   TEND3                         NaN  Para negociacao   \n89            NaN  SULA11                         NaN  Para negociacao   \n163           NaN   SHOW3                         NaN  Para negociacao   \n238           NaN   SEER3                         NaN  Para negociacao   \n277           NaN   RENT3                         NaN  Para negociacao   \n346           NaN   RAIL3                         NaN  Para negociacao   \n432   Cod. Ativo:   PETR4  Dt. Ini. Vigen.:24/03/1997  Para negociacao   \n440           NaN   PCAR3                         NaN  Para negociacao   \n501           NaN   NTCO3                         NaN  Para negociacao   \n587           NaN   MRVE3                         NaN  Para negociacao   \n651           NaN   MILS3                         NaN  Para negociacao   \n714   Cod. Ativo:   MGLU3  Dt. Ini. Vigen.:02/05/2011  Para negociacao   \n715   Cod. Ativo:   ITUB4  Dt. Ini. Vigen.:20/05/2009  Para negociacao   \n772           NaN   ITSA4                         NaN  Para negociacao   \n834           NaN   IGTA3                         NaN  Para negociacao   \n897           NaN   HGTX3                         NaN  Para negociacao   \n979           NaN   HAPV3                         NaN  Para negociacao   \n1027          NaN   EQTL3                         NaN  Para negociacao   \n1097          NaN  ENGI11                         NaN  Para negociacao   \n1180          NaN   ENEV3                         NaN  Para negociacao   \n1242          NaN   CVCB3                         NaN  Para negociacao   \n1314          NaN   BRML3                         NaN  Para negociacao   \n1375          NaN  BIDI11                         NaN  Para negociacao   \n1398  Cod. Ativo:   B3SA3  Dt. Ini. Vigen.:26/03/2018  Para negociacao   \n1427          NaN   ANIM3                         NaN  Para negociacao   \n1458          NaN   NTCO3                         NaN  Para negociacao   \n\n     emp_ligada  vendas_quant  vendas_montante  aquis_quant  aquis_montante  \\\n18          Nao           NaN     0.000000e+00          NaN    1.572081e+08   \n89          Nao           NaN              NaN          NaN             NaN   \n163         Nao           NaN     0.000000e+00          NaN    0.000000e+00   \n238         Nao           NaN     0.000000e+00          NaN    1.874026e+08   \n277         Nao           NaN     0.000000e+00          NaN    1.841741e+08   \n346         Nao           NaN     0.000000e+00          NaN    7.780140e+08   \n432         Nao     2086100.0     3.945369e+09     237800.0    4.160889e+08   \n440         Nao           NaN     0.000000e+00          NaN    4.069561e+08   \n501         Nao           NaN     0.000000e+00          NaN    1.630665e+09   \n587         Nao           NaN     2.793569e+08          NaN    8.961476e+08   \n651         Nao           NaN     1.117423e+08          NaN    0.000000e+00   \n714         Nao      351610.0     1.936455e+09     294500.0    1.602243e+09   \n715         Nao           0.0     0.000000e+00     265600.0    5.893452e+08   \n772         Nao           NaN     0.000000e+00          NaN    4.526180e+08   \n834         Nao           NaN     0.000000e+00          NaN    3.094032e+08   \n897         Nao           NaN     0.000000e+00          NaN    4.741063e+08   \n979         Nao           NaN     0.000000e+00          NaN    9.656044e+08   \n1027        Nao           NaN     0.000000e+00          NaN    9.333055e+08   \n1097        Nao           NaN              NaN          NaN             NaN   \n1180        Nao           NaN     0.000000e+00          NaN    1.893825e+09   \n1242        Nao           NaN     0.000000e+00          NaN    1.730394e+08   \n1314        Nao           NaN     0.000000e+00          NaN    3.183258e+09   \n1375        Nao           NaN              NaN          NaN             NaN   \n1398        Nao           0.0     0.000000e+00     207700.0    8.133448e+08   \n1427        Nao           NaN     0.000000e+00          NaN    1.781069e+08   \n1458        Nao           NaN              NaN          NaN             NaN   \n\n        pf_quant  pf_valor_custo  pf_valor_mercado  \\\n18      854180.0             NaN        2143137600   \n89     1359000.0             NaN        6095115000   \n163    1156023.0             NaN         193055800   \n238    1407621.0             NaN        2049496100   \n277     660409.0             NaN        2541253800   \n346    4398563.0             NaN        9909962400   \n432    1303606.0             NaN        2651534604   \n440     750835.0             NaN        4728758800   \n501    5007044.0             NaN       18616189500   \n587    7115304.0             NaN       10793916100   \n651    1758771.0             NaN         956771400   \n714    3550527.0             NaN       22847641245   \n715    3048376.0             NaN        7023458304   \n772    5996357.0             NaN        5312772300   \n834    1155053.0             NaN        3764317700   \n897    4220769.0             NaN        5622064300   \n979    2201310.0             NaN       12076386600   \n1027   5929349.0             NaN       11888344700   \n1097   1074527.0             NaN        5104003200   \n1180   4435022.0             NaN       16937349000   \n1242   1644332.0             NaN        2367838000   \n1314  11246287.0             NaN       11032607500   \n1375   1404488.0             NaN        4719079600   \n1398   2362262.0             NaN       10760103410   \n1427   1586404.0             NaN        3478983900   \n1458    486164.0             NaN        1807557700   \n\n      porcent_partrimonio_liquido  fechado candidatos  cand_pf_quant  grupo  \n18                          0.000     True      TEND3       854180.0      1  \n89                          2.000     True     SULA11      1359000.0      1  \n163                         0.000     True      SHOW3      1156023.0      1  \n238                         0.000     True      SEER3      1407621.0      1  \n277                         0.000     True      RENT3       660409.0      1  \n346                         3.000     True      RAIL3      4398563.0      1  \n432                         0.985    False      PETR4      1303606.0      1  \n440                         1.000     True      PCAR3       750835.0      1  \n501                         6.000     True      NTCO3      5007044.0      1  \n587                         4.000     True      MRVE3      7115304.0      1  \n651                         0.000     True      MILS3      1758771.0      1  \n714                         8.489    False      MGLU3      3550527.0      1  \n715                         2.610    False      ITUB4      3048376.0      1  \n772                         1.000     True      ITSA4      5996357.0      1  \n834                         1.000     True      IGTA3      1155053.0      1  \n897                         2.000     True      HGTX3      4220769.0      1  \n979                         4.000     True      HAPV3      2201310.0      1  \n1027                        4.000     True      EQTL3      5929349.0      1  \n1097                        1.000     True     ENGI11      1074527.0      1  \n1180                        6.000     True      ENEV3      4435022.0      1  \n1242                        0.000     True      CVCB3      1644332.0      1  \n1314                        4.000     True      BRML3     11246287.0      1  \n1375                        1.000     True     BIDI11      1404488.0      1  \n1398                        3.998    False      B3SA3      2362262.0      1  \n1427                        1.000     True      ANIM3      1586404.0      1  \n1458                        0.000     True      NTCO3       486164.0      2  ",
      "text/html": "<div>\n<style scoped>\n    .dataframe tbody tr th:only-of-type {\n        vertical-align: middle;\n    }\n\n    .dataframe tbody tr th {\n        vertical-align: top;\n    }\n\n    .dataframe thead th {\n        text-align: right;\n    }\n</style>\n<table border=\"1\" class=\"dataframe\">\n  <thead>\n    <tr style=\"text-align: right;\">\n      <th></th>\n      <th>index</th>\n      <th>aserestudado</th>\n      <th>ativo1</th>\n      <th>ativo2</th>\n      <th>ativo3</th>\n      <th>ativo4</th>\n      <th>classificacao</th>\n      <th>emp_ligada</th>\n      <th>vendas_quant</th>\n      <th>vendas_montante</th>\n      <th>aquis_quant</th>\n      <th>aquis_montante</th>\n      <th>pf_quant</th>\n      <th>pf_valor_custo</th>\n      <th>pf_valor_mercado</th>\n      <th>porcent_partrimonio_liquido</th>\n      <th>fechado</th>\n      <th>candidatos</th>\n      <th>cand_pf_quant</th>\n      <th>grupo</th>\n    </tr>\n  </thead>\n  <tbody>\n    <tr>\n      <th>18</th>\n      <td>28</td>\n      <td>58881798</td>\n      <td>Ações</td>\n      <td>NaN</td>\n      <td>TEND3</td>\n      <td>NaN</td>\n      <td>Para negociacao</td>\n      <td>Nao</td>\n      <td>NaN</td>\n      <td>0.000000e+00</td>\n      <td>NaN</td>\n      <td>1.572081e+08</td>\n      <td>854180.0</td>\n      <td>NaN</td>\n      <td>2143137600</td>\n      <td>0.000</td>\n      <td>True</td>\n      <td>TEND3</td>\n      <td>854180.0</td>\n      <td>1</td>\n    </tr>\n    <tr>\n      <th>89</th>\n      <td>33</td>\n      <td>58881799</td>\n      <td>Certificado ou recibo de depósito de valores m...</td>\n      <td>NaN</td>\n      <td>SULA11</td>\n      <td>NaN</td>\n      <td>Para negociacao</td>\n      <td>Nao</td>\n      <td>NaN</td>\n      <td>NaN</td>\n      <td>NaN</td>\n      <td>NaN</td>\n      <td>1359000.0</td>\n      <td>NaN</td>\n      <td>6095115000</td>\n      <td>2.000</td>\n      <td>True</td>\n      <td>SULA11</td>\n      <td>1359000.0</td>\n      <td>1</td>\n    </tr>\n    <tr>\n      <th>163</th>\n      <td>31</td>\n      <td>58881800</td>\n      <td>Ações</td>\n      <td>NaN</td>\n      <td>SHOW3</td>\n      <td>NaN</td>\n      <td>Para negociacao</td>\n      <td>Nao</td>\n      <td>NaN</td>\n      <td>0.000000e+00</td>\n      <td>NaN</td>\n      <td>0.000000e+00</td>\n      <td>1156023.0</td>\n      <td>NaN</td>\n      <td>193055800</td>\n      <td>0.000</td>\n      <td>True</td>\n      <td>SHOW3</td>\n      <td>1156023.0</td>\n      <td>1</td>\n    </tr>\n    <tr>\n      <th>238</th>\n      <td>29</td>\n      <td>58881801</td>\n      <td>Ações</td>\n      <td>NaN</td>\n      <td>SEER3</td>\n      <td>NaN</td>\n      <td>Para negociacao</td>\n      <td>Nao</td>\n      <td>NaN</td>\n      <td>0.000000e+00</td>\n      <td>NaN</td>\n      <td>1.874026e+08</td>\n      <td>1407621.0</td>\n      <td>NaN</td>\n      <td>2049496100</td>\n      <td>0.000</td>\n      <td>True</td>\n      <td>SEER3</td>\n      <td>1407621.0</td>\n      <td>1</td>\n    </tr>\n    <tr>\n      <th>277</th>\n      <td>26</td>\n      <td>58881802</td>\n      <td>Ações</td>\n      <td>NaN</td>\n      <td>RENT3</td>\n      <td>NaN</td>\n      <td>Para negociacao</td>\n      <td>Nao</td>\n      <td>NaN</td>\n      <td>0.000000e+00</td>\n      <td>NaN</td>\n      <td>1.841741e+08</td>\n      <td>660409.0</td>\n      <td>NaN</td>\n      <td>2541253800</td>\n      <td>0.000</td>\n      <td>True</td>\n      <td>RENT3</td>\n      <td>660409.0</td>\n      <td>1</td>\n    </tr>\n    <tr>\n      <th>346</th>\n      <td>20</td>\n      <td>58881803</td>\n      <td>Ações</td>\n      <td>NaN</td>\n      <td>RAIL3</td>\n      <td>NaN</td>\n      <td>Para negociacao</td>\n      <td>Nao</td>\n      <td>NaN</td>\n      <td>0.000000e+00</td>\n      <td>NaN</td>\n      <td>7.780140e+08</td>\n      <td>4398563.0</td>\n      <td>NaN</td>\n      <td>9909962400</td>\n      <td>3.000</td>\n      <td>True</td>\n      <td>RAIL3</td>\n      <td>4398563.0</td>\n      <td>1</td>\n    </tr>\n    <tr>\n      <th>432</th>\n      <td>3</td>\n      <td>58881804</td>\n      <td>Ações</td>\n      <td>Cod. Ativo:</td>\n      <td>PETR4</td>\n      <td>Dt. Ini. Vigen.:24/03/1997</td>\n      <td>Para negociacao</td>\n      <td>Nao</td>\n      <td>2086100.0</td>\n      <td>3.945369e+09</td>\n      <td>237800.0</td>\n      <td>4.160889e+08</td>\n      <td>1303606.0</td>\n      <td>NaN</td>\n      <td>2651534604</td>\n      <td>0.985</td>\n      <td>False</td>\n      <td>PETR4</td>\n      <td>1303606.0</td>\n      <td>1</td>\n    </tr>\n    <tr>\n      <th>440</th>\n      <td>23</td>\n      <td>58881805</td>\n      <td>Ações</td>\n      <td>NaN</td>\n      <td>PCAR3</td>\n      <td>NaN</td>\n      <td>Para negociacao</td>\n      <td>Nao</td>\n      <td>NaN</td>\n      <td>0.000000e+00</td>\n      <td>NaN</td>\n      <td>4.069561e+08</td>\n      <td>750835.0</td>\n      <td>NaN</td>\n      <td>4728758800</td>\n      <td>1.000</td>\n      <td>True</td>\n      <td>PCAR3</td>\n      <td>750835.0</td>\n      <td>1</td>\n    </tr>\n    <tr>\n      <th>501</th>\n      <td>14</td>\n      <td>58881806</td>\n      <td>Ações</td>\n      <td>NaN</td>\n      <td>NTCO3</td>\n      <td>NaN</td>\n      <td>Para negociacao</td>\n      <td>Nao</td>\n      <td>NaN</td>\n      <td>0.000000e+00</td>\n      <td>NaN</td>\n      <td>1.630665e+09</td>\n      <td>5007044.0</td>\n      <td>NaN</td>\n      <td>18616189500</td>\n      <td>6.000</td>\n      <td>True</td>\n      <td>NTCO3</td>\n      <td>5007044.0</td>\n      <td>1</td>\n    </tr>\n    <tr>\n      <th>587</th>\n      <td>19</td>\n      <td>58881807</td>\n      <td>Ações</td>\n      <td>NaN</td>\n      <td>MRVE3</td>\n      <td>NaN</td>\n      <td>Para negociacao</td>\n      <td>Nao</td>\n      <td>NaN</td>\n      <td>2.793569e+08</td>\n      <td>NaN</td>\n      <td>8.961476e+08</td>\n      <td>7115304.0</td>\n      <td>NaN</td>\n      <td>10793916100</td>\n      <td>4.000</td>\n      <td>True</td>\n      <td>MRVE3</td>\n      <td>7115304.0</td>\n      <td>1</td>\n    </tr>\n    <tr>\n      <th>651</th>\n      <td>30</td>\n      <td>58881808</td>\n      <td>Ações</td>\n      <td>NaN</td>\n      <td>MILS3</td>\n      <td>NaN</td>\n      <td>Para negociacao</td>\n      <td>Nao</td>\n      <td>NaN</td>\n      <td>1.117423e+08</td>\n      <td>NaN</td>\n      <td>0.000000e+00</td>\n      <td>1758771.0</td>\n      <td>NaN</td>\n      <td>956771400</td>\n      <td>0.000</td>\n      <td>True</td>\n      <td>MILS3</td>\n      <td>1758771.0</td>\n      <td>1</td>\n    </tr>\n    <tr>\n      <th>714</th>\n      <td>0</td>\n      <td>58881809</td>\n      <td>Ações</td>\n      <td>Cod. Ativo:</td>\n      <td>MGLU3</td>\n      <td>Dt. Ini. Vigen.:02/05/2011</td>\n      <td>Para negociacao</td>\n      <td>Nao</td>\n      <td>351610.0</td>\n      <td>1.936455e+09</td>\n      <td>294500.0</td>\n      <td>1.602243e+09</td>\n      <td>3550527.0</td>\n      <td>NaN</td>\n      <td>22847641245</td>\n      <td>8.489</td>\n      <td>False</td>\n      <td>MGLU3</td>\n      <td>3550527.0</td>\n      <td>1</td>\n    </tr>\n    <tr>\n      <th>715</th>\n      <td>2</td>\n      <td>58881810</td>\n      <td>Ações</td>\n      <td>Cod. Ativo:</td>\n      <td>ITUB4</td>\n      <td>Dt. Ini. Vigen.:20/05/2009</td>\n      <td>Para negociacao</td>\n      <td>Nao</td>\n      <td>0.0</td>\n      <td>0.000000e+00</td>\n      <td>265600.0</td>\n      <td>5.893452e+08</td>\n      <td>3048376.0</td>\n      <td>NaN</td>\n      <td>7023458304</td>\n      <td>2.610</td>\n      <td>False</td>\n      <td>ITUB4</td>\n      <td>3048376.0</td>\n      <td>1</td>\n    </tr>\n    <tr>\n      <th>772</th>\n      <td>22</td>\n      <td>58881811</td>\n      <td>Ações</td>\n      <td>NaN</td>\n      <td>ITSA4</td>\n      <td>NaN</td>\n      <td>Para negociacao</td>\n      <td>Nao</td>\n      <td>NaN</td>\n      <td>0.000000e+00</td>\n      <td>NaN</td>\n      <td>4.526180e+08</td>\n      <td>5996357.0</td>\n      <td>NaN</td>\n      <td>5312772300</td>\n      <td>1.000</td>\n      <td>True</td>\n      <td>ITSA4</td>\n      <td>5996357.0</td>\n      <td>1</td>\n    </tr>\n    <tr>\n      <th>834</th>\n      <td>24</td>\n      <td>58881812</td>\n      <td>Ações</td>\n      <td>NaN</td>\n      <td>IGTA3</td>\n      <td>NaN</td>\n      <td>Para negociacao</td>\n      <td>Nao</td>\n      <td>NaN</td>\n      <td>0.000000e+00</td>\n      <td>NaN</td>\n      <td>3.094032e+08</td>\n      <td>1155053.0</td>\n      <td>NaN</td>\n      <td>3764317700</td>\n      <td>1.000</td>\n      <td>True</td>\n      <td>IGTA3</td>\n      <td>1155053.0</td>\n      <td>1</td>\n    </tr>\n    <tr>\n      <th>897</th>\n      <td>21</td>\n      <td>58881813</td>\n      <td>Ações</td>\n      <td>NaN</td>\n      <td>HGTX3</td>\n      <td>NaN</td>\n      <td>Para negociacao</td>\n      <td>Nao</td>\n      <td>NaN</td>\n      <td>0.000000e+00</td>\n      <td>NaN</td>\n      <td>4.741063e+08</td>\n      <td>4220769.0</td>\n      <td>NaN</td>\n      <td>5622064300</td>\n      <td>2.000</td>\n      <td>True</td>\n      <td>HGTX3</td>\n      <td>4220769.0</td>\n      <td>1</td>\n    </tr>\n    <tr>\n      <th>979</th>\n      <td>16</td>\n      <td>58881814</td>\n      <td>Ações</td>\n      <td>NaN</td>\n      <td>HAPV3</td>\n      <td>NaN</td>\n      <td>Para negociacao</td>\n      <td>Nao</td>\n      <td>NaN</td>\n      <td>0.000000e+00</td>\n      <td>NaN</td>\n      <td>9.656044e+08</td>\n      <td>2201310.0</td>\n      <td>NaN</td>\n      <td>12076386600</td>\n      <td>4.000</td>\n      <td>True</td>\n      <td>HAPV3</td>\n      <td>2201310.0</td>\n      <td>1</td>\n    </tr>\n    <tr>\n      <th>1027</th>\n      <td>17</td>\n      <td>58881815</td>\n      <td>Ações</td>\n      <td>NaN</td>\n      <td>EQTL3</td>\n      <td>NaN</td>\n      <td>Para negociacao</td>\n      <td>Nao</td>\n      <td>NaN</td>\n      <td>0.000000e+00</td>\n      <td>NaN</td>\n      <td>9.333055e+08</td>\n      <td>5929349.0</td>\n      <td>NaN</td>\n      <td>11888344700</td>\n      <td>4.000</td>\n      <td>True</td>\n      <td>EQTL3</td>\n      <td>5929349.0</td>\n      <td>1</td>\n    </tr>\n    <tr>\n      <th>1097</th>\n      <td>34</td>\n      <td>58881816</td>\n      <td>Certificado ou recibo de depósito de valores m...</td>\n      <td>NaN</td>\n      <td>ENGI11</td>\n      <td>NaN</td>\n      <td>Para negociacao</td>\n      <td>Nao</td>\n      <td>NaN</td>\n      <td>NaN</td>\n      <td>NaN</td>\n      <td>NaN</td>\n      <td>1074527.0</td>\n      <td>NaN</td>\n      <td>5104003200</td>\n      <td>1.000</td>\n      <td>True</td>\n      <td>ENGI11</td>\n      <td>1074527.0</td>\n      <td>1</td>\n    </tr>\n    <tr>\n      <th>1180</th>\n      <td>15</td>\n      <td>58881817</td>\n      <td>Ações</td>\n      <td>NaN</td>\n      <td>ENEV3</td>\n      <td>NaN</td>\n      <td>Para negociacao</td>\n      <td>Nao</td>\n      <td>NaN</td>\n      <td>0.000000e+00</td>\n      <td>NaN</td>\n      <td>1.893825e+09</td>\n      <td>4435022.0</td>\n      <td>NaN</td>\n      <td>16937349000</td>\n      <td>6.000</td>\n      <td>True</td>\n      <td>ENEV3</td>\n      <td>4435022.0</td>\n      <td>1</td>\n    </tr>\n    <tr>\n      <th>1242</th>\n      <td>27</td>\n      <td>58881818</td>\n      <td>Ações</td>\n      <td>NaN</td>\n      <td>CVCB3</td>\n      <td>NaN</td>\n      <td>Para negociacao</td>\n      <td>Nao</td>\n      <td>NaN</td>\n      <td>0.000000e+00</td>\n      <td>NaN</td>\n      <td>1.730394e+08</td>\n      <td>1644332.0</td>\n      <td>NaN</td>\n      <td>2367838000</td>\n      <td>0.000</td>\n      <td>True</td>\n      <td>CVCB3</td>\n      <td>1644332.0</td>\n      <td>1</td>\n    </tr>\n    <tr>\n      <th>1314</th>\n      <td>18</td>\n      <td>58881819</td>\n      <td>Ações</td>\n      <td>NaN</td>\n      <td>BRML3</td>\n      <td>NaN</td>\n      <td>Para negociacao</td>\n      <td>Nao</td>\n      <td>NaN</td>\n      <td>0.000000e+00</td>\n      <td>NaN</td>\n      <td>3.183258e+09</td>\n      <td>11246287.0</td>\n      <td>NaN</td>\n      <td>11032607500</td>\n      <td>4.000</td>\n      <td>True</td>\n      <td>BRML3</td>\n      <td>11246287.0</td>\n      <td>1</td>\n    </tr>\n    <tr>\n      <th>1375</th>\n      <td>35</td>\n      <td>58881820</td>\n      <td>Certificado ou recibo de depósito de valores m...</td>\n      <td>NaN</td>\n      <td>BIDI11</td>\n      <td>NaN</td>\n      <td>Para negociacao</td>\n      <td>Nao</td>\n      <td>NaN</td>\n      <td>NaN</td>\n      <td>NaN</td>\n      <td>NaN</td>\n      <td>1404488.0</td>\n      <td>NaN</td>\n      <td>4719079600</td>\n      <td>1.000</td>\n      <td>True</td>\n      <td>BIDI11</td>\n      <td>1404488.0</td>\n      <td>1</td>\n    </tr>\n    <tr>\n      <th>1398</th>\n      <td>1</td>\n      <td>58881821</td>\n      <td>Ações</td>\n      <td>Cod. Ativo:</td>\n      <td>B3SA3</td>\n      <td>Dt. Ini. Vigen.:26/03/2018</td>\n      <td>Para negociacao</td>\n      <td>Nao</td>\n      <td>0.0</td>\n      <td>0.000000e+00</td>\n      <td>207700.0</td>\n      <td>8.133448e+08</td>\n      <td>2362262.0</td>\n      <td>NaN</td>\n      <td>10760103410</td>\n      <td>3.998</td>\n      <td>False</td>\n      <td>B3SA3</td>\n      <td>2362262.0</td>\n      <td>1</td>\n    </tr>\n    <tr>\n      <th>1427</th>\n      <td>25</td>\n      <td>58881822</td>\n      <td>Ações</td>\n      <td>NaN</td>\n      <td>ANIM3</td>\n      <td>NaN</td>\n      <td>Para negociacao</td>\n      <td>Nao</td>\n      <td>NaN</td>\n      <td>0.000000e+00</td>\n      <td>NaN</td>\n      <td>1.781069e+08</td>\n      <td>1586404.0</td>\n      <td>NaN</td>\n      <td>3478983900</td>\n      <td>1.000</td>\n      <td>True</td>\n      <td>ANIM3</td>\n      <td>1586404.0</td>\n      <td>1</td>\n    </tr>\n    <tr>\n      <th>1458</th>\n      <td>32</td>\n      <td>58881823</td>\n      <td>Ações e outros TVM cedidos em empréstimo</td>\n      <td>NaN</td>\n      <td>NTCO3</td>\n      <td>NaN</td>\n      <td>Para negociacao</td>\n      <td>Nao</td>\n      <td>NaN</td>\n      <td>NaN</td>\n      <td>NaN</td>\n      <td>NaN</td>\n      <td>486164.0</td>\n      <td>NaN</td>\n      <td>1807557700</td>\n      <td>0.000</td>\n      <td>True</td>\n      <td>NTCO3</td>\n      <td>486164.0</td>\n      <td>2</td>\n    </tr>\n  </tbody>\n</table>\n</div>"
     },
     "metadata": {},
     "execution_count": 63
    }
   ],
   "source": [
    "MES1 = completa('SULA11',{89},MES1)\n",
    "MES1 = completa('BIDI11',{1375},MES1)\n",
    "MES1 = completa('ENGI11',{1097},MES1)\n",
    "MES1 = filtro_unico_index(MES1)\n",
    "MES1"
   ]
  },
  {
   "cell_type": "code",
   "execution_count": null,
   "metadata": {},
   "outputs": [],
   "source": []
  },
  {
   "cell_type": "code",
   "execution_count": 29,
   "metadata": {
    "scrolled": true
   },
   "outputs": [
    {
     "data": {
      "text/html": [
       "<div>\n",
       "<style scoped>\n",
       "    .dataframe tbody tr th:only-of-type {\n",
       "        vertical-align: middle;\n",
       "    }\n",
       "\n",
       "    .dataframe tbody tr th {\n",
       "        vertical-align: top;\n",
       "    }\n",
       "\n",
       "    .dataframe thead th {\n",
       "        text-align: right;\n",
       "    }\n",
       "</style>\n",
       "<table border=\"1\" class=\"dataframe\">\n",
       "  <thead>\n",
       "    <tr style=\"text-align: right;\">\n",
       "      <th></th>\n",
       "      <th>index</th>\n",
       "      <th>aserestudado</th>\n",
       "      <th>ativo1</th>\n",
       "      <th>ativo2</th>\n",
       "      <th>ativo3</th>\n",
       "      <th>ativo4</th>\n",
       "      <th>classificacao</th>\n",
       "      <th>emp_ligada</th>\n",
       "      <th>vendas_quant</th>\n",
       "      <th>vendas_montante</th>\n",
       "      <th>aquis_quant</th>\n",
       "      <th>aquis_montante</th>\n",
       "      <th>pf_quant</th>\n",
       "      <th>pf_valor_custo</th>\n",
       "      <th>pf_valor_mercado</th>\n",
       "      <th>porcent_partrimonio_liquido</th>\n",
       "      <th>fechado</th>\n",
       "      <th>candidatos</th>\n",
       "      <th>cand_pf_quant</th>\n",
       "      <th>grupo</th>\n",
       "    </tr>\n",
       "  </thead>\n",
       "  <tbody>\n",
       "    <tr>\n",
       "      <th>1106</th>\n",
       "      <td>37</td>\n",
       "      <td>58334053</td>\n",
       "      <td>Certificado ou recibo de depósito de valores m...</td>\n",
       "      <td>NaN</td>\n",
       "      <td>NaN</td>\n",
       "      <td>NaN</td>\n",
       "      <td>Para negociacao</td>\n",
       "      <td>Nao</td>\n",
       "      <td>NaN</td>\n",
       "      <td>NaN</td>\n",
       "      <td>NaN</td>\n",
       "      <td>NaN</td>\n",
       "      <td>2394690.0</td>\n",
       "      <td>NaN</td>\n",
       "      <td>10464795300</td>\n",
       "      <td>3.0</td>\n",
       "      <td>True</td>\n",
       "      <td>ENGI11</td>\n",
       "      <td>2394690.0</td>\n",
       "      <td>1</td>\n",
       "    </tr>\n",
       "    <tr>\n",
       "      <th>1105</th>\n",
       "      <td>37</td>\n",
       "      <td>58334053</td>\n",
       "      <td>Certificado ou recibo de depósito de valores m...</td>\n",
       "      <td>NaN</td>\n",
       "      <td>NaN</td>\n",
       "      <td>NaN</td>\n",
       "      <td>Para negociacao</td>\n",
       "      <td>Nao</td>\n",
       "      <td>NaN</td>\n",
       "      <td>NaN</td>\n",
       "      <td>NaN</td>\n",
       "      <td>NaN</td>\n",
       "      <td>34423669.0</td>\n",
       "      <td>NaN</td>\n",
       "      <td>10464795300</td>\n",
       "      <td>3.0</td>\n",
       "      <td>True</td>\n",
       "      <td>EQPA3</td>\n",
       "      <td>34423669.0</td>\n",
       "      <td>1</td>\n",
       "    </tr>\n",
       "    <tr>\n",
       "      <th>1104</th>\n",
       "      <td>37</td>\n",
       "      <td>58334053</td>\n",
       "      <td>Certificado ou recibo de depósito de valores m...</td>\n",
       "      <td>NaN</td>\n",
       "      <td>NaN</td>\n",
       "      <td>NaN</td>\n",
       "      <td>Para negociacao</td>\n",
       "      <td>Nao</td>\n",
       "      <td>NaN</td>\n",
       "      <td>NaN</td>\n",
       "      <td>NaN</td>\n",
       "      <td>NaN</td>\n",
       "      <td>17470443.0</td>\n",
       "      <td>NaN</td>\n",
       "      <td>10464795300</td>\n",
       "      <td>3.0</td>\n",
       "      <td>True</td>\n",
       "      <td>EQPA7</td>\n",
       "      <td>17470443.0</td>\n",
       "      <td>1</td>\n",
       "    </tr>\n",
       "  </tbody>\n",
       "</table>\n",
       "</div>"
      ],
      "text/plain": [
       "      index  aserestudado                                             ativo1  \\\n",
       "1106     37      58334053  Certificado ou recibo de depósito de valores m...   \n",
       "1105     37      58334053  Certificado ou recibo de depósito de valores m...   \n",
       "1104     37      58334053  Certificado ou recibo de depósito de valores m...   \n",
       "\n",
       "     ativo2 ativo3 ativo4    classificacao emp_ligada  vendas_quant  \\\n",
       "1106    NaN    NaN    NaN  Para negociacao        Nao           NaN   \n",
       "1105    NaN    NaN    NaN  Para negociacao        Nao           NaN   \n",
       "1104    NaN    NaN    NaN  Para negociacao        Nao           NaN   \n",
       "\n",
       "      vendas_montante  aquis_quant  aquis_montante    pf_quant  \\\n",
       "1106              NaN          NaN             NaN   2394690.0   \n",
       "1105              NaN          NaN             NaN  34423669.0   \n",
       "1104              NaN          NaN             NaN  17470443.0   \n",
       "\n",
       "      pf_valor_custo  pf_valor_mercado  porcent_partrimonio_liquido  fechado  \\\n",
       "1106             NaN       10464795300                          3.0     True   \n",
       "1105             NaN       10464795300                          3.0     True   \n",
       "1104             NaN       10464795300                          3.0     True   \n",
       "\n",
       "     candidatos  cand_pf_quant  grupo  \n",
       "1106     ENGI11      2394690.0      1  \n",
       "1105      EQPA3     34423669.0      1  \n",
       "1104      EQPA7     17470443.0      1  "
      ]
     },
     "execution_count": 29,
     "metadata": {},
     "output_type": "execute_result"
    }
   ],
   "source": []
  },
  {
   "cell_type": "code",
   "execution_count": 30,
   "metadata": {
    "tags": []
   },
   "outputs": [
    {
     "name": "stdout",
     "output_type": "stream",
     "text": [
      "Empty DataFrame\n",
      "Columns: [ativo3]\n",
      "Index: []\n",
      "              ativo3\n",
      "aserestudado        \n",
      "58334057           0\n",
      "58334058           0\n"
     ]
    },
    {
     "data": {
      "text/html": [
       "<div>\n",
       "<style scoped>\n",
       "    .dataframe tbody tr th:only-of-type {\n",
       "        vertical-align: middle;\n",
       "    }\n",
       "\n",
       "    .dataframe tbody tr th {\n",
       "        vertical-align: top;\n",
       "    }\n",
       "\n",
       "    .dataframe thead th {\n",
       "        text-align: right;\n",
       "    }\n",
       "</style>\n",
       "<table border=\"1\" class=\"dataframe\">\n",
       "  <thead>\n",
       "    <tr style=\"text-align: right;\">\n",
       "      <th></th>\n",
       "      <th>index</th>\n",
       "      <th>aserestudado</th>\n",
       "      <th>ativo1</th>\n",
       "      <th>ativo2</th>\n",
       "      <th>ativo3</th>\n",
       "      <th>ativo4</th>\n",
       "      <th>classificacao</th>\n",
       "      <th>emp_ligada</th>\n",
       "      <th>vendas_quant</th>\n",
       "      <th>vendas_montante</th>\n",
       "      <th>aquis_quant</th>\n",
       "      <th>aquis_montante</th>\n",
       "      <th>pf_quant</th>\n",
       "      <th>pf_valor_custo</th>\n",
       "      <th>pf_valor_mercado</th>\n",
       "      <th>porcent_partrimonio_liquido</th>\n",
       "      <th>fechado</th>\n",
       "      <th>candidatos</th>\n",
       "      <th>cand_pf_quant</th>\n",
       "      <th>grupo</th>\n",
       "    </tr>\n",
       "  </thead>\n",
       "  <tbody>\n",
       "    <tr>\n",
       "      <th>0</th>\n",
       "      <td>35</td>\n",
       "      <td>58334034</td>\n",
       "      <td>Ações e outros TVM cedidos em empréstimo</td>\n",
       "      <td>NaN</td>\n",
       "      <td>ARZZ3</td>\n",
       "      <td>NaN</td>\n",
       "      <td>Para negociacao</td>\n",
       "      <td>Nao</td>\n",
       "      <td>NaN</td>\n",
       "      <td>NaN</td>\n",
       "      <td>NaN</td>\n",
       "      <td>NaN</td>\n",
       "      <td>113579.0</td>\n",
       "      <td>NaN</td>\n",
       "      <td>482710700</td>\n",
       "      <td>0.0</td>\n",
       "      <td>True</td>\n",
       "      <td>ARZZ3</td>\n",
       "      <td>113579.0</td>\n",
       "      <td>2</td>\n",
       "    </tr>\n",
       "    <tr>\n",
       "      <th>28</th>\n",
       "      <td>35</td>\n",
       "      <td>58334034</td>\n",
       "      <td>Ações e outros TVM cedidos em empréstimo</td>\n",
       "      <td>NaN</td>\n",
       "      <td>NaN</td>\n",
       "      <td>NaN</td>\n",
       "      <td>Para negociacao</td>\n",
       "      <td>Nao</td>\n",
       "      <td>NaN</td>\n",
       "      <td>NaN</td>\n",
       "      <td>NaN</td>\n",
       "      <td>NaN</td>\n",
       "      <td>3602319.0</td>\n",
       "      <td>NaN</td>\n",
       "      <td>482710700</td>\n",
       "      <td>0.0</td>\n",
       "      <td>True</td>\n",
       "      <td>ATOM3</td>\n",
       "      <td>3602319.0</td>\n",
       "      <td>2</td>\n",
       "    </tr>\n",
       "    <tr>\n",
       "      <th>29</th>\n",
       "      <td>35</td>\n",
       "      <td>58334034</td>\n",
       "      <td>Ações e outros TVM cedidos em empréstimo</td>\n",
       "      <td>NaN</td>\n",
       "      <td>NaN</td>\n",
       "      <td>NaN</td>\n",
       "      <td>Para negociacao</td>\n",
       "      <td>Nao</td>\n",
       "      <td>NaN</td>\n",
       "      <td>NaN</td>\n",
       "      <td>NaN</td>\n",
       "      <td>NaN</td>\n",
       "      <td>207172.0</td>\n",
       "      <td>NaN</td>\n",
       "      <td>482710700</td>\n",
       "      <td>0.0</td>\n",
       "      <td>True</td>\n",
       "      <td>BGIP4</td>\n",
       "      <td>207172.0</td>\n",
       "      <td>2</td>\n",
       "    </tr>\n",
       "    <tr>\n",
       "      <th>30</th>\n",
       "      <td>35</td>\n",
       "      <td>58334034</td>\n",
       "      <td>Ações e outros TVM cedidos em empréstimo</td>\n",
       "      <td>NaN</td>\n",
       "      <td>NaN</td>\n",
       "      <td>NaN</td>\n",
       "      <td>Para negociacao</td>\n",
       "      <td>Nao</td>\n",
       "      <td>NaN</td>\n",
       "      <td>NaN</td>\n",
       "      <td>NaN</td>\n",
       "      <td>NaN</td>\n",
       "      <td>2806458.0</td>\n",
       "      <td>NaN</td>\n",
       "      <td>482710700</td>\n",
       "      <td>0.0</td>\n",
       "      <td>True</td>\n",
       "      <td>BOBR4</td>\n",
       "      <td>2806458.0</td>\n",
       "      <td>2</td>\n",
       "    </tr>\n",
       "    <tr>\n",
       "      <th>31</th>\n",
       "      <td>35</td>\n",
       "      <td>58334034</td>\n",
       "      <td>Ações e outros TVM cedidos em empréstimo</td>\n",
       "      <td>NaN</td>\n",
       "      <td>NaN</td>\n",
       "      <td>NaN</td>\n",
       "      <td>Para negociacao</td>\n",
       "      <td>Nao</td>\n",
       "      <td>NaN</td>\n",
       "      <td>NaN</td>\n",
       "      <td>NaN</td>\n",
       "      <td>NaN</td>\n",
       "      <td>161658.0</td>\n",
       "      <td>NaN</td>\n",
       "      <td>482710700</td>\n",
       "      <td>0.0</td>\n",
       "      <td>True</td>\n",
       "      <td>BRAP4</td>\n",
       "      <td>161658.0</td>\n",
       "      <td>2</td>\n",
       "    </tr>\n",
       "    <tr>\n",
       "      <th>...</th>\n",
       "      <td>...</td>\n",
       "      <td>...</td>\n",
       "      <td>...</td>\n",
       "      <td>...</td>\n",
       "      <td>...</td>\n",
       "      <td>...</td>\n",
       "      <td>...</td>\n",
       "      <td>...</td>\n",
       "      <td>...</td>\n",
       "      <td>...</td>\n",
       "      <td>...</td>\n",
       "      <td>...</td>\n",
       "      <td>...</td>\n",
       "      <td>...</td>\n",
       "      <td>...</td>\n",
       "      <td>...</td>\n",
       "      <td>...</td>\n",
       "      <td>...</td>\n",
       "      <td>...</td>\n",
       "      <td>...</td>\n",
       "    </tr>\n",
       "    <tr>\n",
       "      <th>2462</th>\n",
       "      <td>7</td>\n",
       "      <td>58334079</td>\n",
       "      <td>Ações</td>\n",
       "      <td>NaN</td>\n",
       "      <td>NaN</td>\n",
       "      <td>NaN</td>\n",
       "      <td>Para negociacao</td>\n",
       "      <td>Nao</td>\n",
       "      <td>NaN</td>\n",
       "      <td>0.0</td>\n",
       "      <td>NaN</td>\n",
       "      <td>269829400.0</td>\n",
       "      <td>23884336.0</td>\n",
       "      <td>NaN</td>\n",
       "      <td>12658698000</td>\n",
       "      <td>3.0</td>\n",
       "      <td>True</td>\n",
       "      <td>USIM3</td>\n",
       "      <td>23884336.0</td>\n",
       "      <td>3</td>\n",
       "    </tr>\n",
       "    <tr>\n",
       "      <th>2461</th>\n",
       "      <td>7</td>\n",
       "      <td>58334079</td>\n",
       "      <td>Ações</td>\n",
       "      <td>NaN</td>\n",
       "      <td>NaN</td>\n",
       "      <td>NaN</td>\n",
       "      <td>Para negociacao</td>\n",
       "      <td>Nao</td>\n",
       "      <td>NaN</td>\n",
       "      <td>0.0</td>\n",
       "      <td>NaN</td>\n",
       "      <td>269829400.0</td>\n",
       "      <td>83280908.0</td>\n",
       "      <td>NaN</td>\n",
       "      <td>12658698000</td>\n",
       "      <td>3.0</td>\n",
       "      <td>True</td>\n",
       "      <td>VIVR3</td>\n",
       "      <td>83280908.0</td>\n",
       "      <td>3</td>\n",
       "    </tr>\n",
       "    <tr>\n",
       "      <th>2460</th>\n",
       "      <td>7</td>\n",
       "      <td>58334079</td>\n",
       "      <td>Ações</td>\n",
       "      <td>NaN</td>\n",
       "      <td>NaN</td>\n",
       "      <td>NaN</td>\n",
       "      <td>Para negociacao</td>\n",
       "      <td>Nao</td>\n",
       "      <td>NaN</td>\n",
       "      <td>0.0</td>\n",
       "      <td>NaN</td>\n",
       "      <td>269829400.0</td>\n",
       "      <td>1346670.0</td>\n",
       "      <td>NaN</td>\n",
       "      <td>12658698000</td>\n",
       "      <td>3.0</td>\n",
       "      <td>True</td>\n",
       "      <td>VVPR11</td>\n",
       "      <td>1346670.0</td>\n",
       "      <td>3</td>\n",
       "    </tr>\n",
       "    <tr>\n",
       "      <th>2486</th>\n",
       "      <td>7</td>\n",
       "      <td>58334079</td>\n",
       "      <td>Ações</td>\n",
       "      <td>NaN</td>\n",
       "      <td>NaN</td>\n",
       "      <td>NaN</td>\n",
       "      <td>Para negociacao</td>\n",
       "      <td>Nao</td>\n",
       "      <td>NaN</td>\n",
       "      <td>0.0</td>\n",
       "      <td>NaN</td>\n",
       "      <td>269829400.0</td>\n",
       "      <td>4366574.0</td>\n",
       "      <td>NaN</td>\n",
       "      <td>12658698000</td>\n",
       "      <td>3.0</td>\n",
       "      <td>True</td>\n",
       "      <td>WSON33</td>\n",
       "      <td>4366574.0</td>\n",
       "      <td>3</td>\n",
       "    </tr>\n",
       "    <tr>\n",
       "      <th>2542</th>\n",
       "      <td>7</td>\n",
       "      <td>58334079</td>\n",
       "      <td>Ações</td>\n",
       "      <td>NaN</td>\n",
       "      <td>NaN</td>\n",
       "      <td>NaN</td>\n",
       "      <td>Para negociacao</td>\n",
       "      <td>Nao</td>\n",
       "      <td>NaN</td>\n",
       "      <td>0.0</td>\n",
       "      <td>NaN</td>\n",
       "      <td>269829400.0</td>\n",
       "      <td>17581525.0</td>\n",
       "      <td>NaN</td>\n",
       "      <td>12658698000</td>\n",
       "      <td>3.0</td>\n",
       "      <td>True</td>\n",
       "      <td>XTED11</td>\n",
       "      <td>17581525.0</td>\n",
       "      <td>3</td>\n",
       "    </tr>\n",
       "  </tbody>\n",
       "</table>\n",
       "<p>450 rows × 20 columns</p>\n",
       "</div>"
      ],
      "text/plain": [
       "      index  aserestudado                                    ativo1 ativo2  \\\n",
       "0        35      58334034  Ações e outros TVM cedidos em empréstimo    NaN   \n",
       "28       35      58334034  Ações e outros TVM cedidos em empréstimo    NaN   \n",
       "29       35      58334034  Ações e outros TVM cedidos em empréstimo    NaN   \n",
       "30       35      58334034  Ações e outros TVM cedidos em empréstimo    NaN   \n",
       "31       35      58334034  Ações e outros TVM cedidos em empréstimo    NaN   \n",
       "...     ...           ...                                       ...    ...   \n",
       "2462      7      58334079                                     Ações    NaN   \n",
       "2461      7      58334079                                     Ações    NaN   \n",
       "2460      7      58334079                                     Ações    NaN   \n",
       "2486      7      58334079                                     Ações    NaN   \n",
       "2542      7      58334079                                     Ações    NaN   \n",
       "\n",
       "     ativo3 ativo4    classificacao emp_ligada  vendas_quant  vendas_montante  \\\n",
       "0     ARZZ3    NaN  Para negociacao        Nao           NaN              NaN   \n",
       "28      NaN    NaN  Para negociacao        Nao           NaN              NaN   \n",
       "29      NaN    NaN  Para negociacao        Nao           NaN              NaN   \n",
       "30      NaN    NaN  Para negociacao        Nao           NaN              NaN   \n",
       "31      NaN    NaN  Para negociacao        Nao           NaN              NaN   \n",
       "...     ...    ...              ...        ...           ...              ...   \n",
       "2462    NaN    NaN  Para negociacao        Nao           NaN              0.0   \n",
       "2461    NaN    NaN  Para negociacao        Nao           NaN              0.0   \n",
       "2460    NaN    NaN  Para negociacao        Nao           NaN              0.0   \n",
       "2486    NaN    NaN  Para negociacao        Nao           NaN              0.0   \n",
       "2542    NaN    NaN  Para negociacao        Nao           NaN              0.0   \n",
       "\n",
       "      aquis_quant  aquis_montante    pf_quant  pf_valor_custo  \\\n",
       "0             NaN             NaN    113579.0             NaN   \n",
       "28            NaN             NaN   3602319.0             NaN   \n",
       "29            NaN             NaN    207172.0             NaN   \n",
       "30            NaN             NaN   2806458.0             NaN   \n",
       "31            NaN             NaN    161658.0             NaN   \n",
       "...           ...             ...         ...             ...   \n",
       "2462          NaN     269829400.0  23884336.0             NaN   \n",
       "2461          NaN     269829400.0  83280908.0             NaN   \n",
       "2460          NaN     269829400.0   1346670.0             NaN   \n",
       "2486          NaN     269829400.0   4366574.0             NaN   \n",
       "2542          NaN     269829400.0  17581525.0             NaN   \n",
       "\n",
       "      pf_valor_mercado  porcent_partrimonio_liquido  fechado candidatos  \\\n",
       "0            482710700                          0.0     True      ARZZ3   \n",
       "28           482710700                          0.0     True      ATOM3   \n",
       "29           482710700                          0.0     True      BGIP4   \n",
       "30           482710700                          0.0     True      BOBR4   \n",
       "31           482710700                          0.0     True      BRAP4   \n",
       "...                ...                          ...      ...        ...   \n",
       "2462       12658698000                          3.0     True      USIM3   \n",
       "2461       12658698000                          3.0     True      VIVR3   \n",
       "2460       12658698000                          3.0     True     VVPR11   \n",
       "2486       12658698000                          3.0     True     WSON33   \n",
       "2542       12658698000                          3.0     True     XTED11   \n",
       "\n",
       "      cand_pf_quant  grupo  \n",
       "0          113579.0      2  \n",
       "28        3602319.0      2  \n",
       "29         207172.0      2  \n",
       "30        2806458.0      2  \n",
       "31         161658.0      2  \n",
       "...             ...    ...  \n",
       "2462     23884336.0      3  \n",
       "2461     83280908.0      3  \n",
       "2460      1346670.0      3  \n",
       "2486      4366574.0      3  \n",
       "2542     17581525.0      3  \n",
       "\n",
       "[450 rows x 20 columns]"
      ]
     },
     "execution_count": 30,
     "metadata": {},
     "output_type": "execute_result"
    }
   ],
   "source": [
    "MES1 = completa('ENGI11',{1106},MES1)\n",
    "MES1 = filtro_unico_index(MES1)\n",
    "MES1"
   ]
  },
  {
   "cell_type": "code",
   "execution_count": null,
   "metadata": {},
   "outputs": [],
   "source": []
  },
  {
   "cell_type": "code",
   "execution_count": 64,
   "metadata": {},
   "outputs": [
    {
     "output_type": "execute_result",
     "data": {
      "text/plain": "Empty DataFrame\nColumns: [ativo3]\nIndex: []",
      "text/html": "<div>\n<style scoped>\n    .dataframe tbody tr th:only-of-type {\n        vertical-align: middle;\n    }\n\n    .dataframe tbody tr th {\n        vertical-align: top;\n    }\n\n    .dataframe thead th {\n        text-align: right;\n    }\n</style>\n<table border=\"1\" class=\"dataframe\">\n  <thead>\n    <tr style=\"text-align: right;\">\n      <th></th>\n      <th>ativo3</th>\n    </tr>\n    <tr>\n      <th>aserestudado</th>\n      <th></th>\n    </tr>\n  </thead>\n  <tbody>\n  </tbody>\n</table>\n</div>"
     },
     "metadata": {},
     "execution_count": 64
    }
   ],
   "source": [
    "CONFUSAO = MES1.groupby(by='aserestudado').count()[['ativo3']]\n",
    "CONFUSAO[CONFUSAO.ativo3<1]"
   ]
  },
  {
   "cell_type": "code",
   "execution_count": 65,
   "metadata": {},
   "outputs": [
    {
     "output_type": "execute_result",
     "data": {
      "text/plain": "[]"
     },
     "metadata": {},
     "execution_count": 65
    }
   ],
   "source": [
    "list(CONFUSAO[CONFUSAO.ativo3<1].index)"
   ]
  },
  {
   "cell_type": "code",
   "execution_count": 66,
   "metadata": {},
   "outputs": [
    {
     "output_type": "execute_result",
     "data": {
      "text/plain": "Empty DataFrame\nColumns: [ativo3]\nIndex: []",
      "text/html": "<div>\n<style scoped>\n    .dataframe tbody tr th:only-of-type {\n        vertical-align: middle;\n    }\n\n    .dataframe tbody tr th {\n        vertical-align: top;\n    }\n\n    .dataframe thead th {\n        text-align: right;\n    }\n</style>\n<table border=\"1\" class=\"dataframe\">\n  <thead>\n    <tr style=\"text-align: right;\">\n      <th></th>\n      <th>ativo3</th>\n    </tr>\n    <tr>\n      <th>aserestudado</th>\n      <th></th>\n    </tr>\n  </thead>\n  <tbody>\n  </tbody>\n</table>\n</div>"
     },
     "metadata": {},
     "execution_count": 66
    }
   ],
   "source": [
    "MES1 = filtro_alfabetico(MES1,alfabetico)\n",
    "CONFUSAO = MES1.groupby(by='aserestudado').count()[['ativo3']]\n",
    "CONFUSAO[CONFUSAO.ativo3<1]"
   ]
  },
  {
   "cell_type": "code",
   "execution_count": null,
   "metadata": {},
   "outputs": [],
   "source": []
  },
  {
   "cell_type": "code",
   "execution_count": 67,
   "metadata": {
    "tags": []
   },
   "outputs": [
    {
     "output_type": "stream",
     "name": "stdout",
     "text": "TRABALHO CONCLUIDO\n"
    }
   ],
   "source": [
    "MES1 = filtro_unico_index(MES1,aserestudado_sem_nenhum_ativo3=list(CONFUSAO[CONFUSAO.ativo3<1].index))\n",
    "#MES1 = MES1.set_index('index')"
   ]
  },
  {
   "cell_type": "code",
   "execution_count": null,
   "metadata": {},
   "outputs": [],
   "source": []
  },
  {
   "cell_type": "code",
   "execution_count": 68,
   "metadata": {},
   "outputs": [],
   "source": [
    "#MES1[MES1.aserestudado==58334057]"
   ]
  },
  {
   "cell_type": "code",
   "execution_count": 69,
   "metadata": {},
   "outputs": [],
   "source": [
    "#MES1[MES1.aserestudado==58334058]"
   ]
  },
  {
   "cell_type": "code",
   "execution_count": 70,
   "metadata": {
    "tags": []
   },
   "outputs": [
    {
     "output_type": "execute_result",
     "data": {
      "text/plain": "''"
     },
     "metadata": {},
     "execution_count": 70
    }
   ],
   "source": []
  },
  {
   "cell_type": "code",
   "execution_count": null,
   "metadata": {},
   "outputs": [],
   "source": []
  },
  {
   "cell_type": "code",
   "execution_count": 72,
   "metadata": {},
   "outputs": [],
   "source": [
    "MES1.sort_values(['aserestudado','candidatos']).to_csv('excel_fundos\\\\'+str(anomes)+'_2.xls',sep='\\t',decimal= '.')"
   ]
  },
  {
   "cell_type": "code",
   "execution_count": null,
   "metadata": {},
   "outputs": [],
   "source": []
  },
  {
   "cell_type": "code",
   "execution_count": 73,
   "metadata": {},
   "outputs": [],
   "source": [
    "#aqui tenho q ver se as linhas com short estao realmente negativas\n",
    "aux = MES1.copy()"
   ]
  },
  {
   "cell_type": "code",
   "execution_count": 74,
   "metadata": {
    "tags": []
   },
   "outputs": [
    {
     "output_type": "stream",
     "name": "stdout",
     "text": "Wall time: 1.09 s\n"
    }
   ],
   "source": [
    "anomes = 202006\n",
    "\n",
    "%time carteira_pandas,fundo,fundo_cnpj,adm,adm_cnpj,pl,hora_recebimento = parse_html_tudo_int(apelido_fundo,anomes,candidatos=True)"
   ]
  },
  {
   "cell_type": "code",
   "execution_count": 75,
   "metadata": {
    "tags": []
   },
   "outputs": [
    {
     "output_type": "stream",
     "name": "stdout",
     "text": "ISSO ESTA ERRADO, QUANDO É NÃO ALFABETICO (olhar squadra 202004 o aserestudado 58331405 q vc vai entender)\nTento by passar usando a localização de algum Investimento no Exterior\ngrupo 2 todos os ativos1 são nulos\n"
    }
   ],
   "source": [
    "carteira_pandas,alfabetico = separa_blocos(carteira_pandas)"
   ]
  },
  {
   "cell_type": "code",
   "execution_count": 76,
   "metadata": {},
   "outputs": [],
   "source": [
    "explodido = explodir(carteira_pandas,alfabetico)"
   ]
  },
  {
   "cell_type": "code",
   "execution_count": 77,
   "metadata": {
    "tags": []
   },
   "outputs": [
    {
     "output_type": "stream",
     "name": "stdout",
     "text": "-------------------ANIM3-------------------\nB3SA3 -760000.0 \n Empty DataFrame\nColumns: [ativo1, aserestudado, vendas_montante, aquis_montante, pf_valor_mercado, cand_pf_quant, MAX, MIN]\nIndex: [] \n []\nBIDI11 140448800.0 \n                                                  ativo1  aserestudado  \\\n834                                               Ações      59631545   \n1293  Certificado ou recibo de depósito de valores m...      59631552   \n\n      vendas_montante  aquis_montante  pf_valor_mercado  cand_pf_quant  \\\n834               0.0      38112000.0       13812530700      3352556.0   \n1293              0.0             0.0        6666275300      1618028.0   \n\n               MAX           MIN  \n834   3.344032e+08  3.339957e+08  \n1293  1.618028e+08  1.618028e+08   \n []\n-------------------BRML3-------------------\n-------------------CVCB3-------------------\nENEV3 443502200.0 \n                                         ativo1  aserestudado  vendas_montante  \\\n964                                      Ações      59631547              0.0   \n1619  Ações e outros TVM cedidos em empréstimo      59631558              0.0   \n\n      aquis_montante  pf_valor_mercado  cand_pf_quant           MAX  \\\n964     4.904222e+09       25214807400      5605782.0  4.527694e+08   \n1619    0.000000e+00         339176100        75406.0  7.540603e+06   \n\n               MIN  \n964   4.298338e+08  \n1619  7.540595e+06   \n [{964}, {1619, 964}]\nENGI11 107452700.0 \n                                                 ativo1  aserestudado  \\\n792                                              Ações      59631544   \n925  Certificado ou recibo de depósito de valores m...      59631546   \n\n     vendas_montante  aquis_montante  pf_valor_mercado  cand_pf_quant  \\\n792              0.0    2.947290e+09        3199190400       652896.0   \n925              0.0    0.000000e+00        5281842300      1077927.0   \n\n              MAX           MIN  \n792  7.351928e+06  7.409864e+05  \n925  1.077927e+08  1.077927e+08   \n []\n-------------------EQTL3-------------------\n-------------------HAPV3-------------------\n-------------------HGTX3-------------------\n-------------------IGTA3-------------------\n-------------------ITSA4-------------------\nITUB4 -990000.0 \n Empty DataFrame\nColumns: [ativo1, aserestudado, vendas_montante, aquis_montante, pf_valor_mercado, cand_pf_quant, MAX, MIN]\nIndex: [] \n []\nMGLU3 -27914100.0 \n Empty DataFrame\nColumns: [ativo1, aserestudado, vendas_montante, aquis_montante, pf_valor_mercado, cand_pf_quant, MAX, MIN]\nIndex: [] \n []\nMILS3 175877100.0 \n                                         ativo1  aserestudado  vendas_montante  \\\n64                                       Ações      59631532              0.0   \n377                                      Ações      59631537      889522500.0   \n1579  Ações e outros TVM cedidos em empréstimo      59631558              0.0   \n\n      aquis_montante  pf_valor_mercado  cand_pf_quant           MAX  \\\n64               0.0         304034000       563026.0  5.630263e+07   \n377       36474900.0        9654670800     17879020.0  1.961091e+09   \n1579             0.0         339176100       628104.0  6.281043e+07   \n\n               MIN  \n64    5.630257e+07  \n377   1.921757e+09  \n1579  6.281037e+07   \n []\n-------------------MRVE3-------------------\n-------------------NTCO3-------------------\nPCAR3 75083500.0 \n Empty DataFrame\nColumns: [ativo1, aserestudado, vendas_montante, aquis_montante, pf_valor_mercado, cand_pf_quant, MAX, MIN]\nIndex: [] \n []\nPETR4 130360600.0 \n Empty DataFrame\nColumns: [ativo1, aserestudado, vendas_montante, aquis_montante, pf_valor_mercado, cand_pf_quant, MAX, MIN]\nIndex: [] \n []\n-------------------RAIL3-------------------\n-------------------RENT3-------------------\n-------------------SEER3-------------------\n-------------------SHOW3-------------------\nSULA11 135900000.0 \n                                                ativo1  aserestudado  \\\n17  Certificado ou recibo de depósito de valores m...      59631531   \n\n    vendas_montante  aquis_montante  pf_valor_mercado  cand_pf_quant  \\\n17              0.0             0.0        8423587500      1869001.0   \n\n             MAX           MIN  \n17  1.869001e+08  1.869001e+08   \n []\nTEND3 85418000.0 \n     ativo1  aserestudado  vendas_montante  aquis_montante  pf_valor_mercado  \\\n256  Ações      59631535              0.0      32120400.0        9924303900   \n\n     cand_pf_quant           MAX           MIN  \n256      3200356.0  3.190236e+08  3.187299e+08   \n []\n"
    }
   ],
   "source": [
    "MES1 = aux.copy()\n",
    "MES2 = explodido.copy()\n",
    "for ativo in sorted(list({x for x in aux.ativo3 if pd.notna(x)})):\n",
    "    if ativo.upper() not in ('MRSA5B','MRSA3B','MOAR3','EUCA4','USIM6','TIET12','Valores a Pagar'.upper()):\n",
    "        MES2 = teste_fraco(MES1,MES2,ativo,'202006')"
   ]
  },
  {
   "cell_type": "code",
   "execution_count": 93,
   "metadata": {},
   "outputs": [],
   "source": [
    "MES2 = completa('ENEV3',{1619,964},MES2)\n",
    "MES2 = completa('SULA11',{17},MES2)\n",
    "MES2 = completa('BIDI11',{1293},MES2)\n",
    "MES2 = completa('ENGI11',{925},MES2)"
   ]
  },
  {
   "cell_type": "code",
   "execution_count": 131,
   "metadata": {},
   "outputs": [
    {
     "output_type": "execute_result",
     "data": {
      "text/plain": "Empty DataFrame\nColumns: [ativo3]\nIndex: []",
      "text/html": "<div>\n<style scoped>\n    .dataframe tbody tr th:only-of-type {\n        vertical-align: middle;\n    }\n\n    .dataframe tbody tr th {\n        vertical-align: top;\n    }\n\n    .dataframe thead th {\n        text-align: right;\n    }\n</style>\n<table border=\"1\" class=\"dataframe\">\n  <thead>\n    <tr style=\"text-align: right;\">\n      <th></th>\n      <th>ativo3</th>\n    </tr>\n    <tr>\n      <th>aserestudado</th>\n      <th></th>\n    </tr>\n  </thead>\n  <tbody>\n  </tbody>\n</table>\n</div>"
     },
     "metadata": {},
     "execution_count": 131
    }
   ],
   "source": [
    "CONFUSAO = MES2.groupby(by='aserestudado').count()[['ativo3']]\n",
    "CONFUSAO[CONFUSAO.ativo3>1]"
   ]
  },
  {
   "cell_type": "code",
   "execution_count": 146,
   "metadata": {},
   "outputs": [
    {
     "output_type": "execute_result",
     "data": {
      "text/plain": "              ativo3\naserestudado        \n59631550           0",
      "text/html": "<div>\n<style scoped>\n    .dataframe tbody tr th:only-of-type {\n        vertical-align: middle;\n    }\n\n    .dataframe tbody tr th {\n        vertical-align: top;\n    }\n\n    .dataframe thead th {\n        text-align: right;\n    }\n</style>\n<table border=\"1\" class=\"dataframe\">\n  <thead>\n    <tr style=\"text-align: right;\">\n      <th></th>\n      <th>ativo3</th>\n    </tr>\n    <tr>\n      <th>aserestudado</th>\n      <th></th>\n    </tr>\n  </thead>\n  <tbody>\n    <tr>\n      <th>59631550</th>\n      <td>0</td>\n    </tr>\n  </tbody>\n</table>\n</div>"
     },
     "metadata": {},
     "execution_count": 146
    }
   ],
   "source": [
    "CONFUSAO = MES2.groupby(by='aserestudado').count()[['ativo3']]\n",
    "CONFUSAO[CONFUSAO.ativo3<1]"
   ]
  },
  {
   "cell_type": "code",
   "execution_count": 147,
   "metadata": {},
   "outputs": [],
   "source": [
    "#Antes de rodar o filtro_alfabetico preciso me certicicar que não há nenhuma linha com mais de um valor na coluna ativo3, ou seja nenhum aserestudado_com_varios_ativo3, ou seja, que  len(CONFUSAO[CONFUSAO.ativo3>1]) == 0\n",
    "assert len(CONFUSAO[CONFUSAO.ativo3>1]) == 0\n",
    "MES2 = filtro_alfabetico(MES2,alfabetico)"
   ]
  },
  {
   "cell_type": "code",
   "execution_count": 148,
   "metadata": {},
   "outputs": [],
   "source": [
    "#Não achou\n",
    "nao_achou = MES2[MES2.aserestudado.isin(CONFUSAO[CONFUSAO.ativo3<1].index)]"
   ]
  },
  {
   "cell_type": "code",
   "execution_count": 92,
   "metadata": {},
   "outputs": [
    {
     "output_type": "execute_result",
     "data": {
      "text/plain": "      index  aserestudado                                             ativo1  \\\n89       33      58881799  Certificado ou recibo de depósito de valores m...   \n1097     34      58881816  Certificado ou recibo de depósito de valores m...   \n1375     35      58881820  Certificado ou recibo de depósito de valores m...   \n\n     ativo2  ativo3 ativo4    classificacao emp_ligada  vendas_quant  \\\n89      NaN  SULA11    NaN  Para negociacao        Nao           NaN   \n1097    NaN  ENGI11    NaN  Para negociacao        Nao           NaN   \n1375    NaN  BIDI11    NaN  Para negociacao        Nao           NaN   \n\n      vendas_montante  aquis_quant  aquis_montante   pf_quant  pf_valor_custo  \\\n89                NaN          NaN             NaN  1359000.0             NaN   \n1097              NaN          NaN             NaN  1074527.0             NaN   \n1375              NaN          NaN             NaN  1404488.0             NaN   \n\n      pf_valor_mercado  porcent_partrimonio_liquido  fechado candidatos  \\\n89          6095115000                          2.0     True     SULA11   \n1097        5104003200                          1.0     True     ENGI11   \n1375        4719079600                          1.0     True     BIDI11   \n\n      cand_pf_quant  grupo  \n89        1359000.0      1  \n1097      1074527.0      1  \n1375      1404488.0      1  ",
      "text/html": "<div>\n<style scoped>\n    .dataframe tbody tr th:only-of-type {\n        vertical-align: middle;\n    }\n\n    .dataframe tbody tr th {\n        vertical-align: top;\n    }\n\n    .dataframe thead th {\n        text-align: right;\n    }\n</style>\n<table border=\"1\" class=\"dataframe\">\n  <thead>\n    <tr style=\"text-align: right;\">\n      <th></th>\n      <th>index</th>\n      <th>aserestudado</th>\n      <th>ativo1</th>\n      <th>ativo2</th>\n      <th>ativo3</th>\n      <th>ativo4</th>\n      <th>classificacao</th>\n      <th>emp_ligada</th>\n      <th>vendas_quant</th>\n      <th>vendas_montante</th>\n      <th>aquis_quant</th>\n      <th>aquis_montante</th>\n      <th>pf_quant</th>\n      <th>pf_valor_custo</th>\n      <th>pf_valor_mercado</th>\n      <th>porcent_partrimonio_liquido</th>\n      <th>fechado</th>\n      <th>candidatos</th>\n      <th>cand_pf_quant</th>\n      <th>grupo</th>\n    </tr>\n  </thead>\n  <tbody>\n    <tr>\n      <th>89</th>\n      <td>33</td>\n      <td>58881799</td>\n      <td>Certificado ou recibo de depósito de valores m...</td>\n      <td>NaN</td>\n      <td>SULA11</td>\n      <td>NaN</td>\n      <td>Para negociacao</td>\n      <td>Nao</td>\n      <td>NaN</td>\n      <td>NaN</td>\n      <td>NaN</td>\n      <td>NaN</td>\n      <td>1359000.0</td>\n      <td>NaN</td>\n      <td>6095115000</td>\n      <td>2.0</td>\n      <td>True</td>\n      <td>SULA11</td>\n      <td>1359000.0</td>\n      <td>1</td>\n    </tr>\n    <tr>\n      <th>1097</th>\n      <td>34</td>\n      <td>58881816</td>\n      <td>Certificado ou recibo de depósito de valores m...</td>\n      <td>NaN</td>\n      <td>ENGI11</td>\n      <td>NaN</td>\n      <td>Para negociacao</td>\n      <td>Nao</td>\n      <td>NaN</td>\n      <td>NaN</td>\n      <td>NaN</td>\n      <td>NaN</td>\n      <td>1074527.0</td>\n      <td>NaN</td>\n      <td>5104003200</td>\n      <td>1.0</td>\n      <td>True</td>\n      <td>ENGI11</td>\n      <td>1074527.0</td>\n      <td>1</td>\n    </tr>\n    <tr>\n      <th>1375</th>\n      <td>35</td>\n      <td>58881820</td>\n      <td>Certificado ou recibo de depósito de valores m...</td>\n      <td>NaN</td>\n      <td>BIDI11</td>\n      <td>NaN</td>\n      <td>Para negociacao</td>\n      <td>Nao</td>\n      <td>NaN</td>\n      <td>NaN</td>\n      <td>NaN</td>\n      <td>NaN</td>\n      <td>1404488.0</td>\n      <td>NaN</td>\n      <td>4719079600</td>\n      <td>1.0</td>\n      <td>True</td>\n      <td>BIDI11</td>\n      <td>1404488.0</td>\n      <td>1</td>\n    </tr>\n  </tbody>\n</table>\n</div>"
     },
     "metadata": {},
     "execution_count": 92
    }
   ],
   "source": [
    "MES1[MES1.ativo1.str.contains('Certificado')]"
   ]
  },
  {
   "cell_type": "code",
   "execution_count": 145,
   "metadata": {
    "tags": []
   },
   "outputs": [
    {
     "output_type": "stream",
     "name": "stdout",
     "text": "-------------------BIDI3-------------------\n"
    }
   ],
   "source": [
    "MES2 = teste_fraco(MES1,MES2,'BIDI3',str(anomes))"
   ]
  },
  {
   "cell_type": "code",
   "execution_count": 151,
   "metadata": {
    "tags": []
   },
   "outputs": [
    {
     "output_type": "stream",
     "name": "stdout",
     "text": "-------------------BIDI4-------------------\n"
    }
   ],
   "source": [
    "MES2 = teste_fraco(MES1,MES2,'BIDI4',str(anomes))"
   ]
  },
  {
   "cell_type": "code",
   "execution_count": 139,
   "metadata": {},
   "outputs": [
    {
     "output_type": "execute_result",
     "data": {
      "text/plain": "      index  aserestudado ativo1 ativo2 ativo3 ativo4    classificacao  \\\n1237     30      60015343  Ações    NaN    NaN    NaN  Para negociacao   \n\n     emp_ligada  vendas_quant  vendas_montante  aquis_quant  aquis_montante  \\\n1237        Nao           NaN              0.0          NaN       4448000.0   \n\n      pf_quant  pf_valor_custo  pf_valor_mercado  porcent_partrimonio_liquido  \\\n1237  136268.0             NaN         265313700                          0.0   \n\n      fechado candidatos  cand_pf_quant  grupo  \n1237     True      BIDI3       136268.0      1  ",
      "text/html": "<div>\n<style scoped>\n    .dataframe tbody tr th:only-of-type {\n        vertical-align: middle;\n    }\n\n    .dataframe tbody tr th {\n        vertical-align: top;\n    }\n\n    .dataframe thead th {\n        text-align: right;\n    }\n</style>\n<table border=\"1\" class=\"dataframe\">\n  <thead>\n    <tr style=\"text-align: right;\">\n      <th></th>\n      <th>index</th>\n      <th>aserestudado</th>\n      <th>ativo1</th>\n      <th>ativo2</th>\n      <th>ativo3</th>\n      <th>ativo4</th>\n      <th>classificacao</th>\n      <th>emp_ligada</th>\n      <th>vendas_quant</th>\n      <th>vendas_montante</th>\n      <th>aquis_quant</th>\n      <th>aquis_montante</th>\n      <th>pf_quant</th>\n      <th>pf_valor_custo</th>\n      <th>pf_valor_mercado</th>\n      <th>porcent_partrimonio_liquido</th>\n      <th>fechado</th>\n      <th>candidatos</th>\n      <th>cand_pf_quant</th>\n      <th>grupo</th>\n    </tr>\n  </thead>\n  <tbody>\n    <tr>\n      <th>1237</th>\n      <td>30</td>\n      <td>60015343</td>\n      <td>Ações</td>\n      <td>NaN</td>\n      <td>NaN</td>\n      <td>NaN</td>\n      <td>Para negociacao</td>\n      <td>Nao</td>\n      <td>NaN</td>\n      <td>0.0</td>\n      <td>NaN</td>\n      <td>4448000.0</td>\n      <td>136268.0</td>\n      <td>NaN</td>\n      <td>265313700</td>\n      <td>0.0</td>\n      <td>True</td>\n      <td>BIDI3</td>\n      <td>136268.0</td>\n      <td>1</td>\n    </tr>\n  </tbody>\n</table>\n</div>"
     },
     "metadata": {},
     "execution_count": 139
    }
   ],
   "source": [
    "MES3[MES3.candidatos=='BIDI3']"
   ]
  },
  {
   "cell_type": "code",
   "execution_count": 122,
   "metadata": {
    "tags": []
   },
   "outputs": [],
   "source": []
  },
  {
   "cell_type": "code",
   "execution_count": 73,
   "metadata": {},
   "outputs": [],
   "source": []
  },
  {
   "cell_type": "code",
   "execution_count": 152,
   "metadata": {},
   "outputs": [
    {
     "output_type": "execute_result",
     "data": {
      "text/plain": "Empty DataFrame\nColumns: [ativo3]\nIndex: []",
      "text/html": "<div>\n<style scoped>\n    .dataframe tbody tr th:only-of-type {\n        vertical-align: middle;\n    }\n\n    .dataframe tbody tr th {\n        vertical-align: top;\n    }\n\n    .dataframe thead th {\n        text-align: right;\n    }\n</style>\n<table border=\"1\" class=\"dataframe\">\n  <thead>\n    <tr style=\"text-align: right;\">\n      <th></th>\n      <th>ativo3</th>\n    </tr>\n    <tr>\n      <th>aserestudado</th>\n      <th></th>\n    </tr>\n  </thead>\n  <tbody>\n  </tbody>\n</table>\n</div>"
     },
     "metadata": {},
     "execution_count": 152
    }
   ],
   "source": [
    "CONFUSAO = MES2.groupby(by='aserestudado').count()[['ativo3']]\n",
    "CONFUSAO[CONFUSAO.ativo3<1]"
   ]
  },
  {
   "cell_type": "code",
   "execution_count": 153,
   "metadata": {
    "tags": []
   },
   "outputs": [
    {
     "output_type": "stream",
     "name": "stdout",
     "text": "TRABALHO CONCLUIDO\n"
    }
   ],
   "source": [
    "MES2 = filtro_unico_index(MES2,aserestudado_sem_nenhum_ativo3=list(CONFUSAO[CONFUSAO.ativo3<1].index))\n",
    "#MES2.set_index('index')"
   ]
  },
  {
   "cell_type": "code",
   "execution_count": 300,
   "metadata": {},
   "outputs": [],
   "source": []
  },
  {
   "cell_type": "code",
   "execution_count": 52,
   "metadata": {},
   "outputs": [
    {
     "data": {
      "text/html": [
       "<div>\n",
       "<style scoped>\n",
       "    .dataframe tbody tr th:only-of-type {\n",
       "        vertical-align: middle;\n",
       "    }\n",
       "\n",
       "    .dataframe tbody tr th {\n",
       "        vertical-align: top;\n",
       "    }\n",
       "\n",
       "    .dataframe thead th {\n",
       "        text-align: right;\n",
       "    }\n",
       "</style>\n",
       "<table border=\"1\" class=\"dataframe\">\n",
       "  <thead>\n",
       "    <tr style=\"text-align: right;\">\n",
       "      <th></th>\n",
       "      <th>index</th>\n",
       "      <th>aserestudado</th>\n",
       "      <th>ativo1</th>\n",
       "      <th>ativo2</th>\n",
       "      <th>ativo3</th>\n",
       "      <th>ativo4</th>\n",
       "      <th>classificacao</th>\n",
       "      <th>emp_ligada</th>\n",
       "      <th>vendas_quant</th>\n",
       "      <th>vendas_montante</th>\n",
       "      <th>aquis_quant</th>\n",
       "      <th>aquis_montante</th>\n",
       "      <th>pf_quant</th>\n",
       "      <th>pf_valor_custo</th>\n",
       "      <th>pf_valor_mercado</th>\n",
       "      <th>porcent_partrimonio_liquido</th>\n",
       "      <th>fechado</th>\n",
       "      <th>candidatos</th>\n",
       "      <th>cand_pf_quant</th>\n",
       "      <th>grupo</th>\n",
       "    </tr>\n",
       "  </thead>\n",
       "  <tbody>\n",
       "    <tr>\n",
       "      <th>2659</th>\n",
       "      <td>37</td>\n",
       "      <td>58845455</td>\n",
       "      <td>Brazilian Depository Receipt - BDR</td>\n",
       "      <td>NaN</td>\n",
       "      <td>NaN</td>\n",
       "      <td>NaN</td>\n",
       "      <td>Para negociacao</td>\n",
       "      <td>Nao</td>\n",
       "      <td>NaN</td>\n",
       "      <td>NaN</td>\n",
       "      <td>NaN</td>\n",
       "      <td>NaN</td>\n",
       "      <td>34782.0</td>\n",
       "      <td>NaN</td>\n",
       "      <td>86502800</td>\n",
       "      <td>0.0</td>\n",
       "      <td>True</td>\n",
       "      <td>ALUP11</td>\n",
       "      <td>34782.0</td>\n",
       "      <td>3</td>\n",
       "    </tr>\n",
       "    <tr>\n",
       "      <th>2660</th>\n",
       "      <td>37</td>\n",
       "      <td>58845455</td>\n",
       "      <td>Brazilian Depository Receipt - BDR</td>\n",
       "      <td>NaN</td>\n",
       "      <td>NaN</td>\n",
       "      <td>NaN</td>\n",
       "      <td>Para negociacao</td>\n",
       "      <td>Nao</td>\n",
       "      <td>NaN</td>\n",
       "      <td>NaN</td>\n",
       "      <td>NaN</td>\n",
       "      <td>NaN</td>\n",
       "      <td>7683.0</td>\n",
       "      <td>NaN</td>\n",
       "      <td>86502800</td>\n",
       "      <td>0.0</td>\n",
       "      <td>True</td>\n",
       "      <td>ALZR11</td>\n",
       "      <td>7683.0</td>\n",
       "      <td>3</td>\n",
       "    </tr>\n",
       "    <tr>\n",
       "      <th>2661</th>\n",
       "      <td>37</td>\n",
       "      <td>58845455</td>\n",
       "      <td>Brazilian Depository Receipt - BDR</td>\n",
       "      <td>NaN</td>\n",
       "      <td>NaN</td>\n",
       "      <td>NaN</td>\n",
       "      <td>Para negociacao</td>\n",
       "      <td>Nao</td>\n",
       "      <td>NaN</td>\n",
       "      <td>NaN</td>\n",
       "      <td>NaN</td>\n",
       "      <td>NaN</td>\n",
       "      <td>39445.0</td>\n",
       "      <td>NaN</td>\n",
       "      <td>86502800</td>\n",
       "      <td>0.0</td>\n",
       "      <td>True</td>\n",
       "      <td>ANIM3</td>\n",
       "      <td>39445.0</td>\n",
       "      <td>3</td>\n",
       "    </tr>\n",
       "    <tr>\n",
       "      <th>2662</th>\n",
       "      <td>37</td>\n",
       "      <td>58845455</td>\n",
       "      <td>Brazilian Depository Receipt - BDR</td>\n",
       "      <td>NaN</td>\n",
       "      <td>NaN</td>\n",
       "      <td>NaN</td>\n",
       "      <td>Para negociacao</td>\n",
       "      <td>Nao</td>\n",
       "      <td>NaN</td>\n",
       "      <td>NaN</td>\n",
       "      <td>NaN</td>\n",
       "      <td>NaN</td>\n",
       "      <td>20547.0</td>\n",
       "      <td>NaN</td>\n",
       "      <td>86502800</td>\n",
       "      <td>0.0</td>\n",
       "      <td>True</td>\n",
       "      <td>ARZZ3</td>\n",
       "      <td>20547.0</td>\n",
       "      <td>3</td>\n",
       "    </tr>\n",
       "    <tr>\n",
       "      <th>2663</th>\n",
       "      <td>37</td>\n",
       "      <td>58845455</td>\n",
       "      <td>Brazilian Depository Receipt - BDR</td>\n",
       "      <td>NaN</td>\n",
       "      <td>NaN</td>\n",
       "      <td>NaN</td>\n",
       "      <td>Para negociacao</td>\n",
       "      <td>Nao</td>\n",
       "      <td>NaN</td>\n",
       "      <td>NaN</td>\n",
       "      <td>NaN</td>\n",
       "      <td>NaN</td>\n",
       "      <td>537285.0</td>\n",
       "      <td>NaN</td>\n",
       "      <td>86502800</td>\n",
       "      <td>0.0</td>\n",
       "      <td>True</td>\n",
       "      <td>ATOM3</td>\n",
       "      <td>537285.0</td>\n",
       "      <td>3</td>\n",
       "    </tr>\n",
       "    <tr>\n",
       "      <th>2664</th>\n",
       "      <td>37</td>\n",
       "      <td>58845455</td>\n",
       "      <td>Brazilian Depository Receipt - BDR</td>\n",
       "      <td>NaN</td>\n",
       "      <td>NaN</td>\n",
       "      <td>NaN</td>\n",
       "      <td>Para negociacao</td>\n",
       "      <td>Nao</td>\n",
       "      <td>NaN</td>\n",
       "      <td>NaN</td>\n",
       "      <td>NaN</td>\n",
       "      <td>NaN</td>\n",
       "      <td>221235.0</td>\n",
       "      <td>NaN</td>\n",
       "      <td>86502800</td>\n",
       "      <td>0.0</td>\n",
       "      <td>True</td>\n",
       "      <td>AZEV3</td>\n",
       "      <td>221235.0</td>\n",
       "      <td>3</td>\n",
       "    </tr>\n",
       "    <tr>\n",
       "      <th>2665</th>\n",
       "      <td>37</td>\n",
       "      <td>58845455</td>\n",
       "      <td>Brazilian Depository Receipt - BDR</td>\n",
       "      <td>NaN</td>\n",
       "      <td>NaN</td>\n",
       "      <td>NaN</td>\n",
       "      <td>Para negociacao</td>\n",
       "      <td>Nao</td>\n",
       "      <td>NaN</td>\n",
       "      <td>NaN</td>\n",
       "      <td>NaN</td>\n",
       "      <td>NaN</td>\n",
       "      <td>247151.0</td>\n",
       "      <td>NaN</td>\n",
       "      <td>86502800</td>\n",
       "      <td>0.0</td>\n",
       "      <td>True</td>\n",
       "      <td>AZEV4</td>\n",
       "      <td>247151.0</td>\n",
       "      <td>3</td>\n",
       "    </tr>\n",
       "  </tbody>\n",
       "</table>\n",
       "</div>"
      ],
      "text/plain": [
       "      index  aserestudado                              ativo1 ativo2 ativo3  \\\n",
       "2659     37      58845455  Brazilian Depository Receipt - BDR    NaN    NaN   \n",
       "2660     37      58845455  Brazilian Depository Receipt - BDR    NaN    NaN   \n",
       "2661     37      58845455  Brazilian Depository Receipt - BDR    NaN    NaN   \n",
       "2662     37      58845455  Brazilian Depository Receipt - BDR    NaN    NaN   \n",
       "2663     37      58845455  Brazilian Depository Receipt - BDR    NaN    NaN   \n",
       "2664     37      58845455  Brazilian Depository Receipt - BDR    NaN    NaN   \n",
       "2665     37      58845455  Brazilian Depository Receipt - BDR    NaN    NaN   \n",
       "\n",
       "     ativo4    classificacao emp_ligada  vendas_quant  vendas_montante  \\\n",
       "2659    NaN  Para negociacao        Nao           NaN              NaN   \n",
       "2660    NaN  Para negociacao        Nao           NaN              NaN   \n",
       "2661    NaN  Para negociacao        Nao           NaN              NaN   \n",
       "2662    NaN  Para negociacao        Nao           NaN              NaN   \n",
       "2663    NaN  Para negociacao        Nao           NaN              NaN   \n",
       "2664    NaN  Para negociacao        Nao           NaN              NaN   \n",
       "2665    NaN  Para negociacao        Nao           NaN              NaN   \n",
       "\n",
       "      aquis_quant  aquis_montante  pf_quant  pf_valor_custo  pf_valor_mercado  \\\n",
       "2659          NaN             NaN   34782.0             NaN          86502800   \n",
       "2660          NaN             NaN    7683.0             NaN          86502800   \n",
       "2661          NaN             NaN   39445.0             NaN          86502800   \n",
       "2662          NaN             NaN   20547.0             NaN          86502800   \n",
       "2663          NaN             NaN  537285.0             NaN          86502800   \n",
       "2664          NaN             NaN  221235.0             NaN          86502800   \n",
       "2665          NaN             NaN  247151.0             NaN          86502800   \n",
       "\n",
       "      porcent_partrimonio_liquido  fechado candidatos  cand_pf_quant  grupo  \n",
       "2659                          0.0     True     ALUP11        34782.0      3  \n",
       "2660                          0.0     True     ALZR11         7683.0      3  \n",
       "2661                          0.0     True      ANIM3        39445.0      3  \n",
       "2662                          0.0     True      ARZZ3        20547.0      3  \n",
       "2663                          0.0     True      ATOM3       537285.0      3  \n",
       "2664                          0.0     True      AZEV3       221235.0      3  \n",
       "2665                          0.0     True      AZEV4       247151.0      3  "
      ]
     },
     "execution_count": 52,
     "metadata": {},
     "output_type": "execute_result"
    }
   ],
   "source": [
    "MES2[MES2.aserestudado==58845455]"
   ]
  },
  {
   "cell_type": "code",
   "execution_count": null,
   "metadata": {},
   "outputs": [],
   "source": []
  },
  {
   "cell_type": "code",
   "execution_count": 154,
   "metadata": {},
   "outputs": [],
   "source": [
    "#aqui tenho q ver se as linhas com short estao realmente negativas\n",
    "aux = MES2.copy()"
   ]
  },
  {
   "cell_type": "code",
   "execution_count": 155,
   "metadata": {
    "tags": []
   },
   "outputs": [
    {
     "output_type": "stream",
     "name": "stdout",
     "text": "Wall time: 1.09 s\n"
    }
   ],
   "source": [
    "anomes = 202007\n",
    "\n",
    "\n",
    "%time carteira_pandas,fundo,fundo_cnpj,adm,adm_cnpj,pl,hora_recebimento = parse_html_tudo_int(apelido_fundo,anomes,candidatos=True)"
   ]
  },
  {
   "cell_type": "code",
   "execution_count": 156,
   "metadata": {
    "tags": []
   },
   "outputs": [
    {
     "output_type": "stream",
     "name": "stdout",
     "text": "ISSO ESTA ERRADO, QUANDO É NÃO ALFABETICO (olhar squadra 202004 o aserestudado 58331405 q vc vai entender)\nTento by passar usando a localização de algum Investimento no Exterior\ngrupo 2 todos os ativos1 são nulos\n"
    }
   ],
   "source": [
    "carteira_pandas,alfabetico = separa_blocos(carteira_pandas)"
   ]
  },
  {
   "cell_type": "code",
   "execution_count": 117,
   "metadata": {},
   "outputs": [],
   "source": []
  },
  {
   "cell_type": "code",
   "execution_count": 157,
   "metadata": {},
   "outputs": [
    {
     "output_type": "execute_result",
     "data": {
      "text/plain": "{'Cotas de Fundos',\n 'Disponibilidades',\n 'Investimento no Exterior',\n 'Mercado Futuro - Posições vendidas',\n 'Opções - Posições titulares',\n 'Outros valores mobiliários registrados na CVM objeto de oferta pública',\n 'Valores a pagar',\n 'Valores a receber'}"
     },
     "metadata": {},
     "execution_count": 157
    }
   ],
   "source": [
    "set(carteira_pandas[carteira_pandas.grupo == 0].ativo1)"
   ]
  },
  {
   "cell_type": "code",
   "execution_count": 158,
   "metadata": {},
   "outputs": [],
   "source": [
    "explodido = explodir(carteira_pandas,alfabetico)"
   ]
  },
  {
   "cell_type": "code",
   "execution_count": 159,
   "metadata": {},
   "outputs": [
    {
     "output_type": "execute_result",
     "data": {
      "text/plain": "202007"
     },
     "metadata": {},
     "execution_count": 159
    }
   ],
   "source": []
  },
  {
   "cell_type": "code",
   "execution_count": 160,
   "metadata": {
    "tags": []
   },
   "outputs": [
    {
     "output_type": "stream",
     "name": "stdout",
     "text": "-------------------ANIM3-------------------\nB3SA3 21140000.0 \n Empty DataFrame\nColumns: [ativo1, aserestudado, vendas_montante, aquis_montante, pf_valor_mercado, cand_pf_quant, MAX, MIN]\nIndex: [] \n []\nBIDI11 161802800.0 \n                                                  ativo1  aserestudado  \\\n1290  Certificado ou recibo de depósito de valores m...      60015344   \n1491           Ações e outros TVM cedidos em empréstimo      60015348   \n\n      vendas_montante  aquis_montante  pf_valor_mercado  cand_pf_quant  \\\n1290              0.0             0.0       10508982200      1734728.0   \n1491              0.0             0.0        1581434800       261049.0   \n\n               MAX           MIN  \n1290  1.734728e+08  1.734728e+08  \n1491  2.610490e+07  2.610490e+07   \n []\n-------------------BIDI3-------------------\n-------------------BIDI4-------------------\n-------------------BRML3-------------------\n-------------------CVCB3-------------------\n-------------------ENEV3-------------------\nENGI11 107792700.0 \n                                                 ativo1  aserestudado  \\\n945  Certificado ou recibo de depósito de valores m...      60015338   \n\n     vendas_montante  aquis_montante  pf_valor_mercado  cand_pf_quant  \\\n945              0.0             0.0        5574234200      1134127.0   \n\n              MAX           MIN  \n945  1.134127e+08  1.134127e+08   \n []\n-------------------EQTL3-------------------\n-------------------GNDI3-------------------\n-------------------HAPV3-------------------\n-------------------HGTX3-------------------\n-------------------IGTA3-------------------\n-------------------ITSA4-------------------\nITUB4 -22330000.0 \n                                         ativo1  aserestudado  vendas_montante  \\\n1428  Ações e outros TVM cedidos em empréstimo      60015347              0.0   \n\n      aquis_montante  pf_valor_mercado  cand_pf_quant           MAX  \\\n1428             0.0        4828147900      1795518.0  1.795518e+08   \n\n               MIN  \n1428  1.795518e+08   \n []\nMGLU3 29866900.0 \n Empty DataFrame\nColumns: [ativo1, aserestudado, vendas_montante, aquis_montante, pf_valor_mercado, cand_pf_quant, MAX, MIN]\nIndex: [] \n []\n-------------------MRVE3-------------------\n-------------------NTCO3-------------------\n-------------------RAIL3-------------------\n-------------------RENT3-------------------\n-------------------SEER3-------------------\nSHOW3 115602300.0 \n                                         ativo1  aserestudado  vendas_montante  \\\n13                                       Ações      60015319              0.0   \n121                                      Ações      60015321              0.0   \n164                                      Ações      60015322              0.0   \n277                                      Ações      60015324       55572000.0   \n434                                      Ações      60015327      443289000.0   \n1417  Ações e outros TVM cedidos em empréstimo      60015347              0.0   \n1469  Ações e outros TVM cedidos em empréstimo      60015348              0.0   \n1535  Ações e outros TVM cedidos em empréstimo      60015349              0.0   \n1652  Ações e outros TVM cedidos em empréstimo      60015351              0.0   \n\n      aquis_montante  pf_valor_mercado  cand_pf_quant           MAX  \\\n13      3.389739e+09        3340589800     12059891.0  1.693719e+08   \n121     2.347345e+09        2615274700      9441425.0  2.262999e+08   \n164     0.000000e+00         320218300      1156023.0  1.156023e+08   \n277     2.051311e+08        3542550200     12788990.0  1.237707e+09   \n434     2.581021e+09       22682010600     81884515.0  7.570966e+09   \n1417    0.000000e+00        4828147900     17430137.0  1.743014e+09   \n1469    0.000000e+00        1581434800      5709151.0  5.709152e+08   \n1535    0.000000e+00         488217700      1762519.0  1.762520e+08   \n1652    0.000000e+00        3877058700     13996602.0  1.399660e+09   \n\n               MIN  \n13   -1.078631e+08  \n121   3.431865e+07  \n164   1.156022e+08  \n277   1.216385e+09  \n434   7.323618e+09  \n1417  1.743014e+09  \n1469  5.709151e+08  \n1535  1.762518e+08  \n1652  1.399660e+09   \n [{13}, {121}, {164}, {13, 1535}]\nSULA11 186900100.0 \n                                                ativo1  aserestudado  \\\n70  Certificado ou recibo de depósito de valores m...      60015320   \n\n    vendas_montante  aquis_montante  pf_valor_mercado  cand_pf_quant  \\\n70              0.0             0.0       12193187700      2404968.0   \n\n             MAX           MIN  \n70  2.404968e+08  2.404968e+08   \n []\n"
    }
   ],
   "source": [
    "MES2 = aux.copy()\n",
    "MES3 = explodido.copy()\n",
    "for ativo in sorted(list({x for x in aux.ativo3 if pd.notna(x)})):\n",
    "    if ativo.upper() not in ('MRSA5B','MRSA3B','MOAR3','EUCA4','USIM6','TIET12','Valores a Pagar'.upper()):\n",
    "        MES3 = teste_fraco(MES2,MES3,ativo,'202007')"
   ]
  },
  {
   "cell_type": "code",
   "execution_count": 206,
   "metadata": {},
   "outputs": [],
   "source": [
    "MES3 = completa('BIDI11',{1290},MES3)\n",
    "MES3 = completa('ENGI11',{945},MES3)\n",
    "MES3 = completa('SULA11',{70},MES3)\n",
    "MES3 = completa('SHOW3',{164},MES3)\n"
   ]
  },
  {
   "cell_type": "code",
   "execution_count": 207,
   "metadata": {},
   "outputs": [
    {
     "output_type": "execute_result",
     "data": {
      "text/plain": "Empty DataFrame\nColumns: [ativo3]\nIndex: []",
      "text/html": "<div>\n<style scoped>\n    .dataframe tbody tr th:only-of-type {\n        vertical-align: middle;\n    }\n\n    .dataframe tbody tr th {\n        vertical-align: top;\n    }\n\n    .dataframe thead th {\n        text-align: right;\n    }\n</style>\n<table border=\"1\" class=\"dataframe\">\n  <thead>\n    <tr style=\"text-align: right;\">\n      <th></th>\n      <th>ativo3</th>\n    </tr>\n    <tr>\n      <th>aserestudado</th>\n      <th></th>\n    </tr>\n  </thead>\n  <tbody>\n  </tbody>\n</table>\n</div>"
     },
     "metadata": {},
     "execution_count": 207
    }
   ],
   "source": [
    "CONFUSAO = MES3.groupby(by='aserestudado').count()[['ativo3']]\n",
    "CONFUSAO[CONFUSAO.ativo3>1]"
   ]
  },
  {
   "cell_type": "code",
   "execution_count": 208,
   "metadata": {},
   "outputs": [
    {
     "output_type": "execute_result",
     "data": {
      "text/plain": "              ativo3\naserestudado        \n60015319           0\n60015321           0",
      "text/html": "<div>\n<style scoped>\n    .dataframe tbody tr th:only-of-type {\n        vertical-align: middle;\n    }\n\n    .dataframe tbody tr th {\n        vertical-align: top;\n    }\n\n    .dataframe thead th {\n        text-align: right;\n    }\n</style>\n<table border=\"1\" class=\"dataframe\">\n  <thead>\n    <tr style=\"text-align: right;\">\n      <th></th>\n      <th>ativo3</th>\n    </tr>\n    <tr>\n      <th>aserestudado</th>\n      <th></th>\n    </tr>\n  </thead>\n  <tbody>\n    <tr>\n      <th>60015319</th>\n      <td>0</td>\n    </tr>\n    <tr>\n      <th>60015321</th>\n      <td>0</td>\n    </tr>\n  </tbody>\n</table>\n</div>"
     },
     "metadata": {},
     "execution_count": 208
    }
   ],
   "source": [
    "#papeis que ele Não achou\n",
    "CONFUSAO = MES3.groupby(by='aserestudado').count()[['ativo3']]\n",
    "CONFUSAO[CONFUSAO.ativo3<1]"
   ]
  },
  {
   "cell_type": "code",
   "execution_count": 218,
   "metadata": {},
   "outputs": [],
   "source": [
    "nao_achou = MES3[MES3.aserestudado.isin(CONFUSAO[CONFUSAO.ativo3<1].index)]\n"
   ]
  },
  {
   "cell_type": "code",
   "execution_count": 212,
   "metadata": {},
   "outputs": [],
   "source": [
    "#Antes de rodar o filtro_alfabetico preciso me certicicar que não há nenhuma linha com mais de um valor na coluna ativo3, ou seja nenhum aserestudado_com_varios_ativo3, ou seja, que  len(CONFUSAO[CONFUSAO.ativo3>1]) == 0\n",
    "assert len(CONFUSAO[CONFUSAO.ativo3>1]) == 0\n",
    "MES3 = filtro_alfabetico(MES3,alfabetico)"
   ]
  },
  {
   "cell_type": "code",
   "execution_count": 213,
   "metadata": {
    "tags": []
   },
   "outputs": [
    {
     "output_type": "stream",
     "name": "stdout",
     "text": "TRABALHO CONCLUIDO\n"
    }
   ],
   "source": [
    "MES3 = filtro_unico_index(MES3,aserestudado_sem_nenhum_ativo3=list(CONFUSAO[CONFUSAO.ativo3<1].index))\n",
    "#MES2.set_index('index')"
   ]
  },
  {
   "cell_type": "code",
   "execution_count": 188,
   "metadata": {},
   "outputs": [],
   "source": [
    "MES3[MES3.ativo3=='OIBR3']\n",
    "MES3.loc[372, 'ativo3']=MES3.loc[372, 'ativo4']"
   ]
  },
  {
   "cell_type": "code",
   "execution_count": 232,
   "metadata": {},
   "outputs": [
    {
     "output_type": "execute_result",
     "data": {
      "text/plain": "''"
     },
     "metadata": {},
     "execution_count": 232
    }
   ],
   "source": []
  },
  {
   "cell_type": "code",
   "execution_count": 231,
   "metadata": {
    "tags": []
   },
   "outputs": [
    {
     "output_type": "stream",
     "name": "stdout",
     "text": "-------------------UGPA3-------------------\n"
    }
   ],
   "source": [
    "MES3 = teste_fraco(MES2,MES3,'UGPA3','202007')"
   ]
  },
  {
   "cell_type": "code",
   "execution_count": 216,
   "metadata": {
    "tags": []
   },
   "outputs": [
    {
     "output_type": "stream",
     "name": "stdout",
     "text": "-------------------TASA13-------------------\n-------------------TASA15-------------------\n-------------------TASA17-------------------\n-------------------TCNO3-------------------\n-------------------TCNO4-------------------\n-------------------TECN3-------------------\n-------------------TIET3-------------------\n-------------------TPIS3-------------------\n-------------------UGPA3-------------------\n-------------------VIVT4-------------------\n-------------------VULC3-------------------\nSLED3 0.0 \n     ativo1  aserestudado  vendas_montante  aquis_montante  pf_valor_mercado  \\\n112  Ações      60015321              0.0    2.347345e+09        2615274700   \n\n     cand_pf_quant           MAX           MIN  \n112     18680534.0  6.943808e+08  1.546625e+08   \n []\n"
    },
    {
     "output_type": "error",
     "ename": "IndexError",
     "evalue": "single positional indexer is out-of-bounds",
     "traceback": [
      "\u001b[1;31m---------------------------------------------------------------------------\u001b[0m",
      "\u001b[1;31mIndexError\u001b[0m                                Traceback (most recent call last)",
      "\u001b[1;32m<ipython-input-216-9bed7d8d5572>\u001b[0m in \u001b[0;36m<module>\u001b[1;34m\u001b[0m\n\u001b[0;32m      1\u001b[0m \u001b[1;32mfor\u001b[0m \u001b[0mk\u001b[0m \u001b[1;32min\u001b[0m \u001b[0mnao_achou\u001b[0m\u001b[1;33m.\u001b[0m\u001b[0maserestudado\u001b[0m\u001b[1;33m.\u001b[0m\u001b[0munique\u001b[0m\u001b[1;33m(\u001b[0m\u001b[1;33m)\u001b[0m\u001b[1;33m:\u001b[0m\u001b[1;33m\u001b[0m\u001b[0m\n\u001b[0;32m      2\u001b[0m     \u001b[1;32mfor\u001b[0m \u001b[0mcand\u001b[0m \u001b[1;32min\u001b[0m \u001b[0mMES3\u001b[0m\u001b[1;33m[\u001b[0m\u001b[0mMES3\u001b[0m\u001b[1;33m.\u001b[0m\u001b[0maserestudado\u001b[0m\u001b[1;33m==\u001b[0m\u001b[0mk\u001b[0m\u001b[1;33m]\u001b[0m\u001b[1;33m.\u001b[0m\u001b[0mcandidatos\u001b[0m\u001b[1;33m.\u001b[0m\u001b[0mvalues\u001b[0m\u001b[1;33m:\u001b[0m\u001b[1;33m\u001b[0m\u001b[0m\n\u001b[1;32m----> 3\u001b[1;33m         \u001b[0mteste_fraco\u001b[0m\u001b[1;33m(\u001b[0m\u001b[0mMES2\u001b[0m\u001b[1;33m,\u001b[0m\u001b[0mMES3\u001b[0m\u001b[1;33m,\u001b[0m\u001b[0mcand\u001b[0m\u001b[1;33m,\u001b[0m\u001b[1;34m'202007'\u001b[0m\u001b[1;33m)\u001b[0m\u001b[1;33m\u001b[0m\u001b[0m\n\u001b[0m",
      "\u001b[1;32m<ipython-input-23-2645ff6d33c9>\u001b[0m in \u001b[0;36mteste_fraco\u001b[1;34m(carteira_0, carteira_1, ativo, anomes)\u001b[0m\n\u001b[0;32m      3\u001b[0m         \u001b[0mfechamento_0\u001b[0m \u001b[1;33m=\u001b[0m \u001b[0mprecos\u001b[0m\u001b[1;33m(\u001b[0m\u001b[0mstr\u001b[0m\u001b[1;33m(\u001b[0m\u001b[0mint\u001b[0m\u001b[1;33m(\u001b[0m\u001b[0manomes\u001b[0m\u001b[1;33m)\u001b[0m\u001b[1;33m-\u001b[0m\u001b[1;36m101\u001b[0m\u001b[1;33m+\u001b[0m\u001b[1;36m12\u001b[0m\u001b[1;33m)\u001b[0m\u001b[1;33m,\u001b[0m\u001b[0mativo\u001b[0m\u001b[1;33m)\u001b[0m\u001b[1;33m.\u001b[0m\u001b[0msort_values\u001b[0m\u001b[1;33m(\u001b[0m\u001b[0mby\u001b[0m\u001b[1;33m=\u001b[0m\u001b[1;34m'DATA'\u001b[0m\u001b[1;33m,\u001b[0m\u001b[0mascending\u001b[0m\u001b[1;33m=\u001b[0m\u001b[1;32mFalse\u001b[0m\u001b[1;33m)\u001b[0m\u001b[1;33m.\u001b[0m\u001b[0miloc\u001b[0m\u001b[1;33m[\u001b[0m\u001b[1;36m0\u001b[0m\u001b[1;33m,\u001b[0m\u001b[1;36m10\u001b[0m\u001b[1;33m]\u001b[0m\u001b[1;33m\u001b[0m\u001b[0m\n\u001b[0;32m      4\u001b[0m     \u001b[1;32melse\u001b[0m\u001b[1;33m:\u001b[0m\u001b[1;33m\u001b[0m\u001b[0m\n\u001b[1;32m----> 5\u001b[1;33m         \u001b[0mfechamento_0\u001b[0m \u001b[1;33m=\u001b[0m \u001b[0mprecos\u001b[0m\u001b[1;33m(\u001b[0m\u001b[0mstr\u001b[0m\u001b[1;33m(\u001b[0m\u001b[0mint\u001b[0m\u001b[1;33m(\u001b[0m\u001b[0manomes\u001b[0m\u001b[1;33m)\u001b[0m\u001b[1;33m-\u001b[0m\u001b[1;36m1\u001b[0m\u001b[1;33m)\u001b[0m\u001b[1;33m,\u001b[0m\u001b[0mativo\u001b[0m\u001b[1;33m)\u001b[0m\u001b[1;33m.\u001b[0m\u001b[0msort_values\u001b[0m\u001b[1;33m(\u001b[0m\u001b[0mby\u001b[0m\u001b[1;33m=\u001b[0m\u001b[1;34m'DATA'\u001b[0m\u001b[1;33m,\u001b[0m\u001b[0mascending\u001b[0m\u001b[1;33m=\u001b[0m\u001b[1;32mFalse\u001b[0m\u001b[1;33m)\u001b[0m\u001b[1;33m.\u001b[0m\u001b[0miloc\u001b[0m\u001b[1;33m[\u001b[0m\u001b[1;36m0\u001b[0m\u001b[1;33m,\u001b[0m\u001b[1;36m10\u001b[0m\u001b[1;33m]\u001b[0m\u001b[1;33m\u001b[0m\u001b[0m\n\u001b[0m\u001b[0;32m      6\u001b[0m     \u001b[0mquantidade_referencia\u001b[0m \u001b[1;33m=\u001b[0m\u001b[1;36m100\u001b[0m\u001b[1;33m*\u001b[0m\u001b[1;33m(\u001b[0m \u001b[0mcarteira_0\u001b[0m\u001b[1;33m[\u001b[0m\u001b[0mcarteira_0\u001b[0m\u001b[1;33m.\u001b[0m\u001b[0mativo3\u001b[0m \u001b[1;33m==\u001b[0m \u001b[0mativo\u001b[0m\u001b[1;33m]\u001b[0m\u001b[1;33m.\u001b[0m\u001b[0mpf_quant\u001b[0m\u001b[1;33m.\u001b[0m\u001b[0msum\u001b[0m\u001b[1;33m(\u001b[0m\u001b[1;33m)\u001b[0m \u001b[1;33m-\u001b[0m \u001b[0mcarteira_1\u001b[0m\u001b[1;33m[\u001b[0m\u001b[1;33m~\u001b[0m\u001b[0mcarteira_1\u001b[0m\u001b[1;33m.\u001b[0m\u001b[0mfechado\u001b[0m\u001b[1;33m]\u001b[0m\u001b[1;33m[\u001b[0m\u001b[0mcarteira_1\u001b[0m\u001b[1;33m.\u001b[0m\u001b[0mativo3\u001b[0m \u001b[1;33m==\u001b[0m \u001b[0mativo\u001b[0m\u001b[1;33m]\u001b[0m\u001b[1;33m.\u001b[0m\u001b[0mpf_quant\u001b[0m\u001b[1;33m.\u001b[0m\u001b[0msum\u001b[0m\u001b[1;33m(\u001b[0m\u001b[1;33m)\u001b[0m \u001b[1;33m)\u001b[0m\u001b[1;33m\u001b[0m\u001b[0m\n\u001b[0;32m      7\u001b[0m     \u001b[0mauxiliar\u001b[0m \u001b[1;33m=\u001b[0m \u001b[0mcarteira_1\u001b[0m\u001b[1;33m[\u001b[0m\u001b[0mcarteira_1\u001b[0m\u001b[1;33m.\u001b[0m\u001b[0mfechado\u001b[0m\u001b[1;33m]\u001b[0m\u001b[1;33m[\u001b[0m\u001b[0mcarteira_1\u001b[0m\u001b[1;33m.\u001b[0m\u001b[0mcandidatos\u001b[0m\u001b[1;33m.\u001b[0m\u001b[0mstr\u001b[0m\u001b[1;33m.\u001b[0m\u001b[0mcontains\u001b[0m\u001b[1;33m(\u001b[0m\u001b[0mativo\u001b[0m\u001b[1;33m)\u001b[0m\u001b[1;33m]\u001b[0m\u001b[1;33m[\u001b[0m\u001b[1;33m[\u001b[0m\u001b[1;34m'ativo1'\u001b[0m\u001b[1;33m,\u001b[0m\u001b[1;34m'aserestudado'\u001b[0m\u001b[1;33m,\u001b[0m\u001b[1;34m'vendas_montante'\u001b[0m\u001b[1;33m,\u001b[0m\u001b[1;34m'aquis_montante'\u001b[0m\u001b[1;33m,\u001b[0m\u001b[1;34m'pf_valor_mercado'\u001b[0m\u001b[1;33m,\u001b[0m\u001b[1;34m'cand_pf_quant'\u001b[0m\u001b[1;33m]\u001b[0m\u001b[1;33m]\u001b[0m\u001b[1;33m.\u001b[0m\u001b[0mfillna\u001b[0m\u001b[1;33m(\u001b[0m\u001b[1;36m0\u001b[0m\u001b[1;33m)\u001b[0m\u001b[1;33m.\u001b[0m\u001b[0mcopy\u001b[0m\u001b[1;33m(\u001b[0m\u001b[1;33m)\u001b[0m\u001b[1;33m\u001b[0m\u001b[0m\n",
      "\u001b[1;32mC:\\Program Files\\Python36\\lib\\site-packages\\pandas\\core\\indexing.py\u001b[0m in \u001b[0;36m__getitem__\u001b[1;34m(self, key)\u001b[0m\n\u001b[0;32m   1760\u001b[0m                 \u001b[1;32mexcept\u001b[0m \u001b[1;33m(\u001b[0m\u001b[0mKeyError\u001b[0m\u001b[1;33m,\u001b[0m \u001b[0mIndexError\u001b[0m\u001b[1;33m,\u001b[0m \u001b[0mAttributeError\u001b[0m\u001b[1;33m)\u001b[0m\u001b[1;33m:\u001b[0m\u001b[1;33m\u001b[0m\u001b[0m\n\u001b[0;32m   1761\u001b[0m                     \u001b[1;32mpass\u001b[0m\u001b[1;33m\u001b[0m\u001b[0m\n\u001b[1;32m-> 1762\u001b[1;33m             \u001b[1;32mreturn\u001b[0m \u001b[0mself\u001b[0m\u001b[1;33m.\u001b[0m\u001b[0m_getitem_tuple\u001b[0m\u001b[1;33m(\u001b[0m\u001b[0mkey\u001b[0m\u001b[1;33m)\u001b[0m\u001b[1;33m\u001b[0m\u001b[0m\n\u001b[0m\u001b[0;32m   1763\u001b[0m         \u001b[1;32melse\u001b[0m\u001b[1;33m:\u001b[0m\u001b[1;33m\u001b[0m\u001b[0m\n\u001b[0;32m   1764\u001b[0m             \u001b[1;31m# we by definition only have the 0th axis\u001b[0m\u001b[1;33m\u001b[0m\u001b[1;33m\u001b[0m\u001b[0m\n",
      "\u001b[1;32mC:\\Program Files\\Python36\\lib\\site-packages\\pandas\\core\\indexing.py\u001b[0m in \u001b[0;36m_getitem_tuple\u001b[1;34m(self, tup)\u001b[0m\n\u001b[0;32m   2065\u001b[0m     \u001b[1;32mdef\u001b[0m \u001b[0m_getitem_tuple\u001b[0m\u001b[1;33m(\u001b[0m\u001b[0mself\u001b[0m\u001b[1;33m,\u001b[0m \u001b[0mtup\u001b[0m\u001b[1;33m:\u001b[0m \u001b[0mTuple\u001b[0m\u001b[1;33m)\u001b[0m\u001b[1;33m:\u001b[0m\u001b[1;33m\u001b[0m\u001b[0m\n\u001b[0;32m   2066\u001b[0m \u001b[1;33m\u001b[0m\u001b[0m\n\u001b[1;32m-> 2067\u001b[1;33m         \u001b[0mself\u001b[0m\u001b[1;33m.\u001b[0m\u001b[0m_has_valid_tuple\u001b[0m\u001b[1;33m(\u001b[0m\u001b[0mtup\u001b[0m\u001b[1;33m)\u001b[0m\u001b[1;33m\u001b[0m\u001b[0m\n\u001b[0m\u001b[0;32m   2068\u001b[0m         \u001b[1;32mtry\u001b[0m\u001b[1;33m:\u001b[0m\u001b[1;33m\u001b[0m\u001b[0m\n\u001b[0;32m   2069\u001b[0m             \u001b[1;32mreturn\u001b[0m \u001b[0mself\u001b[0m\u001b[1;33m.\u001b[0m\u001b[0m_getitem_lowerdim\u001b[0m\u001b[1;33m(\u001b[0m\u001b[0mtup\u001b[0m\u001b[1;33m)\u001b[0m\u001b[1;33m\u001b[0m\u001b[0m\n",
      "\u001b[1;32mC:\\Program Files\\Python36\\lib\\site-packages\\pandas\\core\\indexing.py\u001b[0m in \u001b[0;36m_has_valid_tuple\u001b[1;34m(self, key)\u001b[0m\n\u001b[0;32m    701\u001b[0m                 \u001b[1;32mraise\u001b[0m \u001b[0mIndexingError\u001b[0m\u001b[1;33m(\u001b[0m\u001b[1;34m\"Too many indexers\"\u001b[0m\u001b[1;33m)\u001b[0m\u001b[1;33m\u001b[0m\u001b[0m\n\u001b[0;32m    702\u001b[0m             \u001b[1;32mtry\u001b[0m\u001b[1;33m:\u001b[0m\u001b[1;33m\u001b[0m\u001b[0m\n\u001b[1;32m--> 703\u001b[1;33m                 \u001b[0mself\u001b[0m\u001b[1;33m.\u001b[0m\u001b[0m_validate_key\u001b[0m\u001b[1;33m(\u001b[0m\u001b[0mk\u001b[0m\u001b[1;33m,\u001b[0m \u001b[0mi\u001b[0m\u001b[1;33m)\u001b[0m\u001b[1;33m\u001b[0m\u001b[0m\n\u001b[0m\u001b[0;32m    704\u001b[0m             \u001b[1;32mexcept\u001b[0m \u001b[0mValueError\u001b[0m\u001b[1;33m:\u001b[0m\u001b[1;33m\u001b[0m\u001b[0m\n\u001b[0;32m    705\u001b[0m                 raise ValueError(\n",
      "\u001b[1;32mC:\\Program Files\\Python36\\lib\\site-packages\\pandas\\core\\indexing.py\u001b[0m in \u001b[0;36m_validate_key\u001b[1;34m(self, key, axis)\u001b[0m\n\u001b[0;32m   1992\u001b[0m             \u001b[1;32mreturn\u001b[0m\u001b[1;33m\u001b[0m\u001b[0m\n\u001b[0;32m   1993\u001b[0m         \u001b[1;32melif\u001b[0m \u001b[0mis_integer\u001b[0m\u001b[1;33m(\u001b[0m\u001b[0mkey\u001b[0m\u001b[1;33m)\u001b[0m\u001b[1;33m:\u001b[0m\u001b[1;33m\u001b[0m\u001b[0m\n\u001b[1;32m-> 1994\u001b[1;33m             \u001b[0mself\u001b[0m\u001b[1;33m.\u001b[0m\u001b[0m_validate_integer\u001b[0m\u001b[1;33m(\u001b[0m\u001b[0mkey\u001b[0m\u001b[1;33m,\u001b[0m \u001b[0maxis\u001b[0m\u001b[1;33m)\u001b[0m\u001b[1;33m\u001b[0m\u001b[0m\n\u001b[0m\u001b[0;32m   1995\u001b[0m         \u001b[1;32melif\u001b[0m \u001b[0misinstance\u001b[0m\u001b[1;33m(\u001b[0m\u001b[0mkey\u001b[0m\u001b[1;33m,\u001b[0m \u001b[0mtuple\u001b[0m\u001b[1;33m)\u001b[0m\u001b[1;33m:\u001b[0m\u001b[1;33m\u001b[0m\u001b[0m\n\u001b[0;32m   1996\u001b[0m             \u001b[1;31m# a tuple should already have been caught by this point\u001b[0m\u001b[1;33m\u001b[0m\u001b[1;33m\u001b[0m\u001b[0m\n",
      "\u001b[1;32mC:\\Program Files\\Python36\\lib\\site-packages\\pandas\\core\\indexing.py\u001b[0m in \u001b[0;36m_validate_integer\u001b[1;34m(self, key, axis)\u001b[0m\n\u001b[0;32m   2061\u001b[0m         \u001b[0mlen_axis\u001b[0m \u001b[1;33m=\u001b[0m \u001b[0mlen\u001b[0m\u001b[1;33m(\u001b[0m\u001b[0mself\u001b[0m\u001b[1;33m.\u001b[0m\u001b[0mobj\u001b[0m\u001b[1;33m.\u001b[0m\u001b[0m_get_axis\u001b[0m\u001b[1;33m(\u001b[0m\u001b[0maxis\u001b[0m\u001b[1;33m)\u001b[0m\u001b[1;33m)\u001b[0m\u001b[1;33m\u001b[0m\u001b[0m\n\u001b[0;32m   2062\u001b[0m         \u001b[1;32mif\u001b[0m \u001b[0mkey\u001b[0m \u001b[1;33m>=\u001b[0m \u001b[0mlen_axis\u001b[0m \u001b[1;32mor\u001b[0m \u001b[0mkey\u001b[0m \u001b[1;33m<\u001b[0m \u001b[1;33m-\u001b[0m\u001b[0mlen_axis\u001b[0m\u001b[1;33m:\u001b[0m\u001b[1;33m\u001b[0m\u001b[0m\n\u001b[1;32m-> 2063\u001b[1;33m             \u001b[1;32mraise\u001b[0m \u001b[0mIndexError\u001b[0m\u001b[1;33m(\u001b[0m\u001b[1;34m\"single positional indexer is out-of-bounds\"\u001b[0m\u001b[1;33m)\u001b[0m\u001b[1;33m\u001b[0m\u001b[0m\n\u001b[0m\u001b[0;32m   2064\u001b[0m \u001b[1;33m\u001b[0m\u001b[0m\n\u001b[0;32m   2065\u001b[0m     \u001b[1;32mdef\u001b[0m \u001b[0m_getitem_tuple\u001b[0m\u001b[1;33m(\u001b[0m\u001b[0mself\u001b[0m\u001b[1;33m,\u001b[0m \u001b[0mtup\u001b[0m\u001b[1;33m:\u001b[0m \u001b[0mTuple\u001b[0m\u001b[1;33m)\u001b[0m\u001b[1;33m:\u001b[0m\u001b[1;33m\u001b[0m\u001b[0m\n",
      "\u001b[1;31mIndexError\u001b[0m: single positional indexer is out-of-bounds"
     ]
    }
   ],
   "source": [
    "for k in nao_achou.aserestudado.unique():\n",
    "    for cand in MES3[MES3.aserestudado==k].candidatos.values:\n",
    "        teste_fraco(MES2,MES3,cand,'202007')"
   ]
  },
  {
   "cell_type": "code",
   "execution_count": 217,
   "metadata": {},
   "outputs": [
    {
     "output_type": "execute_result",
     "data": {
      "text/plain": "'SULA11'"
     },
     "metadata": {},
     "execution_count": 217
    }
   ],
   "source": []
  },
  {
   "cell_type": "code",
   "execution_count": 189,
   "metadata": {
    "tags": []
   },
   "outputs": [
    {
     "output_type": "stream",
     "name": "stdout",
     "text": "-------------------RADL3-------------------\n"
    }
   ],
   "source": [
    "MES3 = teste_fraco(MES2,MES3,'RADL3','202007')"
   ]
  },
  {
   "cell_type": "code",
   "execution_count": 65,
   "metadata": {},
   "outputs": [],
   "source": [
    "MES0.to_csv('excel_fundos\\\\'+apelido_fundo+'\\\\'+str(202003)+'.xls',sep='\\t',decimal= '.')"
   ]
  },
  {
   "cell_type": "code",
   "execution_count": 66,
   "metadata": {},
   "outputs": [],
   "source": [
    "MES1.to_csv('excel_fundos\\\\'+apelido_fundo+'\\\\'+str(202004)+'.xls',sep='\\t',decimal= '.')"
   ]
  },
  {
   "cell_type": "code",
   "execution_count": 76,
   "metadata": {},
   "outputs": [],
   "source": [
    "MES2.to_csv('excel_fundos\\\\'+apelido_fundo+'\\\\'+str(202005)+'.xls',sep='\\t',decimal= '.')"
   ]
  },
  {
   "cell_type": "code",
   "execution_count": 72,
   "metadata": {},
   "outputs": [],
   "source": [
    "MES3.to_csv('excel_fundos\\\\'+apelido_fundo+'\\\\'+str(202006)+'.xls',sep='\\t',decimal= '.')"
   ]
  },
  {
   "cell_type": "code",
   "execution_count": null,
   "metadata": {},
   "outputs": [],
   "source": []
  }
 ],
 "metadata": {
  "kernelspec": {
   "display_name": "Python 3",
   "language": "python",
   "name": "python3"
  },
  "language_info": {
   "codemirror_mode": {
    "name": "ipython",
    "version": 3
   },
   "file_extension": ".py",
   "mimetype": "text/x-python",
   "name": "python",
   "nbconvert_exporter": "python",
   "pygments_lexer": "ipython3",
   "version": "3.6.3-final"
  }
 },
 "nbformat": 4,
 "nbformat_minor": 4
}