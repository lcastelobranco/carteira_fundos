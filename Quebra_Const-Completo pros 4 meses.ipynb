{
 "cells": [
  {
   "cell_type": "code",
   "execution_count": 590,
   "metadata": {},
   "outputs": [],
   "source": [
    "import itertools\n",
    "import pdb\n",
    "import os\n",
    "from helper import *"
   ]
  },
  {
   "cell_type": "code",
   "execution_count": 591,
   "metadata": {
    "tags": []
   },
   "outputs": [
    {
     "output_type": "stream",
     "name": "stdout",
     "text": "[{1, 2}, {1, 3}, {2, 3}]\n"
    }
   ],
   "source": [
    "def findsubsets(s, n): \n",
    "    #return list(itertools.combinations(s, n)) \n",
    "    return list(map(set, itertools.combinations(s, n))) \n",
    "s = {1, 2, 3} \n",
    "n = 2\n",
    "  \n",
    "print(findsubsets(s, n))"
   ]
  },
  {
   "cell_type": "code",
   "execution_count": 592,
   "metadata": {},
   "outputs": [],
   "source": [
    "def mes(apelido_fundo,anomes,tipo):\n",
    "    if tipo == 'acoes':\n",
    "        aux = pd.read_csv('excel_fundos\\\\'+apelido_fundo+'\\\\'+str(anomes)+'.xls',index_col = 0,sep='\\t',decimal= '.')\n",
    "        lista_acoes = ['Obrigações por ações e outros TVM recebidos em empréstimo',\n",
    "                         'Ações e outros TVM cedidos em empréstimo',\n",
    "                         'Ações',\n",
    "                         'Valores a pagar']\n",
    "        \n",
    "        aux.pf_quant = aux.pf_quant.apply(abs)*aux.ativo1.apply(lambda x: -1 if 'VALORES A PAGAR' in x.upper() or 'OBRIGAÇÕES' in x.upper() else 1)\n",
    "        aux.pf_valor_mercado = aux.pf_valor_mercado.apply(abs)*aux.ativo1.apply(lambda x: -1 if 'VALORES A PAGAR' in x.upper() or 'OBRIGAÇÕES' in x.upper() else 1)\n",
    "        #aux.pf_quant = aux.pf_quant*abs(aux.porcent_partrimonio_liquido)/aux.porcent_partrimonio_liquido\n",
    "        #aux.pf_valor_mercado = aux.pf_valor_mercado*abs(aux.porcent_partrimonio_liquido)/aux.porcent_partrimonio_liquido\n",
    "        return aux[aux.ativo1.isin(lista_acoes)]"
   ]
  },
  {
   "cell_type": "code",
   "execution_count": 593,
   "metadata": {},
   "outputs": [],
   "source": [
    "def precos(anomes,ativo):\n",
    "    precos = pd.read_csv(str(anomes)[:-2]+'.txt',index_col=False,sep=';',header=0,chunksize=10000).read()\n",
    "    precos = precos[(precos.CODNEG == ativo)&(precos.TPMERC == 10.0)&(precos.DATA > 100*int(anomes))&(precos.DATA < 100+100*int(anomes))]\n",
    "    return precos"
   ]
  },
  {
   "cell_type": "code",
   "execution_count": 594,
   "metadata": {},
   "outputs": [],
   "source": [
    "def teste(carteira_0,carteira_1,ativo,anomes):\n",
    "    if anomes[4:6] == '01':\n",
    "        fechamento_0 = precos(str(int(anomes)-101+12),ativo).sort_values(by='DATA',ascending=False).iloc[0,10]\n",
    "    else:\n",
    "        fechamento_0 = precos(str(int(anomes)-1),ativo).sort_values(by='DATA',ascending=False).iloc[0,10]\n",
    "    quantidade_referencia =100*( carteira_0[carteira_0.ativo3 == ativo].pf_quant.sum() - carteira_1[~carteira_1.fechado][carteira_1.ativo3 == ativo].pf_quant.sum() )\n",
    "    auxiliar = carteira_1[carteira_1.fechado][carteira_1.candidatos.str.contains(ativo)][['ativo1','aserestudado','vendas_montante','aquis_montante','pf_valor_mercado','cand_pf_quant']].fillna(0).copy()\n",
    "    \n",
    "    preco = precos(anomes,ativo)\n",
    "    maximo = max(preco.PREMAX)\n",
    "    minimo = min(preco.PREMIN)\n",
    "    fechamento_1 = preco.sort_values(by='DATA',ascending=False).iloc[0,10]\n",
    "    \n",
    "    #auxiliar['MAX'] = 100*auxiliar.cand_pf_quant +(auxiliar.vendas_montante+99)/minimo- auxiliar.aquis_montante/maximo\n",
    "    auxiliar['MAX'] = (auxiliar.pf_valor_mercado+99)/fechamento_1 +(auxiliar.vendas_montante+99)/minimo - auxiliar.aquis_montante/maximo\n",
    "    #auxiliar['MIN'] = 100*auxiliar.cand_pf_quant  +auxiliar.vendas_montante/maximo - (auxiliar.aquis_montante+99)/minimo \n",
    "    auxiliar['MIN'] = auxiliar.pf_valor_mercado/fechamento_1 +auxiliar.vendas_montante/maximo - (auxiliar.aquis_montante+99)/minimo \n",
    "    lista = []\n",
    "    #print(fechamento_0,minimo,maximo,fechamento_1,quantidade_referencia,\"\\n\",auxiliar)\n",
    "    #pdb.set_trace()\n",
    "    for k in range(1,len(auxiliar.index)+1):\n",
    "        for j in findsubsets(auxiliar.index, k):\n",
    "            if round(auxiliar[auxiliar.index.isin(j)].MAX.sum()) >= quantidade_referencia >= round(auxiliar[auxiliar.index.isin(j)].MIN.sum()):\n",
    "                if len(auxiliar[auxiliar.index.isin(j)].ativo1) == len(set(auxiliar[auxiliar.index.isin(j)].ativo1)):\n",
    "                    lista.append(j)\n",
    "    \n",
    "    if len(lista) == 1:\n",
    "        print('-------------------'+ativo+'-------------------')\n",
    "        \n",
    "    else:\n",
    "        print(ativo,quantidade_referencia,\"\\n\",auxiliar,\"\\n\",lista)\n",
    "    carteira_1 = completa(ativo,lista[0],carteira_1)\n",
    "    return carteira_1"
   ]
  },
  {
   "cell_type": "code",
   "execution_count": 595,
   "metadata": {},
   "outputs": [],
   "source": [
    "def teste_fraco(carteira_0,MES,ativo,anomes):\n",
    "    carteira_1 =MES.copy()\n",
    "    if anomes[4:6] == '01':\n",
    "        fechamento_0 = precos(str(int(anomes)-101+12),ativo).sort_values(by='DATA',ascending=False).iloc[0,10]\n",
    "    else:\n",
    "        fechamento_0 = precos(str(int(anomes)-1),ativo).sort_values(by='DATA',ascending=False).iloc[0,10]\n",
    "    quantidade_referencia =100*( carteira_0[carteira_0.ativo3 == ativo].pf_quant.sum() - carteira_1[~carteira_1.fechado][carteira_1.ativo3 == ativo].pf_quant.sum() )\n",
    "    auxiliar = carteira_1[carteira_1.fechado][carteira_1.candidatos.str.contains(ativo)][['ativo1','aserestudado','vendas_montante','aquis_montante','pf_valor_mercado','cand_pf_quant']].fillna(0).copy()\n",
    "    \n",
    "    preco = precos(anomes,ativo)\n",
    "    maximo = max(preco.PREMAX)\n",
    "    minimo = min(preco.PREMIN)\n",
    "    fechamento_1 = preco.sort_values(by='DATA',ascending=False).iloc[0,10]\n",
    "    \n",
    "    #auxiliar['MAX'] = 100*auxiliar.cand_pf_quant +(auxiliar.vendas_montante+99)/minimo- auxiliar.aquis_montante/maximo\n",
    "    auxiliar['MAX'] = (auxiliar.pf_valor_mercado+99)/fechamento_1 +(auxiliar.vendas_montante+99)/minimo - auxiliar.aquis_montante/maximo\n",
    "    #auxiliar['MIN'] = 100*auxiliar.cand_pf_quant  +auxiliar.vendas_montante/maximo - (auxiliar.aquis_montante+99)/minimo \n",
    "    auxiliar['MIN'] = auxiliar.pf_valor_mercado/fechamento_1 +auxiliar.vendas_montante/maximo - (auxiliar.aquis_montante+99)/minimo \n",
    "    lista = []\n",
    "    #print(fechamento_0,minimo,maximo,fechamento_1,quantidade_referencia,\"\\n\",auxiliar)\n",
    "    #pdb.set_trace()\n",
    "    for k in range(1,len(auxiliar.index)+1):\n",
    "        for j in findsubsets(auxiliar.index, k):\n",
    "            if round(auxiliar[auxiliar.index.isin(j)].MAX.sum()) >= quantidade_referencia >= round(auxiliar[auxiliar.index.isin(j)].MIN.sum()):\n",
    "                if len(auxiliar[auxiliar.index.isin(j)].ativo1) == len(set(auxiliar[auxiliar.index.isin(j)].ativo1)):\n",
    "                    lista.append(j)\n",
    "    \n",
    "    if len(lista) == 1:\n",
    "        print('-------------------'+ativo+'-------------------')\n",
    "        carteira_1 = completa(ativo,lista[0],carteira_1)\n",
    "    else:\n",
    "        print(ativo,quantidade_referencia,\"\\n\",auxiliar,\"\\n\",lista)\n",
    "    return carteira_1"
   ]
  },
  {
   "cell_type": "code",
   "execution_count": null,
   "metadata": {},
   "outputs": [],
   "source": []
  },
  {
   "cell_type": "code",
   "execution_count": 596,
   "metadata": {},
   "outputs": [],
   "source": [
    "def filtro_alfabetico(carteira,alfabetico,aserestudado_com_varios_ativo3=[]):\n",
    "    if type(aserestudado_com_varios_ativo3) != list:\n",
    "        aserestudado_com_varios_ativo3 = [aserestudado_com_varios_ativo3]\n",
    "    teste = carteira.copy()\n",
    "    for aserestudado,ativo3,grupo in teste[~teste.ativo3.isnull()][~teste.aserestudado.isin(aserestudado_com_varios_ativo3)][['aserestudado','ativo3','grupo']].values:\n",
    "    #for aserestudado,ativo3,grupo in teste[['aserestudado','ativo3','grupo']].values:\n",
    "        if alfabetico:\n",
    "            dropar = teste[(teste.grupo==grupo)&(teste.aserestudado>aserestudado)&(teste.candidatos<=ativo3)].index\n",
    "            teste.drop(list(dropar), inplace=True)\n",
    "            dropar = teste[(teste.grupo==grupo)&(teste.aserestudado<aserestudado)&(teste.candidatos>=ativo3)].index\n",
    "            teste.drop(list(dropar), inplace=True)\n",
    "        else:\n",
    "            dropar = teste[(teste.grupo==grupo)&(teste.aserestudado>aserestudado)&(teste.candidatos>=ativo3)].index\n",
    "            teste.drop(list(dropar), inplace=True)\n",
    "            dropar = teste[(teste.grupo==grupo)&(teste.aserestudado<aserestudado)&(teste.candidatos<=ativo3)].index\n",
    "            teste.drop(list(dropar), inplace=True)\n",
    "    return teste\n",
    "    "
   ]
  },
  {
   "cell_type": "code",
   "execution_count": 597,
   "metadata": {},
   "outputs": [],
   "source": [
    "def filtro_unico_index(carteira,aserestudado_sem_nenhum_ativo3=[]):\n",
    "    carteira = carteira.copy()\n",
    "    if type(aserestudado_sem_nenhum_ativo3) != list:\n",
    "        aserestudado_sem_nenhum_ativo3 = [aserestudado_sem_nenhum_ativo3]\n",
    "    CONFUSAO = carteira[~carteira.aserestudado.isin(aserestudado_sem_nenhum_ativo3)].groupby(by='aserestudado').count()[['ativo3']]\n",
    "    if (CONFUSAO.ativo3==1).all():\n",
    "        print('trabalho concluido'.upper())\n",
    "        return carteira[(carteira.ativo3.notnull())|(carteira.aserestudado.isin(aserestudado_sem_nenhum_ativo3))].sort_values(['aserestudado','candidatos'])\n",
    "    else:\n",
    "        \n",
    "        print(CONFUSAO[CONFUSAO.ativo3>1])\n",
    "        print(CONFUSAO[CONFUSAO.ativo3==0])\n",
    "        return carteira.sort_values(['aserestudado','candidatos'])"
   ]
  },
  {
   "cell_type": "code",
   "execution_count": 598,
   "metadata": {},
   "outputs": [],
   "source": [
    "def separa_blocos(carteira_pandas):\n",
    "    \n",
    "    \n",
    "    \n",
    "    teste = carteira_pandas.sort_values(by='aserestudado').copy()\n",
    "\n",
    "\n",
    "    assert len(teste[teste.ativo1.str.upper() == 'disponibilidades'.upper()].index )==1\n",
    "    assert len(teste[teste.ativo1.str.upper() == 'Valores a receber'.upper()].index )==1\n",
    "\n",
    "\n",
    "\n",
    "    alfabetico = teste[teste.ativo1.str.upper() == 'disponibilidades'.upper()].aserestudado.values[0] < teste[teste.ativo1.str.upper() == 'Valores a receber'.upper()].aserestudado.values[0] \n",
    "\n",
    "    if not alfabetico:\n",
    "        teste =teste.sort_values(by=['candidatos'],ascending=False).sort_values(by=['aserestudado'])\n",
    "    \n",
    "    \n",
    "    assert len(teste[teste.ativo1.str.upper() == 'Obrigações por ações e outros TVM recebidos em empréstimo'.upper()].index )==0\n",
    "    assert len(teste[teste.ativo1.str.upper() == 'Outros valores mobiliÃ¡rios registrados na CVM objeto de oferta pública'.upper()].index )==0\n",
    "    assert len(teste[teste.ativo1.str.upper() == 'Valores a pagar'.upper()].index )<=1\n",
    "\n",
    "    disponibilidade = teste[teste.ativo1.str.upper() == 'disponibilidades'.upper()].aserestudado.values[0]\n",
    "    valor_receber =teste[teste.ativo1.str.upper() == 'Valores a receber'.upper()].aserestudado.values[0]\n",
    "\n",
    "\n",
    "    teste['grupo'] = 0\n",
    "    \n",
    "    if not alfabetico:\n",
    "        print('ISSO ESTA ERRADO, QUANDO É NÃO ALFABETICO (olhar squadra 202004 o aserestudado 58331405 q vc vai entender)')\n",
    "        print('Tento by passar usando a localização de algum Investimento no Exterior')\n",
    "        #return\n",
    "\n",
    "        investimento_exterior_aserestudado =teste[teste.ativo1.str.upper() == 'Investimento no Exterior'.upper()].aserestudado.values[0]\n",
    "\n",
    "\n",
    "\n",
    "        #Aqui considero que se houver mais de um valor a pagar, ele vaão estar separados\n",
    "        lista = ['Obrigações por ações e outros TVM recebidos em empréstimo',\n",
    "                            'Ações',\n",
    "                            'Certificado ou recibo de depósito de valores mobiliários',\n",
    "                            'Valores a pagar']\n",
    "        grupo_1 = teste[teste.aserestudado<valor_receber][teste.ativo1.isin(lista)].index\n",
    "        teste.loc[grupo_1,'grupo']= 1\n",
    "\n",
    "        lista = ['Ações e outros TVM cedidos em empréstimo']\n",
    "        grupo_1 = teste[teste.aserestudado<valor_receber][teste.ativo1.isin(lista)].index\n",
    "        teste.loc[grupo_1,'grupo']= 2\n",
    "\n",
    "\n",
    "\n",
    "\n",
    "\n",
    "        #Aqui considero que se houver mais de um valor a pagar, ele vaão estar separados\n",
    "        lista = ['Obrigações por ações e outros TVM recebidos em empréstimo',\n",
    "                            'Outros valores mobiliÃ¡rios registrados na CVM objeto de oferta pública',\n",
    "                            'Ações',\n",
    "                            'Certificado ou recibo de depósito de valores mobiliários',\n",
    "                            'Valores a pagar',\n",
    "                            'Brazilian Depository Receipt - BDR']\n",
    "        grupo_1 = teste[teste.aserestudado>investimento_exterior_aserestudado][teste.aserestudado<valor_receber][teste.ativo1.isin(lista)].index\n",
    "        teste.loc[grupo_1,'grupo']= 3\n",
    "\n",
    "        lista = ['Ações e outros TVM cedidos em empréstimo']\n",
    "        grupo_1 = teste[teste.aserestudado>investimento_exterior_aserestudado][teste.aserestudado<valor_receber][teste.ativo1.isin(lista)].index\n",
    "        teste.loc[grupo_1,'grupo']= 4\n",
    "\n",
    "    else:\n",
    "        #Aqui considero que se houver mais de um valor a pagar, ele vaão estar separados\n",
    "        lista = ['Obrigações por ações e outros TVM recebidos em empréstimo',\n",
    "                            'Ações',\n",
    "                            'Certificado ou recibo de depósito de valores mobiliários',\n",
    "                            'Valores a pagar']\n",
    "        grupo_1 = teste[teste.aserestudado<disponibilidade][teste.ativo1.isin(lista)].index\n",
    "        teste.loc[grupo_1,'grupo']= 1\n",
    "\n",
    "        lista = ['Ações e outros TVM cedidos em empréstimo']\n",
    "        grupo_1 = teste[teste.aserestudado<disponibilidade][teste.ativo1.isin(lista)].index\n",
    "        teste.loc[grupo_1,'grupo']= 2\n",
    "\n",
    "\n",
    "\n",
    "\n",
    "\n",
    "        #Aqui considero que se houver mais de um valor a pagar, ele vaão estar separados\n",
    "        lista = ['Obrigações por ações e outros TVM recebidos em empréstimo',\n",
    "                            'Outros valores mobiliÃ¡rios registrados na CVM objeto de oferta pública',\n",
    "                            'Ações',\n",
    "                            'Certificado ou recibo de depósito de valores mobiliários',\n",
    "                            'Valores a pagar',\n",
    "                            'Brazilian Depository Receipt - BDR']\n",
    "        grupo_1 = teste[teste.aserestudado>valor_receber][teste.ativo1.isin(lista)].index\n",
    "        teste.loc[grupo_1,'grupo']= 3\n",
    "\n",
    "        lista = ['Ações e outros TVM cedidos em empréstimo']\n",
    "        grupo_1 = teste[teste.aserestudado>valor_receber][teste.ativo1.isin(lista)].index\n",
    "        teste.loc[grupo_1,'grupo']= 4\n",
    "\n",
    "\n",
    "\n",
    "\n",
    "\n",
    "    for t in set(teste.grupo) :\n",
    "        if t != 0 and teste[teste.grupo==t].ativo3.apply(pd.isna).all() :\n",
    "            print('grupo',t,'todos os ativos1 são nulos')\n",
    "\n",
    "    return teste,alfabetico"
   ]
  },
  {
   "cell_type": "code",
   "execution_count": null,
   "metadata": {},
   "outputs": [],
   "source": []
  },
  {
   "cell_type": "code",
   "execution_count": 599,
   "metadata": {
    "tags": []
   },
   "outputs": [
    {
     "output_type": "stream",
     "name": "stdout",
     "text": "Wall time: 1.23 s\n"
    }
   ],
   "source": [
    "anomes = 202004\n",
    "apelido_fundo = 'const'.upper()\n",
    "\n",
    "\n",
    "%time carteira_pandas,fundo,fundo_cnpj,adm,adm_cnpj,pl,hora_recebimento = parse_html_tudo_int(apelido_fundo,anomes,candidatos=True)"
   ]
  },
  {
   "cell_type": "code",
   "execution_count": 600,
   "metadata": {
    "tags": []
   },
   "outputs": [],
   "source": [
    "carteira_pandas,alfabetico = separa_blocos(carteira_pandas)\n",
    "carteira_pandas[carteira_pandas.grupo == 1]\n",
    "aux = carteira_pandas.copy()"
   ]
  },
  {
   "cell_type": "code",
   "execution_count": 32,
   "metadata": {},
   "outputs": [
    {
     "output_type": "execute_result",
     "data": {
      "text/plain": "True"
     },
     "metadata": {},
     "execution_count": 32
    }
   ],
   "source": []
  },
  {
   "cell_type": "code",
   "execution_count": 601,
   "metadata": {
    "tags": []
   },
   "outputs": [
    {
     "output_type": "stream",
     "name": "stdout",
     "text": "Wall time: 1.24 s\n"
    }
   ],
   "source": [
    "anomes = 202005\n",
    "\n",
    "\n",
    "%time carteira_pandas,fundo,fundo_cnpj,adm,adm_cnpj,pl,hora_recebimento = parse_html_tudo_int(apelido_fundo,anomes,candidatos=True)"
   ]
  },
  {
   "cell_type": "code",
   "execution_count": 602,
   "metadata": {
    "tags": []
   },
   "outputs": [
    {
     "output_type": "stream",
     "name": "stdout",
     "text": "ISSO ESTA ERRADO, QUANDO É NÃO ALFABETICO (olhar squadra 202004 o aserestudado 58331405 q vc vai entender)\nTento by passar usando a localização de algum Investimento no Exterior\ngrupo 3 todos os ativos1 são nulos\n"
    }
   ],
   "source": [
    "carteira_pandas,alfabetico = separa_blocos(carteira_pandas)"
   ]
  },
  {
   "cell_type": "code",
   "execution_count": null,
   "metadata": {},
   "outputs": [],
   "source": []
  },
  {
   "cell_type": "code",
   "execution_count": 603,
   "metadata": {},
   "outputs": [
    {
     "output_type": "execute_result",
     "data": {
      "text/plain": "{'Cotas de Fundos',\n 'Disponibilidades',\n 'Investimento no Exterior',\n 'Valores a pagar',\n 'Valores a receber'}"
     },
     "metadata": {},
     "execution_count": 603
    }
   ],
   "source": [
    "set(carteira_pandas[carteira_pandas.grupo == 0].ativo1)"
   ]
  },
  {
   "cell_type": "code",
   "execution_count": 205,
   "metadata": {},
   "outputs": [],
   "source": []
  },
  {
   "cell_type": "code",
   "execution_count": 604,
   "metadata": {},
   "outputs": [],
   "source": [
    "def explodir(carteira_pandas,alfabetico):\n",
    "    teste = carteira_pandas[carteira_pandas.grupo!=0]\n",
    "    assert len(teste[teste.candidatos.isnull()]) ==0\n",
    "    teste = pd.DataFrame(columns=['index','aserestudado','ativo1','ativo2','ativo3','ativo4','classificacao','emp_ligada','vendas_quant','vendas_montante','aquis_quant','aquis_montante','pf_quant','pf_valor_custo','pf_valor_mercado','porcent_partrimonio_liquido','fechado','candidatos','cand_pf_quant', 'grupo'],data=[(index,aserestudado,ativo1,ativo2,ativo3,ativo4,classificacao,emp_ligada,vendas_quant,vendas_montante,aquis_quant,aquis_montante,pf_quant,pf_valor_custo,pf_valor_mercado,porcent_partrimonio_liquido,fechado,c,q,grupo) if pd.isnull(ativo3) else (index,aserestudado,ativo1,ativo2,ativo3,ativo4,classificacao,emp_ligada,vendas_quant,vendas_montante,aquis_quant,aquis_montante,pf_quant,pf_valor_custo,pf_valor_mercado,porcent_partrimonio_liquido,fechado,ativo3,pf_quant,grupo) for (index,aserestudado,ativo1,ativo2,ativo3,ativo4,classificacao,emp_ligada,vendas_quant,vendas_montante,aquis_quant,aquis_montante,pf_quant,pf_valor_custo,pf_valor_mercado,porcent_partrimonio_liquido,fechado,candidatos,cand_pf_quant,grupo) in teste.reset_index().values  for (c,q) in zip(candidatos,cand_pf_quant) ]).set_index('index')\n",
    "    teste = teste.drop_duplicates().sort_values(by='aserestudado').reset_index().rename(columns={'index':'position'})\n",
    "    \n",
    "\n",
    "    teste = filtro_alfabetico(teste,alfabetico)\n",
    "    teste.pf_quant = teste.cand_pf_quant\n",
    "    \n",
    "    \n",
    "    teste.pf_quant = teste.pf_quant.apply(abs)*teste.ativo1.apply(lambda x: -1 if 'VALORES A PAGAR' in x.upper() or 'OBRIGAÇÕES' in x.upper() else 1)\n",
    "    teste.pf_valor_mercado = teste.pf_valor_mercado.apply(abs)*teste.ativo1.apply(lambda x: -1 if 'VALORES A PAGAR' in x.upper() or 'OBRIGAÇÕES' in x.upper() else 1)\n",
    "    \n",
    "    \n",
    "    \n",
    "    return teste"
   ]
  },
  {
   "cell_type": "code",
   "execution_count": 605,
   "metadata": {
    "tags": []
   },
   "outputs": [],
   "source": [
    "explodido = explodir(carteira_pandas,alfabetico)"
   ]
  },
  {
   "cell_type": "code",
   "execution_count": null,
   "metadata": {},
   "outputs": [],
   "source": []
  },
  {
   "cell_type": "code",
   "execution_count": 606,
   "metadata": {},
   "outputs": [],
   "source": [
    "def completa(ativo,linhas,teste):\n",
    "    for i in linhas:\n",
    "        teste.loc[int(i),'ativo3'] = ativo\n",
    "    return teste"
   ]
  },
  {
   "cell_type": "code",
   "execution_count": null,
   "metadata": {},
   "outputs": [],
   "source": []
  },
  {
   "cell_type": "code",
   "execution_count": null,
   "metadata": {},
   "outputs": [],
   "source": []
  },
  {
   "cell_type": "code",
   "execution_count": 607,
   "metadata": {},
   "outputs": [],
   "source": [
    "lista_acoes = ['Obrigações por ações e outros TVM recebidos em empréstimo',\n",
    "                 'Ações e outros TVM cedidos em empréstimo',\n",
    "                 'Ações',\n",
    "                 'Certificado ou recibo de depósito de valores mobiliários', \n",
    "                 'Valores a pagar']\n",
    "\n",
    "aux.pf_quant = aux.pf_quant.apply(abs)*aux.ativo1.apply(lambda x: -1 if 'VALORES A PAGAR' in x.upper() or 'OBRIGAÇÕES' in x.upper() else 1)\n",
    "aux.pf_valor_mercado = aux.pf_valor_mercado.apply(abs)*aux.ativo1.apply(lambda x: -1 if 'VALORES A PAGAR' in x.upper() or 'OBRIGAÇÕES' in x.upper() else 1)\n",
    "aux =  aux[aux.ativo1.isin(lista_acoes)]\n"
   ]
  },
  {
   "cell_type": "code",
   "execution_count": 608,
   "metadata": {},
   "outputs": [
    {
     "output_type": "execute_result",
     "data": {
      "text/plain": "array(['ARZZ3', 'ENEV3', 'ENGI11', 'EQTL3', 'EZTC3', 'GNDI3', 'LREN3',\n       'MGLU3', 'PSSA3', 'RADL3', 'RAIL3', 'RENT3', 'SULA11', 'TOTS3',\n       'VIVA3', 'WEGE3', 'B3SA3', 'LAME3', 'LAME4', 'NTCO3', 'SUZB3',\n       'TEND3', 'Valores a Pagar', 'PAT/BPAC11/BRBPACUNT006'],\n      dtype=object)"
     },
     "metadata": {},
     "execution_count": 608
    }
   ],
   "source": [
    "aux.ativo3.unique()"
   ]
  },
  {
   "cell_type": "code",
   "execution_count": 609,
   "metadata": {},
   "outputs": [],
   "source": [
    "aux.ativo3 = aux.ativo3.apply(lambda x : x if x != 'PAT/BPAC11/BRBPACUNT006' else 'BPAC11')"
   ]
  },
  {
   "cell_type": "code",
   "execution_count": 466,
   "metadata": {},
   "outputs": [
    {
     "output_type": "execute_result",
     "data": {
      "text/plain": "''"
     },
     "metadata": {},
     "execution_count": 466
    }
   ],
   "source": []
  },
  {
   "cell_type": "code",
   "execution_count": 610,
   "metadata": {
    "tags": []
   },
   "outputs": [
    {
     "output_type": "stream",
     "name": "stdout",
     "text": "-------------------ARZZ3-------------------\nB3SA3 -2320000.0 \n Empty DataFrame\nColumns: [ativo1, aserestudado, vendas_montante, aquis_montante, pf_valor_mercado, cand_pf_quant, MAX, MIN]\nIndex: [] \n []\n-------------------BPAC11-------------------\n-------------------ENEV3-------------------\nENGI11 335150300.0 \n                                                  ativo1  aserestudado  \\\n1314  Certificado ou recibo de depósito de valores m...      58845430   \n2367           Ações e outros TVM cedidos em empréstimo      58845447   \n\n      vendas_montante  aquis_montante  pf_valor_mercado  cand_pf_quant  \\\n1314              0.0             0.0       12385264000      2607424.0   \n2367              0.0             0.0        4016975200       845679.0   \n\n               MAX           MIN  \n1314  2.607424e+08  2.607424e+08  \n2367  8.456790e+07  8.456790e+07   \n []\nEQTL3 406410000.0 \n                                         ativo1  aserestudado  vendas_montante  \\\n743                                      Ações      58845422     1.005451e+09   \n820                                      Ações      58845423     1.338309e+09   \n1251                                     Ações      58845429     0.000000e+00   \n2037  Ações e outros TVM cedidos em empréstimo      58845442     0.000000e+00   \n2297  Ações e outros TVM cedidos em empréstimo      58845446     0.000000e+00   \n\n      aquis_montante  pf_valor_mercado  cand_pf_quant           MAX  \\\n743      258798800.0       12162265800      6065968.0  6.561437e+08   \n820      132449800.0        4121897000      2055809.0  2.819750e+08   \n1251     221784900.0        6276091100      3130220.0  3.020966e+08   \n2037             0.0        2656895600      1325135.0  1.325135e+08   \n2297             0.0        2119244900      1056980.0  1.056980e+08   \n\n               MIN  \n743   6.400918e+08  \n820   2.633011e+08  \n1251  2.992807e+08  \n2037  1.325135e+08  \n2297  1.056980e+08   \n [{820, 2037}, {2297, 1251}]\nEZTC3 338371800.0 \n                                                  ativo1  aserestudado  \\\n1087  Certificado ou recibo de depósito de valores m...      58845426   \n1152                                              Ações      58845427   \n1204                                              Ações      58845428   \n2215           Ações e outros TVM cedidos em empréstimo      58845445   \n\n      vendas_montante  aquis_montante  pf_valor_mercado  cand_pf_quant  \\\n1087     0.000000e+00             0.0        3934116000      1206414.0   \n1152     0.000000e+00     535928400.0       19127402000      5865502.0   \n1204     6.293749e+09     143025200.0        3439487500      1054734.0   \n2215     0.000000e+00             0.0         875852400       268584.0   \n\n               MAX           MIN  \n1087  1.206414e+08  1.206414e+08  \n1152  5.711145e+08  5.642384e+08  \n1204  3.633752e+08  2.807905e+08  \n2215  2.685841e+07  2.685840e+07   \n [{1204}, {1204, 2215}]\n-------------------GNDI3-------------------\n-------------------LAME3-------------------\n-------------------LAME4-------------------\n-------------------LREN3-------------------\n-------------------MGLU3-------------------\n-------------------NTCO3-------------------\nPSSA3 134150000.0 \n                                                  ativo1  aserestudado  \\\n506                                               Ações      58845420   \n746                                               Ações      58845423   \n830                                               Ações      58845424   \n994   Certificado ou recibo de depósito de valores m...      58845426   \n1883           Ações e outros TVM cedidos em empréstimo      58845441   \n\n      vendas_montante  aquis_montante  pf_valor_mercado  cand_pf_quant  \\\n506      0.000000e+00    1.581342e+09        5337426600      1128420.0   \n746      1.338309e+09    1.324498e+08        4121897000       871437.0   \n830      0.000000e+00    8.768221e+08        7241322500      1530935.0   \n994      0.000000e+00    0.000000e+00        3934116000       831737.0   \n1883     0.000000e+00    0.000000e+00        2832702400       598880.0   \n\n               MAX           MIN  \n506   7.940982e+07  7.277759e+07  \n746   1.182505e+08  1.120820e+08  \n830   1.345560e+08  1.308786e+08  \n994   8.317370e+07  8.317370e+07  \n1883  5.988800e+07  5.988800e+07   \n [{830}, {506, 1883}]\n-------------------RADL3-------------------\nRAIL3 -43730000.0 \n Empty DataFrame\nColumns: [ativo1, aserestudado, vendas_montante, aquis_montante, pf_valor_mercado, cand_pf_quant, MAX, MIN]\nIndex: [] \n []\nRENT3 405457200.0 \n                                         ativo1  aserestudado  vendas_montante  \\\n243                                      Ações      58845415     0.000000e+00   \n377                                      Ações      58845417     1.731539e+09   \n1546  Ações e outros TVM cedidos em empréstimo      58845435     0.000000e+00   \n1755  Ações e outros TVM cedidos em empréstimo      58845438     0.000000e+00   \n\n      aquis_montante  pf_valor_mercado  cand_pf_quant           MAX  \\\n243      985024900.0        6162856700      1601574.0  1.352642e+08   \n377      299115600.0        9227434700      2397982.0  2.980520e+08   \n1546             0.0        4184719200      1087505.0  1.087505e+08   \n1755             0.0        4402458300      1144090.0  1.144090e+08   \n\n               MIN  \n243   1.227182e+08  \n377   2.721882e+08  \n1546  1.087505e+08  \n1755  1.144090e+08   \n [{377, 1546}, {377, 1755}]\nSULA11 147390000.0 \n Empty DataFrame\nColumns: [ativo1, aserestudado, vendas_montante, aquis_montante, pf_valor_mercado, cand_pf_quant, MAX, MIN]\nIndex: [] \n []\n-------------------SUZB3-------------------\n-------------------TEND3-------------------\nTOTS3 383245800.0 \n                                         ativo1  aserestudado  vendas_montante  \\\n28                                       Ações      58845412              0.0   \n183                                      Ações      58845414              0.0   \n1720  Ações e outros TVM cedidos em empréstimo      58845437              0.0   \n\n      aquis_montante  pf_valor_mercado  cand_pf_quant           MAX  \\\n28      6.028662e+09       15416400400      7666037.0  4.834350e+08   \n183     2.273232e+10       18990783900      9443453.0 -1.234009e+08   \n1720    0.000000e+00        4832877400      2403221.0  2.403221e+08   \n\n               MIN  \n28    4.130165e+08  \n183  -3.889284e+08  \n1720  2.403221e+08   \n []\n-------------------VIVA3-------------------\n-------------------WEGE3-------------------\n"
    }
   ],
   "source": [
    "MES0 = aux.copy()\n",
    "MES1 = explodido.copy()\n",
    "for ativo in sorted(list({x for x in aux.ativo3 if pd.notna(x)})):\n",
    "    if ativo.upper() not in ('MRSA5B','MRSA3B','MOAR3','EUCA4','USIM6','TIET12','Valores a Pagar'.upper()):\n",
    "        MES1 = teste_fraco(MES0,MES1,ativo,'202005')"
   ]
  },
  {
   "cell_type": "code",
   "execution_count": 611,
   "metadata": {},
   "outputs": [],
   "source": [
    "MES1 = completa('ENGI11',{1314,2367},MES1)\n",
    "MES1 = completa('KLBN11',{1007},MES1)\n",
    "MES1 = completa('TOTS3',{183,1720},MES1) #Teve aumento de capital\n",
    "MES1 = completa('RENT3',{377,1755},MES1) \n",
    "MES1 = completa('EQTL3',{2297,1251},MES1) \n",
    "MES1 = completa('EZTC3',{2215,1204},MES1) \n",
    "MES1 = completa('PSSA3',{506,1883},MES1) \n",
    "MES1 = completa('ALPK3',{1507},MES1) \n",
    "MES1 = completa('ALUP11',{2659},MES1) "
   ]
  },
  {
   "cell_type": "code",
   "execution_count": 612,
   "metadata": {},
   "outputs": [
    {
     "output_type": "execute_result",
     "data": {
      "text/plain": "Empty DataFrame\nColumns: [ativo3]\nIndex: []",
      "text/html": "<div>\n<style scoped>\n    .dataframe tbody tr th:only-of-type {\n        vertical-align: middle;\n    }\n\n    .dataframe tbody tr th {\n        vertical-align: top;\n    }\n\n    .dataframe thead th {\n        text-align: right;\n    }\n</style>\n<table border=\"1\" class=\"dataframe\">\n  <thead>\n    <tr style=\"text-align: right;\">\n      <th></th>\n      <th>ativo3</th>\n    </tr>\n    <tr>\n      <th>aserestudado</th>\n      <th></th>\n    </tr>\n  </thead>\n  <tbody>\n  </tbody>\n</table>\n</div>"
     },
     "metadata": {},
     "execution_count": 612
    }
   ],
   "source": [
    "CONFUSAO = MES1.groupby(by='aserestudado').count()[['ativo3']]\n",
    "CONFUSAO[CONFUSAO.ativo3>1]"
   ]
  },
  {
   "cell_type": "code",
   "execution_count": 613,
   "metadata": {},
   "outputs": [
    {
     "output_type": "execute_result",
     "data": {
      "text/plain": "Empty DataFrame\nColumns: [ativo3]\nIndex: []",
      "text/html": "<div>\n<style scoped>\n    .dataframe tbody tr th:only-of-type {\n        vertical-align: middle;\n    }\n\n    .dataframe tbody tr th {\n        vertical-align: top;\n    }\n\n    .dataframe thead th {\n        text-align: right;\n    }\n</style>\n<table border=\"1\" class=\"dataframe\">\n  <thead>\n    <tr style=\"text-align: right;\">\n      <th></th>\n      <th>ativo3</th>\n    </tr>\n    <tr>\n      <th>aserestudado</th>\n      <th></th>\n    </tr>\n  </thead>\n  <tbody>\n  </tbody>\n</table>\n</div>"
     },
     "metadata": {},
     "execution_count": 613
    }
   ],
   "source": [
    "#papeis que ele Não achou\n",
    "CONFUSAO = MES1.groupby(by='aserestudado').count()[['ativo3']]\n",
    "CONFUSAO[CONFUSAO.ativo3<1]"
   ]
  },
  {
   "cell_type": "code",
   "execution_count": 481,
   "metadata": {},
   "outputs": [],
   "source": []
  },
  {
   "cell_type": "code",
   "execution_count": null,
   "metadata": {},
   "outputs": [],
   "source": []
  },
  {
   "cell_type": "code",
   "execution_count": 614,
   "metadata": {},
   "outputs": [],
   "source": [
    "#Antes de rodar o filtro_alfabetico preciso me certicicar que não há nenhuma linha com mais de um valor na coluna ativo3, ou seja nenhum aserestudado_com_varios_ativo3, ou seja, que  len(CONFUSAO[CONFUSAO.ativo3>1]) == 0\n",
    "assert len(CONFUSAO[CONFUSAO.ativo3>1]) == 0\n",
    "MES1 = filtro_alfabetico(MES1,alfabetico)\n",
    "fechados_vou_abrir = MES1[~MES1.ativo3.isnull()].index\n",
    "MES1.loc[fechados_vou_abrir,'fechado'] = False"
   ]
  },
  {
   "cell_type": "code",
   "execution_count": 615,
   "metadata": {},
   "outputs": [
    {
     "output_type": "error",
     "ename": "AssertionError",
     "evalue": "",
     "traceback": [
      "\u001b[1;31m---------------------------------------------------------------------------\u001b[0m",
      "\u001b[1;31mAssertionError\u001b[0m                            Traceback (most recent call last)",
      "\u001b[1;32m<ipython-input-615-fe8130e74241>\u001b[0m in \u001b[0;36m<module>\u001b[1;34m\u001b[0m\n\u001b[0;32m      1\u001b[0m \u001b[1;33m\u001b[0m\u001b[0m\n\u001b[1;32m----> 2\u001b[1;33m \u001b[1;32massert\u001b[0m \u001b[0mlen\u001b[0m\u001b[1;33m(\u001b[0m\u001b[0mCONFUSAO\u001b[0m\u001b[1;33m[\u001b[0m\u001b[0mCONFUSAO\u001b[0m\u001b[1;33m.\u001b[0m\u001b[0mativo3\u001b[0m\u001b[1;33m>\u001b[0m\u001b[1;36m1\u001b[0m\u001b[1;33m]\u001b[0m\u001b[1;33m)\u001b[0m \u001b[1;33m!=\u001b[0m \u001b[1;36m0\u001b[0m\u001b[1;33m\u001b[0m\u001b[0m\n\u001b[0m\u001b[0;32m      3\u001b[0m \u001b[0mMES1\u001b[0m \u001b[1;33m=\u001b[0m \u001b[0mfiltro_alfabetico\u001b[0m\u001b[1;33m(\u001b[0m\u001b[0mMES1\u001b[0m\u001b[1;33m,\u001b[0m\u001b[0malfabetico\u001b[0m\u001b[1;33m,\u001b[0m\u001b[0maserestudado_com_varios_ativo3\u001b[0m\u001b[1;33m=\u001b[0m\u001b[1;33m[\u001b[0m\u001b[1;36m58881799\u001b[0m\u001b[1;33m,\u001b[0m\u001b[1;36m58881816\u001b[0m\u001b[1;33m,\u001b[0m\u001b[1;36m58881820\u001b[0m\u001b[1;33m]\u001b[0m\u001b[1;33m)\u001b[0m\u001b[1;33m\u001b[0m\u001b[0m\n",
      "\u001b[1;31mAssertionError\u001b[0m: "
     ]
    }
   ],
   "source": [
    "\n",
    "assert len(CONFUSAO[CONFUSAO.ativo3>1]) != 0\n",
    "MES1 = filtro_alfabetico(MES1,alfabetico,aserestudado_com_varios_ativo3=[58881799,58881816,58881820])"
   ]
  },
  {
   "cell_type": "code",
   "execution_count": 482,
   "metadata": {
    "tags": []
   },
   "outputs": [
    {
     "output_type": "stream",
     "name": "stdout",
     "text": "ALPA4 3349900.0 \n Empty DataFrame\nColumns: [ativo1, aserestudado, vendas_montante, aquis_montante, pf_valor_mercado, cand_pf_quant, MAX, MIN]\nIndex: [] \n []\nALSO3 -644200.0 \n Empty DataFrame\nColumns: [ativo1, aserestudado, vendas_montante, aquis_montante, pf_valor_mercado, cand_pf_quant, MAX, MIN]\nIndex: [] \n []\nB3SA3 -1581500.0 \n Empty DataFrame\nColumns: [ativo1, aserestudado, vendas_montante, aquis_montante, pf_valor_mercado, cand_pf_quant, MAX, MIN]\nIndex: [] \n []\nBBAS3 300000.0 \n Empty DataFrame\nColumns: [ativo1, aserestudado, vendas_montante, aquis_montante, pf_valor_mercado, cand_pf_quant, MAX, MIN]\nIndex: [] \n []\nBBDC4 3150000.0 \n Empty DataFrame\nColumns: [ativo1, aserestudado, vendas_montante, aquis_montante, pf_valor_mercado, cand_pf_quant, MAX, MIN]\nIndex: [] \n []\nBPAC11 7314300.0 \n Empty DataFrame\nColumns: [ativo1, aserestudado, vendas_montante, aquis_montante, pf_valor_mercado, cand_pf_quant, MAX, MIN]\nIndex: [] \n []\nCSAN3 -1998600.0 \n Empty DataFrame\nColumns: [ativo1, aserestudado, vendas_montante, aquis_montante, pf_valor_mercado, cand_pf_quant, MAX, MIN]\nIndex: [] \n []\nCYRE3 -1011700.0 \n Empty DataFrame\nColumns: [ativo1, aserestudado, vendas_montante, aquis_montante, pf_valor_mercado, cand_pf_quant, MAX, MIN]\nIndex: [] \n []\nELET3 -30000.0 \n Empty DataFrame\nColumns: [ativo1, aserestudado, vendas_montante, aquis_montante, pf_valor_mercado, cand_pf_quant, MAX, MIN]\nIndex: [] \n []\nELET6 50000.0 \n Empty DataFrame\nColumns: [ativo1, aserestudado, vendas_montante, aquis_montante, pf_valor_mercado, cand_pf_quant, MAX, MIN]\nIndex: [] \n []\nEQTL3 -2017100.0 \n Empty DataFrame\nColumns: [ativo1, aserestudado, vendas_montante, aquis_montante, pf_valor_mercado, cand_pf_quant, MAX, MIN]\nIndex: [] \n []\n-------------------HYPE3-------------------\nITSA4 -9425700.0 \n Empty DataFrame\nColumns: [ativo1, aserestudado, vendas_montante, aquis_montante, pf_valor_mercado, cand_pf_quant, MAX, MIN]\nIndex: [] \n []\nITUB4 2130000.0 \n Empty DataFrame\nColumns: [ativo1, aserestudado, vendas_montante, aquis_montante, pf_valor_mercado, cand_pf_quant, MAX, MIN]\nIndex: [] \n []\nJBSS3 -590000.0 \n Empty DataFrame\nColumns: [ativo1, aserestudado, vendas_montante, aquis_montante, pf_valor_mercado, cand_pf_quant, MAX, MIN]\nIndex: [] \n []\n-------------------LCAM3-------------------\nLREN3 -1142000.0 \n Empty DataFrame\nColumns: [ativo1, aserestudado, vendas_montante, aquis_montante, pf_valor_mercado, cand_pf_quant, MAX, MIN]\nIndex: [] \n []\n-------------------MDIA3-------------------\nMRVE3 13455100.0 \n Empty DataFrame\nColumns: [ativo1, aserestudado, vendas_montante, aquis_montante, pf_valor_mercado, cand_pf_quant, MAX, MIN]\nIndex: [] \n []\nNTCO3 -1726800.0 \n Empty DataFrame\nColumns: [ativo1, aserestudado, vendas_montante, aquis_montante, pf_valor_mercado, cand_pf_quant, MAX, MIN]\nIndex: [] \n []\nOMGE3 -260000.0 \n Empty DataFrame\nColumns: [ativo1, aserestudado, vendas_montante, aquis_montante, pf_valor_mercado, cand_pf_quant, MAX, MIN]\nIndex: [] \n []\nPETR4 -3410000.0 \n Empty DataFrame\nColumns: [ativo1, aserestudado, vendas_montante, aquis_montante, pf_valor_mercado, cand_pf_quant, MAX, MIN]\nIndex: [] \n []\nRENT3 -4751700.0 \n Empty DataFrame\nColumns: [ativo1, aserestudado, vendas_montante, aquis_montante, pf_valor_mercado, cand_pf_quant, MAX, MIN]\nIndex: [] \n []\nSULA11 9152300.0 \n                                                  ativo1  aserestudado  \\\n1509  Certificado ou recibo de depósito de valores m...      58877078   \n\n      vendas_montante  aquis_montante  pf_valor_mercado  cand_pf_quant  \\\n1509              0.0             0.0         624984700         139350   \n\n               MAX           MIN  \n1509  1.393500e+07  1.393500e+07   \n []\nTIMP3 -2314400.0 \n Empty DataFrame\nColumns: [ativo1, aserestudado, vendas_montante, aquis_montante, pf_valor_mercado, cand_pf_quant, MAX, MIN]\nIndex: [] \n []\nUGPA3 20188400.0 \n Empty DataFrame\nColumns: [ativo1, aserestudado, vendas_montante, aquis_montante, pf_valor_mercado, cand_pf_quant, MAX, MIN]\nIndex: [] \n []\nVALE3 -3161300.0 \n Empty DataFrame\nColumns: [ativo1, aserestudado, vendas_montante, aquis_montante, pf_valor_mercado, cand_pf_quant, MAX, MIN]\nIndex: [] \n []\nVVAR3 710000.0 \n Empty DataFrame\nColumns: [ativo1, aserestudado, vendas_montante, aquis_montante, pf_valor_mercado, cand_pf_quant, MAX, MIN]\nIndex: [] \n []\n"
    }
   ],
   "source": [
    "for ativo in sorted(list({x for x in aux.ativo3 if pd.notna(x)})):\n",
    "    if ativo.upper() not in ('MRSA5B','MRSA3B','MOAR3','EUCA4','USIM6','TIET12','Valores a Pagar'.upper()):\n",
    "        MES1 = teste_fraco(MES0,MES1,ativo,'202005')"
   ]
  },
  {
   "cell_type": "code",
   "execution_count": null,
   "metadata": {},
   "outputs": [],
   "source": []
  },
  {
   "cell_type": "code",
   "execution_count": 616,
   "metadata": {},
   "outputs": [
    {
     "output_type": "execute_result",
     "data": {
      "text/plain": "Empty DataFrame\nColumns: [ativo3]\nIndex: []",
      "text/html": "<div>\n<style scoped>\n    .dataframe tbody tr th:only-of-type {\n        vertical-align: middle;\n    }\n\n    .dataframe tbody tr th {\n        vertical-align: top;\n    }\n\n    .dataframe thead th {\n        text-align: right;\n    }\n</style>\n<table border=\"1\" class=\"dataframe\">\n  <thead>\n    <tr style=\"text-align: right;\">\n      <th></th>\n      <th>ativo3</th>\n    </tr>\n    <tr>\n      <th>aserestudado</th>\n      <th></th>\n    </tr>\n  </thead>\n  <tbody>\n  </tbody>\n</table>\n</div>"
     },
     "metadata": {},
     "execution_count": 616
    }
   ],
   "source": [
    "#papeis que ele Não achou\n",
    "CONFUSAO = MES1.groupby(by='aserestudado').count()[['ativo3']]\n",
    "CONFUSAO[CONFUSAO.ativo3<1]"
   ]
  },
  {
   "cell_type": "code",
   "execution_count": 491,
   "metadata": {},
   "outputs": [
    {
     "output_type": "execute_result",
     "data": {
      "text/plain": "      position  aserestudado  \\\n1509        26      58877078   \n\n                                                 ativo1  ativo2 ativo3  \\\n1509  Certificado ou recibo de depósito de valores m...     NaN    NaN   \n\n      ativo4    classificacao emp_ligada  vendas_quant  vendas_montante  \\\n1509     NaN  Para negociacao        Nao           NaN              NaN   \n\n      aquis_quant  aquis_montante  pf_quant  pf_valor_custo  pf_valor_mercado  \\\n1509          NaN             NaN    139350             NaN         624984700   \n\n      porcent_partrimonio_liquido  fechado candidatos  cand_pf_quant  grupo  \n1509                          2.0     True     SULA11         139350      1  ",
      "text/html": "<div>\n<style scoped>\n    .dataframe tbody tr th:only-of-type {\n        vertical-align: middle;\n    }\n\n    .dataframe tbody tr th {\n        vertical-align: top;\n    }\n\n    .dataframe thead th {\n        text-align: right;\n    }\n</style>\n<table border=\"1\" class=\"dataframe\">\n  <thead>\n    <tr style=\"text-align: right;\">\n      <th></th>\n      <th>position</th>\n      <th>aserestudado</th>\n      <th>ativo1</th>\n      <th>ativo2</th>\n      <th>ativo3</th>\n      <th>ativo4</th>\n      <th>classificacao</th>\n      <th>emp_ligada</th>\n      <th>vendas_quant</th>\n      <th>vendas_montante</th>\n      <th>aquis_quant</th>\n      <th>aquis_montante</th>\n      <th>pf_quant</th>\n      <th>pf_valor_custo</th>\n      <th>pf_valor_mercado</th>\n      <th>porcent_partrimonio_liquido</th>\n      <th>fechado</th>\n      <th>candidatos</th>\n      <th>cand_pf_quant</th>\n      <th>grupo</th>\n    </tr>\n  </thead>\n  <tbody>\n    <tr>\n      <th>1509</th>\n      <td>26</td>\n      <td>58877078</td>\n      <td>Certificado ou recibo de depósito de valores m...</td>\n      <td>NaN</td>\n      <td>NaN</td>\n      <td>NaN</td>\n      <td>Para negociacao</td>\n      <td>Nao</td>\n      <td>NaN</td>\n      <td>NaN</td>\n      <td>NaN</td>\n      <td>NaN</td>\n      <td>139350</td>\n      <td>NaN</td>\n      <td>624984700</td>\n      <td>2.0</td>\n      <td>True</td>\n      <td>SULA11</td>\n      <td>139350</td>\n      <td>1</td>\n    </tr>\n  </tbody>\n</table>\n</div>"
     },
     "metadata": {},
     "execution_count": 491
    }
   ],
   "source": [
    " MES1[MES1.aserestudado == 58877078][MES1.candidatos == 'SULA11']"
   ]
  },
  {
   "cell_type": "code",
   "execution_count": 492,
   "metadata": {},
   "outputs": [],
   "source": [
    "MES1 = completa('SULA11',{1509},MES1)"
   ]
  },
  {
   "cell_type": "code",
   "execution_count": null,
   "metadata": {},
   "outputs": [],
   "source": []
  },
  {
   "cell_type": "code",
   "execution_count": 617,
   "metadata": {},
   "outputs": [
    {
     "output_type": "execute_result",
     "data": {
      "text/plain": "Empty DataFrame\nColumns: [position, aserestudado, ativo1, ativo2, ativo3, ativo4, classificacao, emp_ligada, vendas_quant, vendas_montante, aquis_quant, aquis_montante, pf_quant, pf_valor_custo, pf_valor_mercado, porcent_partrimonio_liquido, fechado, candidatos, cand_pf_quant, grupo]\nIndex: []",
      "text/html": "<div>\n<style scoped>\n    .dataframe tbody tr th:only-of-type {\n        vertical-align: middle;\n    }\n\n    .dataframe tbody tr th {\n        vertical-align: top;\n    }\n\n    .dataframe thead th {\n        text-align: right;\n    }\n</style>\n<table border=\"1\" class=\"dataframe\">\n  <thead>\n    <tr style=\"text-align: right;\">\n      <th></th>\n      <th>position</th>\n      <th>aserestudado</th>\n      <th>ativo1</th>\n      <th>ativo2</th>\n      <th>ativo3</th>\n      <th>ativo4</th>\n      <th>classificacao</th>\n      <th>emp_ligada</th>\n      <th>vendas_quant</th>\n      <th>vendas_montante</th>\n      <th>aquis_quant</th>\n      <th>aquis_montante</th>\n      <th>pf_quant</th>\n      <th>pf_valor_custo</th>\n      <th>pf_valor_mercado</th>\n      <th>porcent_partrimonio_liquido</th>\n      <th>fechado</th>\n      <th>candidatos</th>\n      <th>cand_pf_quant</th>\n      <th>grupo</th>\n    </tr>\n  </thead>\n  <tbody>\n  </tbody>\n</table>\n</div>"
     },
     "metadata": {},
     "execution_count": 617
    }
   ],
   "source": [
    "#Não achou\n",
    "nao_achou = MES1[MES1.aserestudado.isin(CONFUSAO[CONFUSAO.ativo3<1].index)]\n",
    "nao_achou"
   ]
  },
  {
   "cell_type": "code",
   "execution_count": null,
   "metadata": {},
   "outputs": [],
   "source": []
  },
  {
   "cell_type": "code",
   "execution_count": 496,
   "metadata": {},
   "outputs": [
    {
     "output_type": "execute_result",
     "data": {
      "text/plain": "    aserestudado                                             ativo1  \\\n27      58387424  Certificado ou recibo de depósito de valores m...   \n\n         ativo2  ativo3                      ativo4    classificacao  \\\n27  Cod. Ativo:  SULA11  Dt. Ini. Vigen.:05/10/2007  Para negociacao   \n\n   emp_ligada  vendas_quant  vendas_montante  aquis_quant  aquis_montante  \\\n27        Nao           NaN              NaN          NaN             NaN   \n\n    pf_quant pf_valor_custo  pf_valor_mercado  porcent_partrimonio_liquido  \\\n27   91523.0            NaN         409565425                        2.048   \n\n    fechado                                         candidatos  \\\n27    False  [A1LL34, ALUP4, ATOM3, AZEV4, BBRK3, BEES3, BI...   \n\n                                        cand_pf_quant  grupo  \n27  [69654, 642960, 3056459, 1489329, 1706523, 809...      1  ",
      "text/html": "<div>\n<style scoped>\n    .dataframe tbody tr th:only-of-type {\n        vertical-align: middle;\n    }\n\n    .dataframe tbody tr th {\n        vertical-align: top;\n    }\n\n    .dataframe thead th {\n        text-align: right;\n    }\n</style>\n<table border=\"1\" class=\"dataframe\">\n  <thead>\n    <tr style=\"text-align: right;\">\n      <th></th>\n      <th>aserestudado</th>\n      <th>ativo1</th>\n      <th>ativo2</th>\n      <th>ativo3</th>\n      <th>ativo4</th>\n      <th>classificacao</th>\n      <th>emp_ligada</th>\n      <th>vendas_quant</th>\n      <th>vendas_montante</th>\n      <th>aquis_quant</th>\n      <th>aquis_montante</th>\n      <th>pf_quant</th>\n      <th>pf_valor_custo</th>\n      <th>pf_valor_mercado</th>\n      <th>porcent_partrimonio_liquido</th>\n      <th>fechado</th>\n      <th>candidatos</th>\n      <th>cand_pf_quant</th>\n      <th>grupo</th>\n    </tr>\n  </thead>\n  <tbody>\n    <tr>\n      <th>27</th>\n      <td>58387424</td>\n      <td>Certificado ou recibo de depósito de valores m...</td>\n      <td>Cod. Ativo:</td>\n      <td>SULA11</td>\n      <td>Dt. Ini. Vigen.:05/10/2007</td>\n      <td>Para negociacao</td>\n      <td>Nao</td>\n      <td>NaN</td>\n      <td>NaN</td>\n      <td>NaN</td>\n      <td>NaN</td>\n      <td>91523.0</td>\n      <td>NaN</td>\n      <td>409565425</td>\n      <td>2.048</td>\n      <td>False</td>\n      <td>[A1LL34, ALUP4, ATOM3, AZEV4, BBRK3, BEES3, BI...</td>\n      <td>[69654, 642960, 3056459, 1489329, 1706523, 809...</td>\n      <td>1</td>\n    </tr>\n  </tbody>\n</table>\n</div>"
     },
     "metadata": {},
     "execution_count": 496
    }
   ],
   "source": [
    "MES0[MES0.ativo1.str.contains('Certificado')]"
   ]
  },
  {
   "cell_type": "code",
   "execution_count": 431,
   "metadata": {},
   "outputs": [
    {
     "output_type": "execute_result",
     "data": {
      "text/plain": "      position  aserestudado  \\\n1509        26      58877078   \n\n                                                 ativo1  ativo2 ativo3  \\\n1509  Certificado ou recibo de depósito de valores m...     NaN    NaN   \n\n      ativo4    classificacao emp_ligada  vendas_quant  vendas_montante  \\\n1509     NaN  Para negociacao        Nao           NaN              NaN   \n\n      aquis_quant  aquis_montante  pf_quant  pf_valor_custo  pf_valor_mercado  \\\n1509          NaN             NaN    139350             NaN         624984700   \n\n      porcent_partrimonio_liquido  fechado candidatos  cand_pf_quant  grupo  \n1509                          2.0     True     SULA11         139350      1  ",
      "text/html": "<div>\n<style scoped>\n    .dataframe tbody tr th:only-of-type {\n        vertical-align: middle;\n    }\n\n    .dataframe tbody tr th {\n        vertical-align: top;\n    }\n\n    .dataframe thead th {\n        text-align: right;\n    }\n</style>\n<table border=\"1\" class=\"dataframe\">\n  <thead>\n    <tr style=\"text-align: right;\">\n      <th></th>\n      <th>position</th>\n      <th>aserestudado</th>\n      <th>ativo1</th>\n      <th>ativo2</th>\n      <th>ativo3</th>\n      <th>ativo4</th>\n      <th>classificacao</th>\n      <th>emp_ligada</th>\n      <th>vendas_quant</th>\n      <th>vendas_montante</th>\n      <th>aquis_quant</th>\n      <th>aquis_montante</th>\n      <th>pf_quant</th>\n      <th>pf_valor_custo</th>\n      <th>pf_valor_mercado</th>\n      <th>porcent_partrimonio_liquido</th>\n      <th>fechado</th>\n      <th>candidatos</th>\n      <th>cand_pf_quant</th>\n      <th>grupo</th>\n    </tr>\n  </thead>\n  <tbody>\n    <tr>\n      <th>1509</th>\n      <td>26</td>\n      <td>58877078</td>\n      <td>Certificado ou recibo de depósito de valores m...</td>\n      <td>NaN</td>\n      <td>NaN</td>\n      <td>NaN</td>\n      <td>Para negociacao</td>\n      <td>Nao</td>\n      <td>NaN</td>\n      <td>NaN</td>\n      <td>NaN</td>\n      <td>NaN</td>\n      <td>139350</td>\n      <td>NaN</td>\n      <td>624984700</td>\n      <td>2.0</td>\n      <td>True</td>\n      <td>SULA11</td>\n      <td>139350</td>\n      <td>1</td>\n    </tr>\n  </tbody>\n</table>\n</div>"
     },
     "metadata": {},
     "execution_count": 431
    }
   ],
   "source": [
    "MES1[MES1.candidatos=='SULA11']"
   ]
  },
  {
   "cell_type": "code",
   "execution_count": 432,
   "metadata": {},
   "outputs": [],
   "source": [
    "MES1 = completa('SULA11',{1509},MES1)"
   ]
  },
  {
   "cell_type": "code",
   "execution_count": null,
   "metadata": {},
   "outputs": [],
   "source": []
  },
  {
   "cell_type": "code",
   "execution_count": null,
   "metadata": {},
   "outputs": [],
   "source": []
  },
  {
   "cell_type": "code",
   "execution_count": 497,
   "metadata": {},
   "outputs": [
    {
     "output_type": "execute_result",
     "data": {
      "text/plain": "Empty DataFrame\nColumns: [ativo3]\nIndex: []",
      "text/html": "<div>\n<style scoped>\n    .dataframe tbody tr th:only-of-type {\n        vertical-align: middle;\n    }\n\n    .dataframe tbody tr th {\n        vertical-align: top;\n    }\n\n    .dataframe thead th {\n        text-align: right;\n    }\n</style>\n<table border=\"1\" class=\"dataframe\">\n  <thead>\n    <tr style=\"text-align: right;\">\n      <th></th>\n      <th>ativo3</th>\n    </tr>\n    <tr>\n      <th>aserestudado</th>\n      <th></th>\n    </tr>\n  </thead>\n  <tbody>\n  </tbody>\n</table>\n</div>"
     },
     "metadata": {},
     "execution_count": 497
    }
   ],
   "source": [
    "CONFUSAO = MES1.groupby(by='aserestudado').count()[['ativo3']]\n",
    "CONFUSAO[CONFUSAO.ativo3<1]"
   ]
  },
  {
   "cell_type": "code",
   "execution_count": 618,
   "metadata": {},
   "outputs": [
    {
     "output_type": "execute_result",
     "data": {
      "text/plain": "[]"
     },
     "metadata": {},
     "execution_count": 618
    }
   ],
   "source": [
    "list(CONFUSAO[CONFUSAO.ativo3<1].index)"
   ]
  },
  {
   "cell_type": "code",
   "execution_count": 499,
   "metadata": {},
   "outputs": [
    {
     "output_type": "execute_result",
     "data": {
      "text/plain": "Empty DataFrame\nColumns: [ativo3]\nIndex: []",
      "text/html": "<div>\n<style scoped>\n    .dataframe tbody tr th:only-of-type {\n        vertical-align: middle;\n    }\n\n    .dataframe tbody tr th {\n        vertical-align: top;\n    }\n\n    .dataframe thead th {\n        text-align: right;\n    }\n</style>\n<table border=\"1\" class=\"dataframe\">\n  <thead>\n    <tr style=\"text-align: right;\">\n      <th></th>\n      <th>ativo3</th>\n    </tr>\n    <tr>\n      <th>aserestudado</th>\n      <th></th>\n    </tr>\n  </thead>\n  <tbody>\n  </tbody>\n</table>\n</div>"
     },
     "metadata": {},
     "execution_count": 499
    }
   ],
   "source": [
    "MES1 = filtro_alfabetico(MES1,alfabetico)\n",
    "CONFUSAO = MES1.groupby(by='aserestudado').count()[['ativo3']]\n",
    "CONFUSAO[CONFUSAO.ativo3<1]"
   ]
  },
  {
   "cell_type": "code",
   "execution_count": null,
   "metadata": {},
   "outputs": [],
   "source": []
  },
  {
   "cell_type": "code",
   "execution_count": 619,
   "metadata": {
    "tags": []
   },
   "outputs": [
    {
     "output_type": "stream",
     "name": "stdout",
     "text": "TRABALHO CONCLUIDO\n"
    }
   ],
   "source": [
    "MES1 = filtro_unico_index(MES1,aserestudado_sem_nenhum_ativo3=list(CONFUSAO[CONFUSAO.ativo3<1].index))\n",
    "#MES1 = MES1.set_index('index')"
   ]
  },
  {
   "cell_type": "code",
   "execution_count": null,
   "metadata": {},
   "outputs": [],
   "source": []
  },
  {
   "cell_type": "code",
   "execution_count": 68,
   "metadata": {},
   "outputs": [],
   "source": [
    "#MES1[MES1.aserestudado==58334057]"
   ]
  },
  {
   "cell_type": "code",
   "execution_count": 69,
   "metadata": {},
   "outputs": [],
   "source": [
    "#MES1[MES1.aserestudado==58334058]"
   ]
  },
  {
   "cell_type": "code",
   "execution_count": 70,
   "metadata": {
    "tags": []
   },
   "outputs": [
    {
     "output_type": "execute_result",
     "data": {
      "text/plain": "''"
     },
     "metadata": {},
     "execution_count": 70
    }
   ],
   "source": []
  },
  {
   "cell_type": "code",
   "execution_count": 438,
   "metadata": {},
   "outputs": [
    {
     "output_type": "execute_result",
     "data": {
      "text/plain": "''"
     },
     "metadata": {},
     "execution_count": 438
    }
   ],
   "source": [
    "''"
   ]
  },
  {
   "cell_type": "code",
   "execution_count": 620,
   "metadata": {},
   "outputs": [],
   "source": [
    "#MES1.sort_values(['aserestudado','candidatos']).to_csv('excel_fundos\\\\'+str(anomes)+'_2.xls',sep='\\t',decimal= '.')"
   ]
  },
  {
   "cell_type": "code",
   "execution_count": null,
   "metadata": {},
   "outputs": [],
   "source": []
  },
  {
   "cell_type": "code",
   "execution_count": 621,
   "metadata": {},
   "outputs": [],
   "source": [
    "#aqui tenho q ver se as linhas com short estao realmente negativas\n",
    "aux = MES1.copy()"
   ]
  },
  {
   "cell_type": "code",
   "execution_count": 622,
   "metadata": {
    "tags": []
   },
   "outputs": [
    {
     "output_type": "stream",
     "name": "stdout",
     "text": "Wall time: 1.31 s\n"
    }
   ],
   "source": [
    "anomes = 202006\n",
    "\n",
    "%time carteira_pandas,fundo,fundo_cnpj,adm,adm_cnpj,pl,hora_recebimento = parse_html_tudo_int(apelido_fundo,anomes,candidatos=True)"
   ]
  },
  {
   "cell_type": "code",
   "execution_count": 623,
   "metadata": {
    "tags": []
   },
   "outputs": [
    {
     "output_type": "stream",
     "name": "stdout",
     "text": "grupo 3 todos os ativos1 são nulos\ngrupo 4 todos os ativos1 são nulos\n"
    }
   ],
   "source": [
    "carteira_pandas,alfabetico = separa_blocos(carteira_pandas)"
   ]
  },
  {
   "cell_type": "code",
   "execution_count": 624,
   "metadata": {},
   "outputs": [],
   "source": [
    "explodido = explodir(carteira_pandas,alfabetico)"
   ]
  },
  {
   "cell_type": "code",
   "execution_count": 625,
   "metadata": {
    "tags": []
   },
   "outputs": [
    {
     "output_type": "stream",
     "name": "stdout",
     "text": "-------------------ALPK3-------------------\nALUP11 3478200.0 \n Empty DataFrame\nColumns: [ativo1, aserestudado, vendas_montante, aquis_montante, pf_valor_mercado, cand_pf_quant, MAX, MIN]\nIndex: [] \n []\nARZZ3 92080000.0 \n                                        ativo1  aserestudado  vendas_montante  \\\n134  Ações e outros TVM cedidos em empréstimo      59602657              0.0   \n\n     aquis_montante  pf_valor_mercado  cand_pf_quant           MAX  \\\n134             0.0        2515487600       525154.0  5.251540e+07   \n\n              MIN  \n134  5.251540e+07   \n []\nB3SA3 117750000.0 \n Empty DataFrame\nColumns: [ativo1, aserestudado, vendas_montante, aquis_montante, pf_valor_mercado, cand_pf_quant, MAX, MIN]\nIndex: [] \n []\n-------------------BPAC11-------------------\n-------------------ENEV3-------------------\nENGI11 345310300.0 \n                                                  ativo1  aserestudado  \\\n85             Ações e outros TVM cedidos em empréstimo      59602656   \n1246  Certificado ou recibo de depósito de valores m...      59602675   \n\n      vendas_montante  aquis_montante  pf_valor_mercado  cand_pf_quant  \\\n85                0.0             0.0        3623456900       739481.0   \n1246              0.0             0.0       13762737800      2808722.0   \n\n               MAX           MIN  \n85    7.394810e+07  7.394810e+07  \n1246  2.808722e+08  2.808722e+08   \n []\n-------------------EQTL3-------------------\nEZTC3 132331800.0 \n                                         ativo1  aserestudado  vendas_montante  \\\n532   Ações e outros TVM cedidos em empréstimo      59602663              0.0   \n1774                                     Ações      59602683      106533000.0   \n\n      aquis_montante  pf_valor_mercado  cand_pf_quant           MAX  \\\n532     0.000000e+00        3444535000       863292.0  8.632920e+07   \n1774    3.145770e+09       17805406900      4462508.0  3.743448e+08   \n\n               MIN  \n532   8.632919e+07  \n1774  3.508906e+08   \n []\n-------------------GNDI3-------------------\nKLBN11 199600000.0 \n                                                  ativo1  aserestudado  \\\n1412  Certificado ou recibo de depósito de valores m...      59602678   \n1911                                              Ações      59602686   \n\n      vendas_montante  aquis_montante  pf_valor_mercado  cand_pf_quant  \\\n1412              0.0    0.000000e+00        8528841600      4195200.0   \n1911      167100700.0    1.120815e+09       30366420800     14936754.0   \n\n               MAX           MIN  \n1412  4.195200e+08  4.195200e+08  \n1911  1.449517e+09  1.441654e+09   \n []\n-------------------LAME3-------------------\nLAME4 256330000.0 \n                                         ativo1  aserestudado  vendas_montante  \\\n336   Ações e outros TVM cedidos em empréstimo      59602660              0.0   \n1590                                     Ações      59602680       63716400.0   \n\n      aquis_montante  pf_valor_mercado  cand_pf_quant           MAX  \\\n336     0.000000e+00         292194400        90800.0  9.080007e+06   \n1590    4.814219e+09       12797986000      3977000.0  2.583817e+08   \n\n               MIN  \n336   9.079996e+06  \n1590  2.275762e+08   \n [{1590}, {336, 1590}]\n-------------------LREN3-------------------\n-------------------MGLU3-------------------\n-------------------NTCO3-------------------\n-------------------PSSA3-------------------\n-------------------RADL3-------------------\n-------------------RAIL3-------------------\n-------------------RENT3-------------------\n-------------------SUZB3-------------------\n-------------------TEND3-------------------\n-------------------TOTS3-------------------\n-------------------VIVA3-------------------\n-------------------WEGE3-------------------\n"
    }
   ],
   "source": [
    "MES1 = aux.copy()\n",
    "MES2 = explodido.copy()\n",
    "for ativo in sorted(list({x for x in aux.ativo3 if pd.notna(x)})):\n",
    "    if ativo.upper() not in ('MRSA5B','MRSA3B','MOAR3','EUCA4','USIM6','TIET12','Valores a Pagar'.upper()):\n",
    "        MES2 = teste_fraco(MES1,MES2,ativo,'202006')"
   ]
  },
  {
   "cell_type": "code",
   "execution_count": 631,
   "metadata": {},
   "outputs": [],
   "source": [
    "MES2 = completa('ENGI11',{85,1246},MES2)\n",
    "MES2 = completa('KLBN11',{1412},MES2)\n",
    "MES2 = completa('LAME4',{336,1590},MES2)\n"
   ]
  },
  {
   "cell_type": "code",
   "execution_count": 632,
   "metadata": {},
   "outputs": [
    {
     "output_type": "execute_result",
     "data": {
      "text/plain": "Empty DataFrame\nColumns: [ativo3]\nIndex: []",
      "text/html": "<div>\n<style scoped>\n    .dataframe tbody tr th:only-of-type {\n        vertical-align: middle;\n    }\n\n    .dataframe tbody tr th {\n        vertical-align: top;\n    }\n\n    .dataframe thead th {\n        text-align: right;\n    }\n</style>\n<table border=\"1\" class=\"dataframe\">\n  <thead>\n    <tr style=\"text-align: right;\">\n      <th></th>\n      <th>ativo3</th>\n    </tr>\n    <tr>\n      <th>aserestudado</th>\n      <th></th>\n    </tr>\n  </thead>\n  <tbody>\n  </tbody>\n</table>\n</div>"
     },
     "metadata": {},
     "execution_count": 632
    }
   ],
   "source": [
    "CONFUSAO = MES2.groupby(by='aserestudado').count()[['ativo3']]\n",
    "CONFUSAO[CONFUSAO.ativo3>1]"
   ]
  },
  {
   "cell_type": "code",
   "execution_count": 633,
   "metadata": {},
   "outputs": [
    {
     "output_type": "execute_result",
     "data": {
      "text/plain": "Empty DataFrame\nColumns: [ativo3]\nIndex: []",
      "text/html": "<div>\n<style scoped>\n    .dataframe tbody tr th:only-of-type {\n        vertical-align: middle;\n    }\n\n    .dataframe tbody tr th {\n        vertical-align: top;\n    }\n\n    .dataframe thead th {\n        text-align: right;\n    }\n</style>\n<table border=\"1\" class=\"dataframe\">\n  <thead>\n    <tr style=\"text-align: right;\">\n      <th></th>\n      <th>ativo3</th>\n    </tr>\n    <tr>\n      <th>aserestudado</th>\n      <th></th>\n    </tr>\n  </thead>\n  <tbody>\n  </tbody>\n</table>\n</div>"
     },
     "metadata": {},
     "execution_count": 633
    }
   ],
   "source": [
    "CONFUSAO = MES2.groupby(by='aserestudado').count()[['ativo3']]\n",
    "CONFUSAO[CONFUSAO.ativo3<1]"
   ]
  },
  {
   "cell_type": "code",
   "execution_count": 634,
   "metadata": {},
   "outputs": [],
   "source": [
    "#Antes de rodar o filtro_alfabetico preciso me certicicar que não há nenhuma linha com mais de um valor na coluna ativo3, ou seja nenhum aserestudado_com_varios_ativo3, ou seja, que  len(CONFUSAO[CONFUSAO.ativo3>1]) == 0\n",
    "assert len(CONFUSAO[CONFUSAO.ativo3>1]) == 0\n",
    "MES2 = filtro_alfabetico(MES2,alfabetico)"
   ]
  },
  {
   "cell_type": "code",
   "execution_count": 635,
   "metadata": {},
   "outputs": [
    {
     "output_type": "execute_result",
     "data": {
      "text/plain": "Empty DataFrame\nColumns: [position, aserestudado, ativo1, ativo2, ativo3, ativo4, classificacao, emp_ligada, vendas_quant, vendas_montante, aquis_quant, aquis_montante, pf_quant, pf_valor_custo, pf_valor_mercado, porcent_partrimonio_liquido, fechado, candidatos, cand_pf_quant, grupo]\nIndex: []",
      "text/html": "<div>\n<style scoped>\n    .dataframe tbody tr th:only-of-type {\n        vertical-align: middle;\n    }\n\n    .dataframe tbody tr th {\n        vertical-align: top;\n    }\n\n    .dataframe thead th {\n        text-align: right;\n    }\n</style>\n<table border=\"1\" class=\"dataframe\">\n  <thead>\n    <tr style=\"text-align: right;\">\n      <th></th>\n      <th>position</th>\n      <th>aserestudado</th>\n      <th>ativo1</th>\n      <th>ativo2</th>\n      <th>ativo3</th>\n      <th>ativo4</th>\n      <th>classificacao</th>\n      <th>emp_ligada</th>\n      <th>vendas_quant</th>\n      <th>vendas_montante</th>\n      <th>aquis_quant</th>\n      <th>aquis_montante</th>\n      <th>pf_quant</th>\n      <th>pf_valor_custo</th>\n      <th>pf_valor_mercado</th>\n      <th>porcent_partrimonio_liquido</th>\n      <th>fechado</th>\n      <th>candidatos</th>\n      <th>cand_pf_quant</th>\n      <th>grupo</th>\n    </tr>\n  </thead>\n  <tbody>\n  </tbody>\n</table>\n</div>"
     },
     "metadata": {},
     "execution_count": 635
    }
   ],
   "source": [
    "#Não achou\n",
    "nao_achou = MES2[MES2.aserestudado.isin(CONFUSAO[CONFUSAO.ativo3<1].index)]\n",
    "nao_achou"
   ]
  },
  {
   "cell_type": "code",
   "execution_count": 92,
   "metadata": {},
   "outputs": [
    {
     "output_type": "execute_result",
     "data": {
      "text/plain": "      index  aserestudado                                             ativo1  \\\n89       33      58881799  Certificado ou recibo de depósito de valores m...   \n1097     34      58881816  Certificado ou recibo de depósito de valores m...   \n1375     35      58881820  Certificado ou recibo de depósito de valores m...   \n\n     ativo2  ativo3 ativo4    classificacao emp_ligada  vendas_quant  \\\n89      NaN  SULA11    NaN  Para negociacao        Nao           NaN   \n1097    NaN  ENGI11    NaN  Para negociacao        Nao           NaN   \n1375    NaN  BIDI11    NaN  Para negociacao        Nao           NaN   \n\n      vendas_montante  aquis_quant  aquis_montante   pf_quant  pf_valor_custo  \\\n89                NaN          NaN             NaN  1359000.0             NaN   \n1097              NaN          NaN             NaN  1074527.0             NaN   \n1375              NaN          NaN             NaN  1404488.0             NaN   \n\n      pf_valor_mercado  porcent_partrimonio_liquido  fechado candidatos  \\\n89          6095115000                          2.0     True     SULA11   \n1097        5104003200                          1.0     True     ENGI11   \n1375        4719079600                          1.0     True     BIDI11   \n\n      cand_pf_quant  grupo  \n89        1359000.0      1  \n1097      1074527.0      1  \n1375      1404488.0      1  ",
      "text/html": "<div>\n<style scoped>\n    .dataframe tbody tr th:only-of-type {\n        vertical-align: middle;\n    }\n\n    .dataframe tbody tr th {\n        vertical-align: top;\n    }\n\n    .dataframe thead th {\n        text-align: right;\n    }\n</style>\n<table border=\"1\" class=\"dataframe\">\n  <thead>\n    <tr style=\"text-align: right;\">\n      <th></th>\n      <th>index</th>\n      <th>aserestudado</th>\n      <th>ativo1</th>\n      <th>ativo2</th>\n      <th>ativo3</th>\n      <th>ativo4</th>\n      <th>classificacao</th>\n      <th>emp_ligada</th>\n      <th>vendas_quant</th>\n      <th>vendas_montante</th>\n      <th>aquis_quant</th>\n      <th>aquis_montante</th>\n      <th>pf_quant</th>\n      <th>pf_valor_custo</th>\n      <th>pf_valor_mercado</th>\n      <th>porcent_partrimonio_liquido</th>\n      <th>fechado</th>\n      <th>candidatos</th>\n      <th>cand_pf_quant</th>\n      <th>grupo</th>\n    </tr>\n  </thead>\n  <tbody>\n    <tr>\n      <th>89</th>\n      <td>33</td>\n      <td>58881799</td>\n      <td>Certificado ou recibo de depósito de valores m...</td>\n      <td>NaN</td>\n      <td>SULA11</td>\n      <td>NaN</td>\n      <td>Para negociacao</td>\n      <td>Nao</td>\n      <td>NaN</td>\n      <td>NaN</td>\n      <td>NaN</td>\n      <td>NaN</td>\n      <td>1359000.0</td>\n      <td>NaN</td>\n      <td>6095115000</td>\n      <td>2.0</td>\n      <td>True</td>\n      <td>SULA11</td>\n      <td>1359000.0</td>\n      <td>1</td>\n    </tr>\n    <tr>\n      <th>1097</th>\n      <td>34</td>\n      <td>58881816</td>\n      <td>Certificado ou recibo de depósito de valores m...</td>\n      <td>NaN</td>\n      <td>ENGI11</td>\n      <td>NaN</td>\n      <td>Para negociacao</td>\n      <td>Nao</td>\n      <td>NaN</td>\n      <td>NaN</td>\n      <td>NaN</td>\n      <td>NaN</td>\n      <td>1074527.0</td>\n      <td>NaN</td>\n      <td>5104003200</td>\n      <td>1.0</td>\n      <td>True</td>\n      <td>ENGI11</td>\n      <td>1074527.0</td>\n      <td>1</td>\n    </tr>\n    <tr>\n      <th>1375</th>\n      <td>35</td>\n      <td>58881820</td>\n      <td>Certificado ou recibo de depósito de valores m...</td>\n      <td>NaN</td>\n      <td>BIDI11</td>\n      <td>NaN</td>\n      <td>Para negociacao</td>\n      <td>Nao</td>\n      <td>NaN</td>\n      <td>NaN</td>\n      <td>NaN</td>\n      <td>NaN</td>\n      <td>1404488.0</td>\n      <td>NaN</td>\n      <td>4719079600</td>\n      <td>1.0</td>\n      <td>True</td>\n      <td>BIDI11</td>\n      <td>1404488.0</td>\n      <td>1</td>\n    </tr>\n  </tbody>\n</table>\n</div>"
     },
     "metadata": {},
     "execution_count": 92
    }
   ],
   "source": [
    "MES1[MES1.ativo1.str.contains('Certificado')]"
   ]
  },
  {
   "cell_type": "code",
   "execution_count": 514,
   "metadata": {
    "tags": []
   },
   "outputs": [],
   "source": [
    "MES2 = completa('MRVE3',{1065 },MES2)"
   ]
  },
  {
   "cell_type": "code",
   "execution_count": 515,
   "metadata": {
    "tags": []
   },
   "outputs": [],
   "source": [
    "#MES2 = teste_fraco(MES1,MES2,'BIDI4',str(anomes))"
   ]
  },
  {
   "cell_type": "code",
   "execution_count": 122,
   "metadata": {
    "tags": []
   },
   "outputs": [],
   "source": []
  },
  {
   "cell_type": "code",
   "execution_count": 73,
   "metadata": {},
   "outputs": [],
   "source": []
  },
  {
   "cell_type": "code",
   "execution_count": 516,
   "metadata": {},
   "outputs": [
    {
     "output_type": "execute_result",
     "data": {
      "text/plain": "Empty DataFrame\nColumns: [ativo3]\nIndex: []",
      "text/html": "<div>\n<style scoped>\n    .dataframe tbody tr th:only-of-type {\n        vertical-align: middle;\n    }\n\n    .dataframe tbody tr th {\n        vertical-align: top;\n    }\n\n    .dataframe thead th {\n        text-align: right;\n    }\n</style>\n<table border=\"1\" class=\"dataframe\">\n  <thead>\n    <tr style=\"text-align: right;\">\n      <th></th>\n      <th>ativo3</th>\n    </tr>\n    <tr>\n      <th>aserestudado</th>\n      <th></th>\n    </tr>\n  </thead>\n  <tbody>\n  </tbody>\n</table>\n</div>"
     },
     "metadata": {},
     "execution_count": 516
    }
   ],
   "source": [
    "CONFUSAO = MES2.groupby(by='aserestudado').count()[['ativo3']]\n",
    "CONFUSAO[CONFUSAO.ativo3<1]"
   ]
  },
  {
   "cell_type": "code",
   "execution_count": 636,
   "metadata": {
    "tags": []
   },
   "outputs": [
    {
     "output_type": "stream",
     "name": "stdout",
     "text": "TRABALHO CONCLUIDO\n"
    }
   ],
   "source": [
    "MES2 = filtro_unico_index(MES2,aserestudado_sem_nenhum_ativo3=list(CONFUSAO[CONFUSAO.ativo3<1].index))\n",
    "#MES2.set_index('index')"
   ]
  },
  {
   "cell_type": "code",
   "execution_count": 300,
   "metadata": {},
   "outputs": [],
   "source": []
  },
  {
   "cell_type": "code",
   "execution_count": null,
   "metadata": {},
   "outputs": [],
   "source": []
  },
  {
   "cell_type": "code",
   "execution_count": 637,
   "metadata": {},
   "outputs": [],
   "source": [
    "#aqui tenho q ver se as linhas com short estao realmente negativas\n",
    "aux = MES2.copy()"
   ]
  },
  {
   "cell_type": "code",
   "execution_count": 638,
   "metadata": {
    "tags": []
   },
   "outputs": [
    {
     "output_type": "stream",
     "name": "stdout",
     "text": "Wall time: 1.26 s\n"
    }
   ],
   "source": [
    "anomes = 202007\n",
    "\n",
    "\n",
    "%time carteira_pandas,fundo,fundo_cnpj,adm,adm_cnpj,pl,hora_recebimento = parse_html_tudo_int(apelido_fundo,anomes,candidatos=True)"
   ]
  },
  {
   "cell_type": "code",
   "execution_count": 639,
   "metadata": {
    "tags": []
   },
   "outputs": [
    {
     "output_type": "stream",
     "name": "stdout",
     "text": "grupo 3 todos os ativos1 são nulos\ngrupo 4 todos os ativos1 são nulos\n"
    }
   ],
   "source": [
    "carteira_pandas,alfabetico = separa_blocos(carteira_pandas)"
   ]
  },
  {
   "cell_type": "code",
   "execution_count": 117,
   "metadata": {},
   "outputs": [],
   "source": []
  },
  {
   "cell_type": "code",
   "execution_count": 640,
   "metadata": {},
   "outputs": [
    {
     "output_type": "execute_result",
     "data": {
      "text/plain": "{'Cotas de Fundos',\n 'Disponibilidades',\n 'Investimento no Exterior',\n 'Valores a pagar',\n 'Valores a receber'}"
     },
     "metadata": {},
     "execution_count": 640
    }
   ],
   "source": [
    "set(carteira_pandas[carteira_pandas.grupo == 0].ativo1)"
   ]
  },
  {
   "cell_type": "code",
   "execution_count": 641,
   "metadata": {},
   "outputs": [],
   "source": [
    "explodido = explodir(carteira_pandas,alfabetico)"
   ]
  },
  {
   "cell_type": "code",
   "execution_count": 159,
   "metadata": {},
   "outputs": [
    {
     "output_type": "execute_result",
     "data": {
      "text/plain": "202007"
     },
     "metadata": {},
     "execution_count": 159
    }
   ],
   "source": []
  },
  {
   "cell_type": "code",
   "execution_count": 642,
   "metadata": {
    "tags": []
   },
   "outputs": [
    {
     "output_type": "stream",
     "name": "stdout",
     "text": "-------------------ALPK3-------------------\nB3SA3 -110370000.0 \n                                        ativo1  aserestudado  vendas_montante  \\\n325  Ações e outros TVM cedidos em empréstimo      59976717              0.0   \n\n     aquis_montante  pf_valor_mercado  cand_pf_quant           MAX  \\\n325             0.0        2030733400       320103.0  3.201030e+07   \n\n              MIN  \n325  3.201030e+07   \n []\n-------------------BPAC11-------------------\n-------------------ENEV3-------------------\nENGI11 354820300.0 \n                                                  ativo1  aserestudado  \\\n121            Ações e outros TVM cedidos em empréstimo      59976713   \n1117  Certificado ou recibo de depósito de valores m...      59976733   \n\n      vendas_montante  aquis_montante  pf_valor_mercado  cand_pf_quant  \\\n121               0.0             0.0        3659512400       744560.0   \n1117              0.0             0.0       14726534300      2996243.0   \n\n               MAX           MIN  \n121   7.445600e+07  7.445600e+07  \n1117  2.996243e+08  2.996243e+08   \n []\n-------------------EQTL3-------------------\n-------------------GNDI3-------------------\nKLBN11 419520000.0 \n                                                  ativo1  aserestudado  \\\n1283  Certificado ou recibo de depósito de valores m...      59976736   \n1704                                              Ações      59976742   \n\n      vendas_montante  aquis_montante  pf_valor_mercado  cand_pf_quant  \\\n1283              0.0             0.0       16163144400      7823400.0   \n1704              0.0     521969200.0        7476385000      3618773.0   \n\n               MAX           MIN  \n1283  7.823400e+08  7.823400e+08  \n1704  3.380431e+08  3.355551e+08   \n []\n-------------------LAME3-------------------\n-------------------LAME4-------------------\n-------------------LREN3-------------------\nMGLU3 260210000.0 \n                                         ativo1  aserestudado  vendas_montante  \\\n92    Ações e outros TVM cedidos em empréstimo      59976713     0.000000e+00   \n399   Ações e outros TVM cedidos em empréstimo      59976719     0.000000e+00   \n1502                                     Ações      59976740     1.509800e+09   \n\n      aquis_montante  pf_valor_mercado  cand_pf_quant           MAX  \\\n92      0.000000e+00        3659512400       453415.0  4.534150e+07   \n399     0.000000e+00        3495994000       433155.0  4.331550e+07   \n1502    1.381792e+09       17378033200      2153145.0  2.216619e+08   \n\n               MIN  \n92    4.534150e+07  \n399   4.331550e+07  \n1502  2.122445e+08   \n [{92, 1502}, {1502, 399}]\n-------------------NTCO3-------------------\n-------------------PSSA3-------------------\nRADL3 -9610000.0 \n Empty DataFrame\nColumns: [ativo1, aserestudado, vendas_montante, aquis_montante, pf_valor_mercado, cand_pf_quant, MAX, MIN]\nIndex: [] \n []\nRAIL3 318470000.0 \n Empty DataFrame\nColumns: [ativo1, aserestudado, vendas_montante, aquis_montante, pf_valor_mercado, cand_pf_quant, MAX, MIN]\nIndex: [] \n []\n-------------------RENT3-------------------\nSUZB3 319780000.0 \n      ativo1  aserestudado  vendas_montante  aquis_montante  pf_valor_mercado  \\\n2011  Ações      59976749     1.394924e+09     136680900.0        3082073400   \n\n      cand_pf_quant           MAX           MIN  \n2011       733827.0  1.092718e+08  1.019425e+08   \n []\n-------------------TEND3-------------------\n-------------------TOTS3-------------------\n-------------------VIVA3-------------------\n-------------------WEGE3-------------------\n"
    }
   ],
   "source": [
    "MES2 = aux.copy()\n",
    "MES3 = explodido.copy()\n",
    "for ativo in sorted(list({x for x in aux.ativo3 if pd.notna(x)})):\n",
    "    if ativo.upper() not in ('MRSA5B','MRSA3B','MOAR3','EUCA4','USIM6','TIET12','Valores a Pagar'.upper()):\n",
    "        MES3 = teste_fraco(MES2,MES3,ativo,'202007')"
   ]
  },
  {
   "cell_type": "code",
   "execution_count": 675,
   "metadata": {},
   "outputs": [],
   "source": [
    "MES3 = completa('ENGI11',{1117,121  },MES3)\n",
    "MES3 = completa('KLBN11',{1283  },MES3)\n",
    "MES3 = completa('SOMA3',{1829  },MES3)\n",
    "MES3 = completa('BPAC11',{2198  },MES3)\n"
   ]
  },
  {
   "cell_type": "code",
   "execution_count": 557,
   "metadata": {
    "tags": []
   },
   "outputs": [
    {
     "output_type": "stream",
     "name": "stdout",
     "text": "-------------------GGBR3-------------------\n"
    }
   ],
   "source": [
    "MES3 = teste_fraco(MES2,MES3,'GGBR3',str(anomes))"
   ]
  },
  {
   "cell_type": "code",
   "execution_count": 677,
   "metadata": {},
   "outputs": [
    {
     "output_type": "execute_result",
     "data": {
      "text/plain": "Empty DataFrame\nColumns: [ativo3]\nIndex: []",
      "text/html": "<div>\n<style scoped>\n    .dataframe tbody tr th:only-of-type {\n        vertical-align: middle;\n    }\n\n    .dataframe tbody tr th {\n        vertical-align: top;\n    }\n\n    .dataframe thead th {\n        text-align: right;\n    }\n</style>\n<table border=\"1\" class=\"dataframe\">\n  <thead>\n    <tr style=\"text-align: right;\">\n      <th></th>\n      <th>ativo3</th>\n    </tr>\n    <tr>\n      <th>aserestudado</th>\n      <th></th>\n    </tr>\n  </thead>\n  <tbody>\n  </tbody>\n</table>\n</div>"
     },
     "metadata": {},
     "execution_count": 677
    }
   ],
   "source": [
    "CONFUSAO = MES3.groupby(by='aserestudado').count()[['ativo3']]\n",
    "CONFUSAO[CONFUSAO.ativo3>1]"
   ]
  },
  {
   "cell_type": "code",
   "execution_count": 678,
   "metadata": {},
   "outputs": [
    {
     "output_type": "execute_result",
     "data": {
      "text/plain": "Empty DataFrame\nColumns: [ativo3]\nIndex: []",
      "text/html": "<div>\n<style scoped>\n    .dataframe tbody tr th:only-of-type {\n        vertical-align: middle;\n    }\n\n    .dataframe tbody tr th {\n        vertical-align: top;\n    }\n\n    .dataframe thead th {\n        text-align: right;\n    }\n</style>\n<table border=\"1\" class=\"dataframe\">\n  <thead>\n    <tr style=\"text-align: right;\">\n      <th></th>\n      <th>ativo3</th>\n    </tr>\n    <tr>\n      <th>aserestudado</th>\n      <th></th>\n    </tr>\n  </thead>\n  <tbody>\n  </tbody>\n</table>\n</div>"
     },
     "metadata": {},
     "execution_count": 678
    }
   ],
   "source": [
    "#papeis que ele Não achou\n",
    "CONFUSAO = MES3.groupby(by='aserestudado').count()[['ativo3']]\n",
    "CONFUSAO[CONFUSAO.ativo3<1]"
   ]
  },
  {
   "cell_type": "code",
   "execution_count": 679,
   "metadata": {},
   "outputs": [
    {
     "output_type": "execute_result",
     "data": {
      "text/plain": "Empty DataFrame\nColumns: [position, aserestudado, ativo1, ativo2, ativo3, ativo4, classificacao, emp_ligada, vendas_quant, vendas_montante, aquis_quant, aquis_montante, pf_quant, pf_valor_custo, pf_valor_mercado, porcent_partrimonio_liquido, fechado, candidatos, cand_pf_quant, grupo]\nIndex: []",
      "text/html": "<div>\n<style scoped>\n    .dataframe tbody tr th:only-of-type {\n        vertical-align: middle;\n    }\n\n    .dataframe tbody tr th {\n        vertical-align: top;\n    }\n\n    .dataframe thead th {\n        text-align: right;\n    }\n</style>\n<table border=\"1\" class=\"dataframe\">\n  <thead>\n    <tr style=\"text-align: right;\">\n      <th></th>\n      <th>position</th>\n      <th>aserestudado</th>\n      <th>ativo1</th>\n      <th>ativo2</th>\n      <th>ativo3</th>\n      <th>ativo4</th>\n      <th>classificacao</th>\n      <th>emp_ligada</th>\n      <th>vendas_quant</th>\n      <th>vendas_montante</th>\n      <th>aquis_quant</th>\n      <th>aquis_montante</th>\n      <th>pf_quant</th>\n      <th>pf_valor_custo</th>\n      <th>pf_valor_mercado</th>\n      <th>porcent_partrimonio_liquido</th>\n      <th>fechado</th>\n      <th>candidatos</th>\n      <th>cand_pf_quant</th>\n      <th>grupo</th>\n    </tr>\n  </thead>\n  <tbody>\n  </tbody>\n</table>\n</div>"
     },
     "metadata": {},
     "execution_count": 679
    }
   ],
   "source": [
    "nao_achou = MES3[MES3.aserestudado.isin(CONFUSAO[CONFUSAO.ativo3<1].index)]\n",
    "nao_achou"
   ]
  },
  {
   "cell_type": "code",
   "execution_count": 680,
   "metadata": {},
   "outputs": [],
   "source": [
    "#Antes de rodar o filtro_alfabetico preciso me certicicar que não há nenhuma linha com mais de um valor na coluna ativo3, ou seja nenhum aserestudado_com_varios_ativo3, ou seja, que  len(CONFUSAO[CONFUSAO.ativo3>1]) == 0\n",
    "assert len(CONFUSAO[CONFUSAO.ativo3>1]) == 0\n",
    "MES3 = filtro_alfabetico(MES3,alfabetico)\n",
    "fechados_vou_abrir = MES1[~MES1.ativo3.isnull()].index\n",
    "MES1.loc[fechados_vou_abrir,'fechado'] = False"
   ]
  },
  {
   "cell_type": "code",
   "execution_count": 681,
   "metadata": {
    "tags": []
   },
   "outputs": [
    {
     "output_type": "stream",
     "name": "stdout",
     "text": "TRABALHO CONCLUIDO\n"
    }
   ],
   "source": [
    "MES3 = filtro_unico_index(MES3,aserestudado_sem_nenhum_ativo3=list(CONFUSAO[CONFUSAO.ativo3<1].index))\n",
    "#MES2.set_index('index')"
   ]
  },
  {
   "cell_type": "code",
   "execution_count": 649,
   "metadata": {
    "tags": []
   },
   "outputs": [
    {
     "output_type": "stream",
     "name": "stdout",
     "text": "-------------------ALPK3-------------------\nB3SA3 -110370000.0 \n Empty DataFrame\nColumns: [ativo1, aserestudado, vendas_montante, aquis_montante, pf_valor_mercado, cand_pf_quant, MAX, MIN]\nIndex: [] \n []\n-------------------BPAC11-------------------\n-------------------ENEV3-------------------\nENGI11 354820300.0 \n                                                  ativo1  aserestudado  \\\n121            Ações e outros TVM cedidos em empréstimo      59976713   \n1117  Certificado ou recibo de depósito de valores m...      59976733   \n\n      vendas_montante  aquis_montante  pf_valor_mercado  cand_pf_quant  \\\n121               0.0             0.0        3659512400       744560.0   \n1117              0.0             0.0       14726534300      2996243.0   \n\n               MAX           MIN  \n121   7.445600e+07  7.445600e+07  \n1117  2.996243e+08  2.996243e+08   \n []\n-------------------EQTL3-------------------\n-------------------GNDI3-------------------\nKLBN11 419520000.0 \n                                                  ativo1  aserestudado  \\\n1283  Certificado ou recibo de depósito de valores m...      59976736   \n\n      vendas_montante  aquis_montante  pf_valor_mercado  cand_pf_quant  \\\n1283              0.0             0.0       16163144400      7823400.0   \n\n               MAX           MIN  \n1283  7.823400e+08  7.823400e+08   \n []\n-------------------LAME3-------------------\n-------------------LAME4-------------------\n-------------------LREN3-------------------\n-------------------MGLU3-------------------\n-------------------NTCO3-------------------\n-------------------PSSA3-------------------\nRADL3 -9610000.0 \n Empty DataFrame\nColumns: [ativo1, aserestudado, vendas_montante, aquis_montante, pf_valor_mercado, cand_pf_quant, MAX, MIN]\nIndex: [] \n []\nRAIL3 318470000.0 \n Empty DataFrame\nColumns: [ativo1, aserestudado, vendas_montante, aquis_montante, pf_valor_mercado, cand_pf_quant, MAX, MIN]\nIndex: [] \n []\n-------------------RENT3-------------------\nSUZB3 319780000.0 \n Empty DataFrame\nColumns: [ativo1, aserestudado, vendas_montante, aquis_montante, pf_valor_mercado, cand_pf_quant, MAX, MIN]\nIndex: [] \n []\n-------------------TEND3-------------------\n-------------------TOTS3-------------------\n-------------------VIVA3-------------------\n-------------------WEGE3-------------------\n"
    }
   ],
   "source": [
    "for ativo in sorted(list({x for x in aux.ativo3 if pd.notna(x)})):\n",
    "    if ativo.upper() not in ('MRSA5B','MRSA3B','MOAR3','EUCA4','USIM6','TIET12','Valores a Pagar'.upper()):\n",
    "        MES3 = teste_fraco(MES2,MES3,ativo,'202007')"
   ]
  },
  {
   "cell_type": "code",
   "execution_count": 650,
   "metadata": {},
   "outputs": [],
   "source": [
    "#MES3[MES3.aserestudado==60010409]"
   ]
  },
  {
   "cell_type": "code",
   "execution_count": 666,
   "metadata": {
    "tags": []
   },
   "outputs": [
    {
     "output_type": "stream",
     "name": "stdout",
     "text": "-------------------ALPA4-------------------\n"
    }
   ],
   "source": [
    "MES3 =teste_fraco(MES2,MES3,'ALPA4','202007')"
   ]
  },
  {
   "cell_type": "code",
   "execution_count": 668,
   "metadata": {
    "tags": []
   },
   "outputs": [],
   "source": []
  },
  {
   "cell_type": "code",
   "execution_count": 542,
   "metadata": {
    "tags": []
   },
   "outputs": [
    {
     "output_type": "stream",
     "name": "stdout",
     "text": "-------------------BBAS3-------------------\n-------------------ETER9-------------------\nEUCA4 0 \n     ativo1  aserestudado  vendas_montante  aquis_montante  pf_valor_mercado  \\\n643  Ações      60010409       12782800.0     258724300.0         273975000   \n\n     cand_pf_quant           MAX           MIN  \n643         434881  8.868149e+06  3.232250e+06   \n []\nFLMA11 0 \n     ativo1  aserestudado  vendas_montante  aquis_montante  pf_valor_mercado  \\\n648  Ações      60010409       12782800.0     258724300.0         273975000   \n\n     cand_pf_quant           MAX           MIN  \n648         910216  1.845885e+07  4.991139e+06   \n []\nGDBR34 0 \n     ativo1  aserestudado  vendas_montante  aquis_montante  pf_valor_mercado  \\\n642  Ações      60010409       12782800.0     258724300.0         273975000   \n\n     cand_pf_quant           MAX           MIN  \n642           3653  57374.707627  36389.903052   \n []\n-------------------GGBR3-------------------\n-------------------GOAU4-------------------\nGOLL11 0 \n     ativo1  aserestudado  vendas_montante  aquis_montante  pf_valor_mercado  \\\n645  Ações      60010409       12782800.0     258724300.0         273975000   \n\n     cand_pf_quant           MAX           MIN  \n645         449877  1.833906e+07  3.288843e+06   \n []\nGOLL12 0 \n     ativo1  aserestudado  vendas_montante  aquis_montante  pf_valor_mercado  \\\n617  Ações      60010409       12782800.0     258724300.0         273975000   \n\n     cand_pf_quant           MAX           MIN  \n617         226052  5.179594e+06  2.171358e+06   \n []\n-------------------GSFI11-------------------\nH1BA34 0 \n     ativo1  aserestudado  vendas_montante  aquis_montante  pf_valor_mercado  \\\n615  Ações      60010409       12782800.0     258724300.0         273975000   \n\n     cand_pf_quant            MAX            MIN  \n615          54795  563569.762362  502057.314725   \n []\nHOOT4 0 \n     ativo1  aserestudado  vendas_montante  aquis_montante  pf_valor_mercado  \\\n596  Ações      60010409       12782800.0     258724300.0         273975000   \n\n     cand_pf_quant           MAX           MIN  \n596        1033868  2.685072e+07  9.774692e+06   \n []\n-------------------HRDF11-------------------\n"
    }
   ],
   "source": [
    "for k in nao_achou.aserestudado.unique():\n",
    "    for cand in MES3[MES3.aserestudado==k].candidatos.values:\n",
    "        teste_fraco(MES2,MES3,cand,'202007')"
   ]
  },
  {
   "cell_type": "code",
   "execution_count": 189,
   "metadata": {
    "tags": []
   },
   "outputs": [
    {
     "output_type": "stream",
     "name": "stdout",
     "text": "-------------------RADL3-------------------\n"
    }
   ],
   "source": [
    "MES3 = teste_fraco(MES2,MES3,'RADL3','202007')"
   ]
  },
  {
   "cell_type": "code",
   "execution_count": 682,
   "metadata": {},
   "outputs": [],
   "source": [
    "#MES0.to_csv('excel_fundos\\\\'+apelido_fundo+'\\\\'+str(202004)+'.xls',sep='\\t',decimal= '.')"
   ]
  },
  {
   "cell_type": "code",
   "execution_count": 683,
   "metadata": {},
   "outputs": [],
   "source": [
    "#MES1.to_csv('excel_fundos\\\\'+apelido_fundo+'\\\\'+str(202005)+'.xls',sep='\\t',decimal= '.')"
   ]
  },
  {
   "cell_type": "code",
   "execution_count": 684,
   "metadata": {},
   "outputs": [],
   "source": [
    "#MES2.to_csv('excel_fundos\\\\'+apelido_fundo+'\\\\'+str(202006)+'.xls',sep='\\t',decimal= '.')"
   ]
  },
  {
   "cell_type": "code",
   "execution_count": 685,
   "metadata": {},
   "outputs": [],
   "source": [
    "#MES3.to_csv('excel_fundos\\\\'+apelido_fundo+'\\\\'+str(202007)+'.xls',sep='\\t',decimal= '.')"
   ]
  },
  {
   "cell_type": "code",
   "execution_count": 356,
   "metadata": {},
   "outputs": [
    {
     "output_type": "execute_result",
     "data": {
      "text/plain": "''"
     },
     "metadata": {},
     "execution_count": 356
    }
   ],
   "source": []
  },
  {
   "cell_type": "code",
   "execution_count": 698,
   "metadata": {
    "tags": []
   },
   "outputs": [
    {
     "output_type": "stream",
     "name": "stdout",
     "text": "Wall time: 1.23 s\n"
    }
   ],
   "source": [
    "anomes = 202005\n",
    "\n",
    "%time carteira_pandas,fundo,fundo_cnpj,adm,adm_cnpj,pl,hora_recebimento = parse_html_tudo_int(apelido_fundo,anomes,candidatos=False)"
   ]
  },
  {
   "cell_type": "code",
   "execution_count": 695,
   "metadata": {},
   "outputs": [],
   "source": [
    "assert len(MES1.aserestudado) == len(set(MES1.aserestudado))\n",
    "for i,row in MES1.iterrows():\n",
    "    assert carteira_pandas.loc[row['position'],'aserestudado'] == row['aserestudado']\n",
    "    carteira_pandas.loc[row['position'],'ativo3'] = row['ativo3']\n",
    "    carteira_pandas.loc[row['position'],'pf_quant'] = row['pf_quant']\n",
    "\n",
    "    preco = precos(str(anomes),row['ativo3'])\n",
    "    fechamento_1 = preco.sort_values(by='DATA',ascending=False).iloc[0,10]\n",
    "    sinal = carteira_pandas.loc[row['position'],'pf_valor_mercado']/abs(carteira_pandas.loc[row['position'],'pf_valor_mercado'])\n",
    "    carteira_pandas.loc[row['position'],'pf_valor_mercado'] = sinal*int(round(100*row['pf_quant']*fechamento_1))\n",
    "carteira_pandas.porcent_partrimonio_liquido = carteira_pandas.pf_valor_mercado/float(pl)"
   ]
  },
  {
   "cell_type": "code",
   "execution_count": 696,
   "metadata": {},
   "outputs": [],
   "source": [
    "carteira_pandas.to_csv('excel_fundos\\\\'+apelido_fundo+'\\\\'+str(anomes)+'.xls',sep='\\t',decimal= '.')"
   ]
  },
  {
   "cell_type": "code",
   "execution_count": 689,
   "metadata": {},
   "outputs": [
    {
     "output_type": "execute_result",
     "data": {
      "text/plain": "'5340155776.20'"
     },
     "metadata": {},
     "execution_count": 689
    }
   ],
   "source": [
    "pl"
   ]
  },
  {
   "cell_type": "code",
   "execution_count": null,
   "metadata": {},
   "outputs": [],
   "source": []
  }
 ],
 "metadata": {
  "kernelspec": {
   "display_name": "Python 3",
   "language": "python",
   "name": "python3"
  },
  "language_info": {
   "codemirror_mode": {
    "name": "ipython",
    "version": 3
   },
   "file_extension": ".py",
   "mimetype": "text/x-python",
   "name": "python",
   "nbconvert_exporter": "python",
   "pygments_lexer": "ipython3",
   "version": "3.6.3-final"
  }
 },
 "nbformat": 4,
 "nbformat_minor": 4
}